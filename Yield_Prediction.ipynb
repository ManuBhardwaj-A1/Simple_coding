{
  "nbformat": 4,
  "nbformat_minor": 0,
  "metadata": {
    "colab": {
      "name": "Yield-Prediction.ipynb",
      "provenance": [],
      "collapsed_sections": [
        "gICh1IqOCslF",
        "m739eEE20dev",
        "ZWPdFJhwif9X",
        "I_viM345p0qr",
        "bfkBFYYk0id8",
        "Zwt3qFL4uY5w",
        "zLMa9ocB7C9F",
        "j50tyMsyAnTd"
      ],
      "toc_visible": true,
      "include_colab_link": true
    },
    "kernelspec": {
      "name": "python3",
      "display_name": "Python 3"
    }
  },
  "cells": [
    {
      "cell_type": "markdown",
      "metadata": {
        "id": "view-in-github",
        "colab_type": "text"
      },
      "source": [
        "<a href=\"https://colab.research.google.com/github/ManuBhardwaj-A1/Simple_coding/blob/main/Yield_Prediction.ipynb\" target=\"_parent\"><img src=\"https://colab.research.google.com/assets/colab-badge.svg\" alt=\"Open In Colab\"/></a>"
      ]
    },
    {
      "cell_type": "markdown",
      "metadata": {
        "id": "gICh1IqOCslF"
      },
      "source": [
        "# General"
      ]
    },
    {
      "cell_type": "code",
      "metadata": {
        "id": "_5JPwoqvpEg0"
      },
      "source": [
        "# Imports\n",
        "import numpy as np\n",
        "import pandas as pd\n",
        "\n",
        "import sklearn\n",
        "import seaborn as sns\n",
        "import matplotlib.pyplot as plt"
      ],
      "execution_count": 85,
      "outputs": []
    },
    {
      "cell_type": "code",
      "metadata": {
        "id": "i7ilD5PoNpL8"
      },
      "source": [
        "# Define url to data\n",
        "resource_folder = 'https://raw.githubusercontent.com/Drinkler/Yield-Prediction/main/res'\n",
        "\n",
        "pesticides_url = '{}/pesticides.csv?token=AEEE4P7JUYWTGUEXQFQFP6TAN4NLQ'.format(resource_folder)\n",
        "rainfall_url = '{}/rainfall.csv?token=AEEE4P6QEF6CK5DAD7EOWP3AN4NLU'.format(resource_folder)\n",
        "temperature_url = '{}/temp.csv?token=AEEE4P5INYQIFOKMOSCRDP3AN4NLW'.format(resource_folder)\n",
        "yield_url = '{}/yield.csv?token=AEEE4PYVSV3JAZO4CSXFA43AN4NL2'.format(resource_folder)"
      ],
      "execution_count": 86,
      "outputs": []
    },
    {
      "cell_type": "code",
      "metadata": {
        "id": "DaGEgUcnpFrc",
        "colab": {
          "base_uri": "https://localhost:8080/"
        },
        "outputId": "d0e618a8-32ea-440a-c073-565cc0ec0c86"
      },
      "source": [
        "# Load data\n",
        "pesticides_data = pd.read_csv(pesticides_url, sep=',')\n",
        "rainfall_data = pd.read_csv(rainfall_url, sep=', ')\n",
        "temperature_data = pd.read_csv(temperature_url, sep=', ')\n",
        "yield_data = pd.read_csv(yield_url, sep=',')"
      ],
      "execution_count": 87,
      "outputs": [
        {
          "output_type": "stream",
          "name": "stderr",
          "text": [
            "/usr/local/lib/python3.7/dist-packages/ipykernel_launcher.py:3: ParserWarning: Falling back to the 'python' engine because the 'c' engine does not support regex separators (separators > 1 char and different from '\\s+' are interpreted as regex); you can avoid this warning by specifying engine='python'.\n",
            "  This is separate from the ipykernel package so we can avoid doing imports until\n",
            "/usr/local/lib/python3.7/dist-packages/ipykernel_launcher.py:4: ParserWarning: Falling back to the 'python' engine because the 'c' engine does not support regex separators (separators > 1 char and different from '\\s+' are interpreted as regex); you can avoid this warning by specifying engine='python'.\n",
            "  after removing the cwd from sys.path.\n"
          ]
        }
      ]
    },
    {
      "cell_type": "markdown",
      "metadata": {
        "id": "m739eEE20dev"
      },
      "source": [
        "#Data Preparation\n"
      ]
    },
    {
      "cell_type": "markdown",
      "metadata": {
        "id": "ZWPdFJhwif9X"
      },
      "source": [
        "## Rainfall data"
      ]
    },
    {
      "cell_type": "code",
      "metadata": {
        "colab": {
          "base_uri": "https://localhost:8080/",
          "height": 0
        },
        "id": "wY67XxF40IC5",
        "outputId": "cae1ffd6-2587-495a-ef53-89a2aa6e4833"
      },
      "source": [
        "rainfall_data"
      ],
      "execution_count": 88,
      "outputs": [
        {
          "output_type": "execute_result",
          "data": {
            "text/html": [
              "\n",
              "  <div id=\"df-a3190582-c943-47c7-a857-913303ba49e1\">\n",
              "    <div class=\"colab-df-container\">\n",
              "      <div>\n",
              "<style scoped>\n",
              "    .dataframe tbody tr th:only-of-type {\n",
              "        vertical-align: middle;\n",
              "    }\n",
              "\n",
              "    .dataframe tbody tr th {\n",
              "        vertical-align: top;\n",
              "    }\n",
              "\n",
              "    .dataframe thead th {\n",
              "        text-align: right;\n",
              "    }\n",
              "</style>\n",
              "<table border=\"1\" class=\"dataframe\">\n",
              "  <thead>\n",
              "    <tr style=\"text-align: right;\">\n",
              "      <th></th>\n",
              "      <th>Rainfall - (MM)</th>\n",
              "      <th>Year</th>\n",
              "      <th>Statistics</th>\n",
              "      <th>Country</th>\n",
              "      <th>ISO3</th>\n",
              "    </tr>\n",
              "  </thead>\n",
              "  <tbody>\n",
              "    <tr>\n",
              "      <th>0</th>\n",
              "      <td>55.74480</td>\n",
              "      <td>1901</td>\n",
              "      <td>Jan Average</td>\n",
              "      <td>Afghanistan</td>\n",
              "      <td>AFG</td>\n",
              "    </tr>\n",
              "    <tr>\n",
              "      <th>1</th>\n",
              "      <td>13.94800</td>\n",
              "      <td>1901</td>\n",
              "      <td>Feb Average</td>\n",
              "      <td>Afghanistan</td>\n",
              "      <td>AFG</td>\n",
              "    </tr>\n",
              "    <tr>\n",
              "      <th>2</th>\n",
              "      <td>43.84640</td>\n",
              "      <td>1901</td>\n",
              "      <td>Mar Average</td>\n",
              "      <td>Afghanistan</td>\n",
              "      <td>AFG</td>\n",
              "    </tr>\n",
              "    <tr>\n",
              "      <th>3</th>\n",
              "      <td>26.96100</td>\n",
              "      <td>1901</td>\n",
              "      <td>Apr Average</td>\n",
              "      <td>Afghanistan</td>\n",
              "      <td>AFG</td>\n",
              "    </tr>\n",
              "    <tr>\n",
              "      <th>4</th>\n",
              "      <td>52.95790</td>\n",
              "      <td>1901</td>\n",
              "      <td>May Average</td>\n",
              "      <td>Afghanistan</td>\n",
              "      <td>AFG</td>\n",
              "    </tr>\n",
              "    <tr>\n",
              "      <th>...</th>\n",
              "      <td>...</td>\n",
              "      <td>...</td>\n",
              "      <td>...</td>\n",
              "      <td>...</td>\n",
              "      <td>...</td>\n",
              "    </tr>\n",
              "    <tr>\n",
              "      <th>272827</th>\n",
              "      <td>2.03926</td>\n",
              "      <td>2016</td>\n",
              "      <td>Aug Average</td>\n",
              "      <td>Zimbabwe</td>\n",
              "      <td>ZWE</td>\n",
              "    </tr>\n",
              "    <tr>\n",
              "      <th>272828</th>\n",
              "      <td>0.48070</td>\n",
              "      <td>2016</td>\n",
              "      <td>Sep Average</td>\n",
              "      <td>Zimbabwe</td>\n",
              "      <td>ZWE</td>\n",
              "    </tr>\n",
              "    <tr>\n",
              "      <th>272829</th>\n",
              "      <td>9.13410</td>\n",
              "      <td>2016</td>\n",
              "      <td>Oct Average</td>\n",
              "      <td>Zimbabwe</td>\n",
              "      <td>ZWE</td>\n",
              "    </tr>\n",
              "    <tr>\n",
              "      <th>272830</th>\n",
              "      <td>72.95080</td>\n",
              "      <td>2016</td>\n",
              "      <td>Nov Average</td>\n",
              "      <td>Zimbabwe</td>\n",
              "      <td>ZWE</td>\n",
              "    </tr>\n",
              "    <tr>\n",
              "      <th>272831</th>\n",
              "      <td>148.26800</td>\n",
              "      <td>2016</td>\n",
              "      <td>Dec Average</td>\n",
              "      <td>Zimbabwe</td>\n",
              "      <td>ZWE</td>\n",
              "    </tr>\n",
              "  </tbody>\n",
              "</table>\n",
              "<p>272832 rows × 5 columns</p>\n",
              "</div>\n",
              "      <button class=\"colab-df-convert\" onclick=\"convertToInteractive('df-a3190582-c943-47c7-a857-913303ba49e1')\"\n",
              "              title=\"Convert this dataframe to an interactive table.\"\n",
              "              style=\"display:none;\">\n",
              "        \n",
              "  <svg xmlns=\"http://www.w3.org/2000/svg\" height=\"24px\"viewBox=\"0 0 24 24\"\n",
              "       width=\"24px\">\n",
              "    <path d=\"M0 0h24v24H0V0z\" fill=\"none\"/>\n",
              "    <path d=\"M18.56 5.44l.94 2.06.94-2.06 2.06-.94-2.06-.94-.94-2.06-.94 2.06-2.06.94zm-11 1L8.5 8.5l.94-2.06 2.06-.94-2.06-.94L8.5 2.5l-.94 2.06-2.06.94zm10 10l.94 2.06.94-2.06 2.06-.94-2.06-.94-.94-2.06-.94 2.06-2.06.94z\"/><path d=\"M17.41 7.96l-1.37-1.37c-.4-.4-.92-.59-1.43-.59-.52 0-1.04.2-1.43.59L10.3 9.45l-7.72 7.72c-.78.78-.78 2.05 0 2.83L4 21.41c.39.39.9.59 1.41.59.51 0 1.02-.2 1.41-.59l7.78-7.78 2.81-2.81c.8-.78.8-2.07 0-2.86zM5.41 20L4 18.59l7.72-7.72 1.47 1.35L5.41 20z\"/>\n",
              "  </svg>\n",
              "      </button>\n",
              "      \n",
              "  <style>\n",
              "    .colab-df-container {\n",
              "      display:flex;\n",
              "      flex-wrap:wrap;\n",
              "      gap: 12px;\n",
              "    }\n",
              "\n",
              "    .colab-df-convert {\n",
              "      background-color: #E8F0FE;\n",
              "      border: none;\n",
              "      border-radius: 50%;\n",
              "      cursor: pointer;\n",
              "      display: none;\n",
              "      fill: #1967D2;\n",
              "      height: 32px;\n",
              "      padding: 0 0 0 0;\n",
              "      width: 32px;\n",
              "    }\n",
              "\n",
              "    .colab-df-convert:hover {\n",
              "      background-color: #E2EBFA;\n",
              "      box-shadow: 0px 1px 2px rgba(60, 64, 67, 0.3), 0px 1px 3px 1px rgba(60, 64, 67, 0.15);\n",
              "      fill: #174EA6;\n",
              "    }\n",
              "\n",
              "    [theme=dark] .colab-df-convert {\n",
              "      background-color: #3B4455;\n",
              "      fill: #D2E3FC;\n",
              "    }\n",
              "\n",
              "    [theme=dark] .colab-df-convert:hover {\n",
              "      background-color: #434B5C;\n",
              "      box-shadow: 0px 1px 3px 1px rgba(0, 0, 0, 0.15);\n",
              "      filter: drop-shadow(0px 1px 2px rgba(0, 0, 0, 0.3));\n",
              "      fill: #FFFFFF;\n",
              "    }\n",
              "  </style>\n",
              "\n",
              "      <script>\n",
              "        const buttonEl =\n",
              "          document.querySelector('#df-a3190582-c943-47c7-a857-913303ba49e1 button.colab-df-convert');\n",
              "        buttonEl.style.display =\n",
              "          google.colab.kernel.accessAllowed ? 'block' : 'none';\n",
              "\n",
              "        async function convertToInteractive(key) {\n",
              "          const element = document.querySelector('#df-a3190582-c943-47c7-a857-913303ba49e1');\n",
              "          const dataTable =\n",
              "            await google.colab.kernel.invokeFunction('convertToInteractive',\n",
              "                                                     [key], {});\n",
              "          if (!dataTable) return;\n",
              "\n",
              "          const docLinkHtml = 'Like what you see? Visit the ' +\n",
              "            '<a target=\"_blank\" href=https://colab.research.google.com/notebooks/data_table.ipynb>data table notebook</a>'\n",
              "            + ' to learn more about interactive tables.';\n",
              "          element.innerHTML = '';\n",
              "          dataTable['output_type'] = 'display_data';\n",
              "          await google.colab.output.renderOutput(dataTable, element);\n",
              "          const docLink = document.createElement('div');\n",
              "          docLink.innerHTML = docLinkHtml;\n",
              "          element.appendChild(docLink);\n",
              "        }\n",
              "      </script>\n",
              "    </div>\n",
              "  </div>\n",
              "  "
            ],
            "text/plain": [
              "        Rainfall - (MM)  Year   Statistics      Country ISO3\n",
              "0              55.74480  1901  Jan Average  Afghanistan  AFG\n",
              "1              13.94800  1901  Feb Average  Afghanistan  AFG\n",
              "2              43.84640  1901  Mar Average  Afghanistan  AFG\n",
              "3              26.96100  1901  Apr Average  Afghanistan  AFG\n",
              "4              52.95790  1901  May Average  Afghanistan  AFG\n",
              "...                 ...   ...          ...          ...  ...\n",
              "272827          2.03926  2016  Aug Average     Zimbabwe  ZWE\n",
              "272828          0.48070  2016  Sep Average     Zimbabwe  ZWE\n",
              "272829          9.13410  2016  Oct Average     Zimbabwe  ZWE\n",
              "272830         72.95080  2016  Nov Average     Zimbabwe  ZWE\n",
              "272831        148.26800  2016  Dec Average     Zimbabwe  ZWE\n",
              "\n",
              "[272832 rows x 5 columns]"
            ]
          },
          "metadata": {},
          "execution_count": 88
        }
      ]
    },
    {
      "cell_type": "code",
      "metadata": {
        "id": "XgYcmd_nc0M1",
        "colab": {
          "base_uri": "https://localhost:8080/"
        },
        "outputId": "8363e9bf-9997-45fd-d71b-4f9d4c9d5205"
      },
      "source": [
        "rainfall_data.info()"
      ],
      "execution_count": 89,
      "outputs": [
        {
          "output_type": "stream",
          "name": "stdout",
          "text": [
            "<class 'pandas.core.frame.DataFrame'>\n",
            "RangeIndex: 272832 entries, 0 to 272831\n",
            "Data columns (total 5 columns):\n",
            " #   Column           Non-Null Count   Dtype  \n",
            "---  ------           --------------   -----  \n",
            " 0   Rainfall - (MM)  272832 non-null  float64\n",
            " 1   Year             272832 non-null  int64  \n",
            " 2   Statistics       272832 non-null  object \n",
            " 3   Country          272832 non-null  object \n",
            " 4   ISO3             272832 non-null  object \n",
            "dtypes: float64(1), int64(1), object(3)\n",
            "memory usage: 10.4+ MB\n"
          ]
        }
      ]
    },
    {
      "cell_type": "code",
      "metadata": {
        "id": "S8aspJrItqdj",
        "colab": {
          "base_uri": "https://localhost:8080/",
          "height": 0
        },
        "outputId": "b401de68-5c82-41c7-85c5-1a65473be6ec"
      },
      "source": [
        "rainfall_data.describe()"
      ],
      "execution_count": 90,
      "outputs": [
        {
          "output_type": "execute_result",
          "data": {
            "text/html": [
              "\n",
              "  <div id=\"df-fac215cb-2015-46cc-94c0-c92cdb8d2217\">\n",
              "    <div class=\"colab-df-container\">\n",
              "      <div>\n",
              "<style scoped>\n",
              "    .dataframe tbody tr th:only-of-type {\n",
              "        vertical-align: middle;\n",
              "    }\n",
              "\n",
              "    .dataframe tbody tr th {\n",
              "        vertical-align: top;\n",
              "    }\n",
              "\n",
              "    .dataframe thead th {\n",
              "        text-align: right;\n",
              "    }\n",
              "</style>\n",
              "<table border=\"1\" class=\"dataframe\">\n",
              "  <thead>\n",
              "    <tr style=\"text-align: right;\">\n",
              "      <th></th>\n",
              "      <th>Rainfall - (MM)</th>\n",
              "      <th>Year</th>\n",
              "    </tr>\n",
              "  </thead>\n",
              "  <tbody>\n",
              "    <tr>\n",
              "      <th>count</th>\n",
              "      <td>272832.000000</td>\n",
              "      <td>272832.000000</td>\n",
              "    </tr>\n",
              "    <tr>\n",
              "      <th>mean</th>\n",
              "      <td>103.470868</td>\n",
              "      <td>1958.500000</td>\n",
              "    </tr>\n",
              "    <tr>\n",
              "      <th>std</th>\n",
              "      <td>113.231867</td>\n",
              "      <td>33.485133</td>\n",
              "    </tr>\n",
              "    <tr>\n",
              "      <th>min</th>\n",
              "      <td>0.000000</td>\n",
              "      <td>1901.000000</td>\n",
              "    </tr>\n",
              "    <tr>\n",
              "      <th>25%</th>\n",
              "      <td>24.168375</td>\n",
              "      <td>1929.750000</td>\n",
              "    </tr>\n",
              "    <tr>\n",
              "      <th>50%</th>\n",
              "      <td>66.431550</td>\n",
              "      <td>1958.500000</td>\n",
              "    </tr>\n",
              "    <tr>\n",
              "      <th>75%</th>\n",
              "      <td>149.647250</td>\n",
              "      <td>1987.250000</td>\n",
              "    </tr>\n",
              "    <tr>\n",
              "      <th>max</th>\n",
              "      <td>2699.190000</td>\n",
              "      <td>2016.000000</td>\n",
              "    </tr>\n",
              "  </tbody>\n",
              "</table>\n",
              "</div>\n",
              "      <button class=\"colab-df-convert\" onclick=\"convertToInteractive('df-fac215cb-2015-46cc-94c0-c92cdb8d2217')\"\n",
              "              title=\"Convert this dataframe to an interactive table.\"\n",
              "              style=\"display:none;\">\n",
              "        \n",
              "  <svg xmlns=\"http://www.w3.org/2000/svg\" height=\"24px\"viewBox=\"0 0 24 24\"\n",
              "       width=\"24px\">\n",
              "    <path d=\"M0 0h24v24H0V0z\" fill=\"none\"/>\n",
              "    <path d=\"M18.56 5.44l.94 2.06.94-2.06 2.06-.94-2.06-.94-.94-2.06-.94 2.06-2.06.94zm-11 1L8.5 8.5l.94-2.06 2.06-.94-2.06-.94L8.5 2.5l-.94 2.06-2.06.94zm10 10l.94 2.06.94-2.06 2.06-.94-2.06-.94-.94-2.06-.94 2.06-2.06.94z\"/><path d=\"M17.41 7.96l-1.37-1.37c-.4-.4-.92-.59-1.43-.59-.52 0-1.04.2-1.43.59L10.3 9.45l-7.72 7.72c-.78.78-.78 2.05 0 2.83L4 21.41c.39.39.9.59 1.41.59.51 0 1.02-.2 1.41-.59l7.78-7.78 2.81-2.81c.8-.78.8-2.07 0-2.86zM5.41 20L4 18.59l7.72-7.72 1.47 1.35L5.41 20z\"/>\n",
              "  </svg>\n",
              "      </button>\n",
              "      \n",
              "  <style>\n",
              "    .colab-df-container {\n",
              "      display:flex;\n",
              "      flex-wrap:wrap;\n",
              "      gap: 12px;\n",
              "    }\n",
              "\n",
              "    .colab-df-convert {\n",
              "      background-color: #E8F0FE;\n",
              "      border: none;\n",
              "      border-radius: 50%;\n",
              "      cursor: pointer;\n",
              "      display: none;\n",
              "      fill: #1967D2;\n",
              "      height: 32px;\n",
              "      padding: 0 0 0 0;\n",
              "      width: 32px;\n",
              "    }\n",
              "\n",
              "    .colab-df-convert:hover {\n",
              "      background-color: #E2EBFA;\n",
              "      box-shadow: 0px 1px 2px rgba(60, 64, 67, 0.3), 0px 1px 3px 1px rgba(60, 64, 67, 0.15);\n",
              "      fill: #174EA6;\n",
              "    }\n",
              "\n",
              "    [theme=dark] .colab-df-convert {\n",
              "      background-color: #3B4455;\n",
              "      fill: #D2E3FC;\n",
              "    }\n",
              "\n",
              "    [theme=dark] .colab-df-convert:hover {\n",
              "      background-color: #434B5C;\n",
              "      box-shadow: 0px 1px 3px 1px rgba(0, 0, 0, 0.15);\n",
              "      filter: drop-shadow(0px 1px 2px rgba(0, 0, 0, 0.3));\n",
              "      fill: #FFFFFF;\n",
              "    }\n",
              "  </style>\n",
              "\n",
              "      <script>\n",
              "        const buttonEl =\n",
              "          document.querySelector('#df-fac215cb-2015-46cc-94c0-c92cdb8d2217 button.colab-df-convert');\n",
              "        buttonEl.style.display =\n",
              "          google.colab.kernel.accessAllowed ? 'block' : 'none';\n",
              "\n",
              "        async function convertToInteractive(key) {\n",
              "          const element = document.querySelector('#df-fac215cb-2015-46cc-94c0-c92cdb8d2217');\n",
              "          const dataTable =\n",
              "            await google.colab.kernel.invokeFunction('convertToInteractive',\n",
              "                                                     [key], {});\n",
              "          if (!dataTable) return;\n",
              "\n",
              "          const docLinkHtml = 'Like what you see? Visit the ' +\n",
              "            '<a target=\"_blank\" href=https://colab.research.google.com/notebooks/data_table.ipynb>data table notebook</a>'\n",
              "            + ' to learn more about interactive tables.';\n",
              "          element.innerHTML = '';\n",
              "          dataTable['output_type'] = 'display_data';\n",
              "          await google.colab.output.renderOutput(dataTable, element);\n",
              "          const docLink = document.createElement('div');\n",
              "          docLink.innerHTML = docLinkHtml;\n",
              "          element.appendChild(docLink);\n",
              "        }\n",
              "      </script>\n",
              "    </div>\n",
              "  </div>\n",
              "  "
            ],
            "text/plain": [
              "       Rainfall - (MM)           Year\n",
              "count    272832.000000  272832.000000\n",
              "mean        103.470868    1958.500000\n",
              "std         113.231867      33.485133\n",
              "min           0.000000    1901.000000\n",
              "25%          24.168375    1929.750000\n",
              "50%          66.431550    1958.500000\n",
              "75%         149.647250    1987.250000\n",
              "max        2699.190000    2016.000000"
            ]
          },
          "metadata": {},
          "execution_count": 90
        }
      ]
    },
    {
      "cell_type": "code",
      "metadata": {
        "id": "Pcn0wAV9rNYq",
        "colab": {
          "base_uri": "https://localhost:8080/"
        },
        "outputId": "4483162a-db11-4228-ba42-d08270a01c49"
      },
      "source": [
        "# Number of countries\n",
        "len(rainfall_data['Country'].unique())"
      ],
      "execution_count": 91,
      "outputs": [
        {
          "output_type": "execute_result",
          "data": {
            "text/plain": [
              "196"
            ]
          },
          "metadata": {},
          "execution_count": 91
        }
      ]
    },
    {
      "cell_type": "code",
      "metadata": {
        "id": "bJj-REL_rWyA",
        "colab": {
          "base_uri": "https://localhost:8080/"
        },
        "outputId": "081e6f36-9793-4a6a-afee-3b3ce106496d"
      },
      "source": [
        "# Number of years (1901 - 2016)\n",
        "len(rainfall_data['Year'].unique())"
      ],
      "execution_count": 92,
      "outputs": [
        {
          "output_type": "execute_result",
          "data": {
            "text/plain": [
              "116"
            ]
          },
          "metadata": {},
          "execution_count": 92
        }
      ]
    },
    {
      "cell_type": "code",
      "metadata": {
        "id": "50c0_t6RpgpW",
        "colab": {
          "base_uri": "https://localhost:8080/",
          "height": 0
        },
        "outputId": "1978f349-7454-4424-e930-d70da8c8759f"
      },
      "source": [
        "# One year from Afghanistan\n",
        "rainfall_data.head(12)"
      ],
      "execution_count": 93,
      "outputs": [
        {
          "output_type": "execute_result",
          "data": {
            "text/html": [
              "\n",
              "  <div id=\"df-adf2c20a-2793-4079-b151-6dd3cc93e635\">\n",
              "    <div class=\"colab-df-container\">\n",
              "      <div>\n",
              "<style scoped>\n",
              "    .dataframe tbody tr th:only-of-type {\n",
              "        vertical-align: middle;\n",
              "    }\n",
              "\n",
              "    .dataframe tbody tr th {\n",
              "        vertical-align: top;\n",
              "    }\n",
              "\n",
              "    .dataframe thead th {\n",
              "        text-align: right;\n",
              "    }\n",
              "</style>\n",
              "<table border=\"1\" class=\"dataframe\">\n",
              "  <thead>\n",
              "    <tr style=\"text-align: right;\">\n",
              "      <th></th>\n",
              "      <th>Rainfall - (MM)</th>\n",
              "      <th>Year</th>\n",
              "      <th>Statistics</th>\n",
              "      <th>Country</th>\n",
              "      <th>ISO3</th>\n",
              "    </tr>\n",
              "  </thead>\n",
              "  <tbody>\n",
              "    <tr>\n",
              "      <th>0</th>\n",
              "      <td>55.74480</td>\n",
              "      <td>1901</td>\n",
              "      <td>Jan Average</td>\n",
              "      <td>Afghanistan</td>\n",
              "      <td>AFG</td>\n",
              "    </tr>\n",
              "    <tr>\n",
              "      <th>1</th>\n",
              "      <td>13.94800</td>\n",
              "      <td>1901</td>\n",
              "      <td>Feb Average</td>\n",
              "      <td>Afghanistan</td>\n",
              "      <td>AFG</td>\n",
              "    </tr>\n",
              "    <tr>\n",
              "      <th>2</th>\n",
              "      <td>43.84640</td>\n",
              "      <td>1901</td>\n",
              "      <td>Mar Average</td>\n",
              "      <td>Afghanistan</td>\n",
              "      <td>AFG</td>\n",
              "    </tr>\n",
              "    <tr>\n",
              "      <th>3</th>\n",
              "      <td>26.96100</td>\n",
              "      <td>1901</td>\n",
              "      <td>Apr Average</td>\n",
              "      <td>Afghanistan</td>\n",
              "      <td>AFG</td>\n",
              "    </tr>\n",
              "    <tr>\n",
              "      <th>4</th>\n",
              "      <td>52.95790</td>\n",
              "      <td>1901</td>\n",
              "      <td>May Average</td>\n",
              "      <td>Afghanistan</td>\n",
              "      <td>AFG</td>\n",
              "    </tr>\n",
              "    <tr>\n",
              "      <th>5</th>\n",
              "      <td>16.64650</td>\n",
              "      <td>1901</td>\n",
              "      <td>Jun Average</td>\n",
              "      <td>Afghanistan</td>\n",
              "      <td>AFG</td>\n",
              "    </tr>\n",
              "    <tr>\n",
              "      <th>6</th>\n",
              "      <td>7.38656</td>\n",
              "      <td>1901</td>\n",
              "      <td>Jul Average</td>\n",
              "      <td>Afghanistan</td>\n",
              "      <td>AFG</td>\n",
              "    </tr>\n",
              "    <tr>\n",
              "      <th>7</th>\n",
              "      <td>0.59306</td>\n",
              "      <td>1901</td>\n",
              "      <td>Aug Average</td>\n",
              "      <td>Afghanistan</td>\n",
              "      <td>AFG</td>\n",
              "    </tr>\n",
              "    <tr>\n",
              "      <th>8</th>\n",
              "      <td>4.82593</td>\n",
              "      <td>1901</td>\n",
              "      <td>Sep Average</td>\n",
              "      <td>Afghanistan</td>\n",
              "      <td>AFG</td>\n",
              "    </tr>\n",
              "    <tr>\n",
              "      <th>9</th>\n",
              "      <td>11.49720</td>\n",
              "      <td>1901</td>\n",
              "      <td>Oct Average</td>\n",
              "      <td>Afghanistan</td>\n",
              "      <td>AFG</td>\n",
              "    </tr>\n",
              "    <tr>\n",
              "      <th>10</th>\n",
              "      <td>8.61022</td>\n",
              "      <td>1901</td>\n",
              "      <td>Nov Average</td>\n",
              "      <td>Afghanistan</td>\n",
              "      <td>AFG</td>\n",
              "    </tr>\n",
              "    <tr>\n",
              "      <th>11</th>\n",
              "      <td>7.90607</td>\n",
              "      <td>1901</td>\n",
              "      <td>Dec Average</td>\n",
              "      <td>Afghanistan</td>\n",
              "      <td>AFG</td>\n",
              "    </tr>\n",
              "  </tbody>\n",
              "</table>\n",
              "</div>\n",
              "      <button class=\"colab-df-convert\" onclick=\"convertToInteractive('df-adf2c20a-2793-4079-b151-6dd3cc93e635')\"\n",
              "              title=\"Convert this dataframe to an interactive table.\"\n",
              "              style=\"display:none;\">\n",
              "        \n",
              "  <svg xmlns=\"http://www.w3.org/2000/svg\" height=\"24px\"viewBox=\"0 0 24 24\"\n",
              "       width=\"24px\">\n",
              "    <path d=\"M0 0h24v24H0V0z\" fill=\"none\"/>\n",
              "    <path d=\"M18.56 5.44l.94 2.06.94-2.06 2.06-.94-2.06-.94-.94-2.06-.94 2.06-2.06.94zm-11 1L8.5 8.5l.94-2.06 2.06-.94-2.06-.94L8.5 2.5l-.94 2.06-2.06.94zm10 10l.94 2.06.94-2.06 2.06-.94-2.06-.94-.94-2.06-.94 2.06-2.06.94z\"/><path d=\"M17.41 7.96l-1.37-1.37c-.4-.4-.92-.59-1.43-.59-.52 0-1.04.2-1.43.59L10.3 9.45l-7.72 7.72c-.78.78-.78 2.05 0 2.83L4 21.41c.39.39.9.59 1.41.59.51 0 1.02-.2 1.41-.59l7.78-7.78 2.81-2.81c.8-.78.8-2.07 0-2.86zM5.41 20L4 18.59l7.72-7.72 1.47 1.35L5.41 20z\"/>\n",
              "  </svg>\n",
              "      </button>\n",
              "      \n",
              "  <style>\n",
              "    .colab-df-container {\n",
              "      display:flex;\n",
              "      flex-wrap:wrap;\n",
              "      gap: 12px;\n",
              "    }\n",
              "\n",
              "    .colab-df-convert {\n",
              "      background-color: #E8F0FE;\n",
              "      border: none;\n",
              "      border-radius: 50%;\n",
              "      cursor: pointer;\n",
              "      display: none;\n",
              "      fill: #1967D2;\n",
              "      height: 32px;\n",
              "      padding: 0 0 0 0;\n",
              "      width: 32px;\n",
              "    }\n",
              "\n",
              "    .colab-df-convert:hover {\n",
              "      background-color: #E2EBFA;\n",
              "      box-shadow: 0px 1px 2px rgba(60, 64, 67, 0.3), 0px 1px 3px 1px rgba(60, 64, 67, 0.15);\n",
              "      fill: #174EA6;\n",
              "    }\n",
              "\n",
              "    [theme=dark] .colab-df-convert {\n",
              "      background-color: #3B4455;\n",
              "      fill: #D2E3FC;\n",
              "    }\n",
              "\n",
              "    [theme=dark] .colab-df-convert:hover {\n",
              "      background-color: #434B5C;\n",
              "      box-shadow: 0px 1px 3px 1px rgba(0, 0, 0, 0.15);\n",
              "      filter: drop-shadow(0px 1px 2px rgba(0, 0, 0, 0.3));\n",
              "      fill: #FFFFFF;\n",
              "    }\n",
              "  </style>\n",
              "\n",
              "      <script>\n",
              "        const buttonEl =\n",
              "          document.querySelector('#df-adf2c20a-2793-4079-b151-6dd3cc93e635 button.colab-df-convert');\n",
              "        buttonEl.style.display =\n",
              "          google.colab.kernel.accessAllowed ? 'block' : 'none';\n",
              "\n",
              "        async function convertToInteractive(key) {\n",
              "          const element = document.querySelector('#df-adf2c20a-2793-4079-b151-6dd3cc93e635');\n",
              "          const dataTable =\n",
              "            await google.colab.kernel.invokeFunction('convertToInteractive',\n",
              "                                                     [key], {});\n",
              "          if (!dataTable) return;\n",
              "\n",
              "          const docLinkHtml = 'Like what you see? Visit the ' +\n",
              "            '<a target=\"_blank\" href=https://colab.research.google.com/notebooks/data_table.ipynb>data table notebook</a>'\n",
              "            + ' to learn more about interactive tables.';\n",
              "          element.innerHTML = '';\n",
              "          dataTable['output_type'] = 'display_data';\n",
              "          await google.colab.output.renderOutput(dataTable, element);\n",
              "          const docLink = document.createElement('div');\n",
              "          docLink.innerHTML = docLinkHtml;\n",
              "          element.appendChild(docLink);\n",
              "        }\n",
              "      </script>\n",
              "    </div>\n",
              "  </div>\n",
              "  "
            ],
            "text/plain": [
              "    Rainfall - (MM)  Year   Statistics      Country ISO3\n",
              "0          55.74480  1901  Jan Average  Afghanistan  AFG\n",
              "1          13.94800  1901  Feb Average  Afghanistan  AFG\n",
              "2          43.84640  1901  Mar Average  Afghanistan  AFG\n",
              "3          26.96100  1901  Apr Average  Afghanistan  AFG\n",
              "4          52.95790  1901  May Average  Afghanistan  AFG\n",
              "5          16.64650  1901  Jun Average  Afghanistan  AFG\n",
              "6           7.38656  1901  Jul Average  Afghanistan  AFG\n",
              "7           0.59306  1901  Aug Average  Afghanistan  AFG\n",
              "8           4.82593  1901  Sep Average  Afghanistan  AFG\n",
              "9          11.49720  1901  Oct Average  Afghanistan  AFG\n",
              "10          8.61022  1901  Nov Average  Afghanistan  AFG\n",
              "11          7.90607  1901  Dec Average  Afghanistan  AFG"
            ]
          },
          "metadata": {},
          "execution_count": 93
        }
      ]
    },
    {
      "cell_type": "code",
      "metadata": {
        "id": "drkDoVbkjFaJ",
        "colab": {
          "base_uri": "https://localhost:8080/",
          "height": 0
        },
        "outputId": "e6af9d96-0936-482f-bf83-173575d3e9ed"
      },
      "source": [
        "# Rain data in years for each country\n",
        "rainfall_df = rainfall_data.groupby(['Year', 'Country', 'ISO3'], as_index=False, axis=0).sum()\n",
        "rainfall_df"
      ],
      "execution_count": 94,
      "outputs": [
        {
          "output_type": "execute_result",
          "data": {
            "text/html": [
              "\n",
              "  <div id=\"df-cbba122b-6587-44e8-8645-b8ade6568932\">\n",
              "    <div class=\"colab-df-container\">\n",
              "      <div>\n",
              "<style scoped>\n",
              "    .dataframe tbody tr th:only-of-type {\n",
              "        vertical-align: middle;\n",
              "    }\n",
              "\n",
              "    .dataframe tbody tr th {\n",
              "        vertical-align: top;\n",
              "    }\n",
              "\n",
              "    .dataframe thead th {\n",
              "        text-align: right;\n",
              "    }\n",
              "</style>\n",
              "<table border=\"1\" class=\"dataframe\">\n",
              "  <thead>\n",
              "    <tr style=\"text-align: right;\">\n",
              "      <th></th>\n",
              "      <th>Year</th>\n",
              "      <th>Country</th>\n",
              "      <th>ISO3</th>\n",
              "      <th>Rainfall - (MM)</th>\n",
              "    </tr>\n",
              "  </thead>\n",
              "  <tbody>\n",
              "    <tr>\n",
              "      <th>0</th>\n",
              "      <td>1901</td>\n",
              "      <td>Afghanistan</td>\n",
              "      <td>AFG</td>\n",
              "      <td>250.92364</td>\n",
              "    </tr>\n",
              "    <tr>\n",
              "      <th>1</th>\n",
              "      <td>1901</td>\n",
              "      <td>Albania</td>\n",
              "      <td>ALB</td>\n",
              "      <td>1244.13740</td>\n",
              "    </tr>\n",
              "    <tr>\n",
              "      <th>2</th>\n",
              "      <td>1901</td>\n",
              "      <td>Algeria</td>\n",
              "      <td>DZA</td>\n",
              "      <td>113.45278</td>\n",
              "    </tr>\n",
              "    <tr>\n",
              "      <th>3</th>\n",
              "      <td>1901</td>\n",
              "      <td>Andorra</td>\n",
              "      <td>AND</td>\n",
              "      <td>871.31150</td>\n",
              "    </tr>\n",
              "    <tr>\n",
              "      <th>4</th>\n",
              "      <td>1901</td>\n",
              "      <td>Angola</td>\n",
              "      <td>AGO</td>\n",
              "      <td>931.01022</td>\n",
              "    </tr>\n",
              "    <tr>\n",
              "      <th>...</th>\n",
              "      <td>...</td>\n",
              "      <td>...</td>\n",
              "      <td>...</td>\n",
              "      <td>...</td>\n",
              "    </tr>\n",
              "    <tr>\n",
              "      <th>22731</th>\n",
              "      <td>2016</td>\n",
              "      <td>Venezuela</td>\n",
              "      <td>VEN</td>\n",
              "      <td>1844.70330</td>\n",
              "    </tr>\n",
              "    <tr>\n",
              "      <th>22732</th>\n",
              "      <td>2016</td>\n",
              "      <td>Vietnam</td>\n",
              "      <td>VNM</td>\n",
              "      <td>1988.86180</td>\n",
              "    </tr>\n",
              "    <tr>\n",
              "      <th>22733</th>\n",
              "      <td>2016</td>\n",
              "      <td>Yemen</td>\n",
              "      <td>YEM</td>\n",
              "      <td>171.48137</td>\n",
              "    </tr>\n",
              "    <tr>\n",
              "      <th>22734</th>\n",
              "      <td>2016</td>\n",
              "      <td>Zambia</td>\n",
              "      <td>ZMB</td>\n",
              "      <td>803.47810</td>\n",
              "    </tr>\n",
              "    <tr>\n",
              "      <th>22735</th>\n",
              "      <td>2016</td>\n",
              "      <td>Zimbabwe</td>\n",
              "      <td>ZWE</td>\n",
              "      <td>455.13295</td>\n",
              "    </tr>\n",
              "  </tbody>\n",
              "</table>\n",
              "<p>22736 rows × 4 columns</p>\n",
              "</div>\n",
              "      <button class=\"colab-df-convert\" onclick=\"convertToInteractive('df-cbba122b-6587-44e8-8645-b8ade6568932')\"\n",
              "              title=\"Convert this dataframe to an interactive table.\"\n",
              "              style=\"display:none;\">\n",
              "        \n",
              "  <svg xmlns=\"http://www.w3.org/2000/svg\" height=\"24px\"viewBox=\"0 0 24 24\"\n",
              "       width=\"24px\">\n",
              "    <path d=\"M0 0h24v24H0V0z\" fill=\"none\"/>\n",
              "    <path d=\"M18.56 5.44l.94 2.06.94-2.06 2.06-.94-2.06-.94-.94-2.06-.94 2.06-2.06.94zm-11 1L8.5 8.5l.94-2.06 2.06-.94-2.06-.94L8.5 2.5l-.94 2.06-2.06.94zm10 10l.94 2.06.94-2.06 2.06-.94-2.06-.94-.94-2.06-.94 2.06-2.06.94z\"/><path d=\"M17.41 7.96l-1.37-1.37c-.4-.4-.92-.59-1.43-.59-.52 0-1.04.2-1.43.59L10.3 9.45l-7.72 7.72c-.78.78-.78 2.05 0 2.83L4 21.41c.39.39.9.59 1.41.59.51 0 1.02-.2 1.41-.59l7.78-7.78 2.81-2.81c.8-.78.8-2.07 0-2.86zM5.41 20L4 18.59l7.72-7.72 1.47 1.35L5.41 20z\"/>\n",
              "  </svg>\n",
              "      </button>\n",
              "      \n",
              "  <style>\n",
              "    .colab-df-container {\n",
              "      display:flex;\n",
              "      flex-wrap:wrap;\n",
              "      gap: 12px;\n",
              "    }\n",
              "\n",
              "    .colab-df-convert {\n",
              "      background-color: #E8F0FE;\n",
              "      border: none;\n",
              "      border-radius: 50%;\n",
              "      cursor: pointer;\n",
              "      display: none;\n",
              "      fill: #1967D2;\n",
              "      height: 32px;\n",
              "      padding: 0 0 0 0;\n",
              "      width: 32px;\n",
              "    }\n",
              "\n",
              "    .colab-df-convert:hover {\n",
              "      background-color: #E2EBFA;\n",
              "      box-shadow: 0px 1px 2px rgba(60, 64, 67, 0.3), 0px 1px 3px 1px rgba(60, 64, 67, 0.15);\n",
              "      fill: #174EA6;\n",
              "    }\n",
              "\n",
              "    [theme=dark] .colab-df-convert {\n",
              "      background-color: #3B4455;\n",
              "      fill: #D2E3FC;\n",
              "    }\n",
              "\n",
              "    [theme=dark] .colab-df-convert:hover {\n",
              "      background-color: #434B5C;\n",
              "      box-shadow: 0px 1px 3px 1px rgba(0, 0, 0, 0.15);\n",
              "      filter: drop-shadow(0px 1px 2px rgba(0, 0, 0, 0.3));\n",
              "      fill: #FFFFFF;\n",
              "    }\n",
              "  </style>\n",
              "\n",
              "      <script>\n",
              "        const buttonEl =\n",
              "          document.querySelector('#df-cbba122b-6587-44e8-8645-b8ade6568932 button.colab-df-convert');\n",
              "        buttonEl.style.display =\n",
              "          google.colab.kernel.accessAllowed ? 'block' : 'none';\n",
              "\n",
              "        async function convertToInteractive(key) {\n",
              "          const element = document.querySelector('#df-cbba122b-6587-44e8-8645-b8ade6568932');\n",
              "          const dataTable =\n",
              "            await google.colab.kernel.invokeFunction('convertToInteractive',\n",
              "                                                     [key], {});\n",
              "          if (!dataTable) return;\n",
              "\n",
              "          const docLinkHtml = 'Like what you see? Visit the ' +\n",
              "            '<a target=\"_blank\" href=https://colab.research.google.com/notebooks/data_table.ipynb>data table notebook</a>'\n",
              "            + ' to learn more about interactive tables.';\n",
              "          element.innerHTML = '';\n",
              "          dataTable['output_type'] = 'display_data';\n",
              "          await google.colab.output.renderOutput(dataTable, element);\n",
              "          const docLink = document.createElement('div');\n",
              "          docLink.innerHTML = docLinkHtml;\n",
              "          element.appendChild(docLink);\n",
              "        }\n",
              "      </script>\n",
              "    </div>\n",
              "  </div>\n",
              "  "
            ],
            "text/plain": [
              "       Year      Country ISO3  Rainfall - (MM)\n",
              "0      1901  Afghanistan  AFG        250.92364\n",
              "1      1901      Albania  ALB       1244.13740\n",
              "2      1901      Algeria  DZA        113.45278\n",
              "3      1901      Andorra  AND        871.31150\n",
              "4      1901       Angola  AGO        931.01022\n",
              "...     ...          ...  ...              ...\n",
              "22731  2016    Venezuela  VEN       1844.70330\n",
              "22732  2016      Vietnam  VNM       1988.86180\n",
              "22733  2016        Yemen  YEM        171.48137\n",
              "22734  2016       Zambia  ZMB        803.47810\n",
              "22735  2016     Zimbabwe  ZWE        455.13295\n",
              "\n",
              "[22736 rows x 4 columns]"
            ]
          },
          "metadata": {},
          "execution_count": 94
        }
      ]
    },
    {
      "cell_type": "markdown",
      "metadata": {
        "id": "I_viM345p0qr"
      },
      "source": [
        "## Temperature data"
      ]
    },
    {
      "cell_type": "code",
      "metadata": {
        "colab": {
          "base_uri": "https://localhost:8080/",
          "height": 0
        },
        "id": "3y8MO8ly7uUo",
        "outputId": "220d0d8d-d8ee-43f9-b66a-602042b60365"
      },
      "source": [
        "temperature_data"
      ],
      "execution_count": 95,
      "outputs": [
        {
          "output_type": "execute_result",
          "data": {
            "text/html": [
              "\n",
              "  <div id=\"df-6e7c6480-d5e7-44d9-b655-1f9806ee16e0\">\n",
              "    <div class=\"colab-df-container\">\n",
              "      <div>\n",
              "<style scoped>\n",
              "    .dataframe tbody tr th:only-of-type {\n",
              "        vertical-align: middle;\n",
              "    }\n",
              "\n",
              "    .dataframe tbody tr th {\n",
              "        vertical-align: top;\n",
              "    }\n",
              "\n",
              "    .dataframe thead th {\n",
              "        text-align: right;\n",
              "    }\n",
              "</style>\n",
              "<table border=\"1\" class=\"dataframe\">\n",
              "  <thead>\n",
              "    <tr style=\"text-align: right;\">\n",
              "      <th></th>\n",
              "      <th>Temperature - (Celsius)</th>\n",
              "      <th>Year</th>\n",
              "      <th>Statistics</th>\n",
              "      <th>Country</th>\n",
              "      <th>ISO3</th>\n",
              "    </tr>\n",
              "  </thead>\n",
              "  <tbody>\n",
              "    <tr>\n",
              "      <th>0</th>\n",
              "      <td>-0.03780</td>\n",
              "      <td>1901</td>\n",
              "      <td>Jan Average</td>\n",
              "      <td>Afghanistan</td>\n",
              "      <td>AFG</td>\n",
              "    </tr>\n",
              "    <tr>\n",
              "      <th>1</th>\n",
              "      <td>2.42348</td>\n",
              "      <td>1901</td>\n",
              "      <td>Feb Average</td>\n",
              "      <td>Afghanistan</td>\n",
              "      <td>AFG</td>\n",
              "    </tr>\n",
              "    <tr>\n",
              "      <th>2</th>\n",
              "      <td>9.36230</td>\n",
              "      <td>1901</td>\n",
              "      <td>Mar Average</td>\n",
              "      <td>Afghanistan</td>\n",
              "      <td>AFG</td>\n",
              "    </tr>\n",
              "    <tr>\n",
              "      <th>3</th>\n",
              "      <td>13.55640</td>\n",
              "      <td>1901</td>\n",
              "      <td>Apr Average</td>\n",
              "      <td>Afghanistan</td>\n",
              "      <td>AFG</td>\n",
              "    </tr>\n",
              "    <tr>\n",
              "      <th>4</th>\n",
              "      <td>18.15090</td>\n",
              "      <td>1901</td>\n",
              "      <td>May Average</td>\n",
              "      <td>Afghanistan</td>\n",
              "      <td>AFG</td>\n",
              "    </tr>\n",
              "    <tr>\n",
              "      <th>...</th>\n",
              "      <td>...</td>\n",
              "      <td>...</td>\n",
              "      <td>...</td>\n",
              "      <td>...</td>\n",
              "      <td>...</td>\n",
              "    </tr>\n",
              "    <tr>\n",
              "      <th>272827</th>\n",
              "      <td>18.75550</td>\n",
              "      <td>2016</td>\n",
              "      <td>Aug Average</td>\n",
              "      <td>Zimbabwe</td>\n",
              "      <td>ZWE</td>\n",
              "    </tr>\n",
              "    <tr>\n",
              "      <th>272828</th>\n",
              "      <td>22.99190</td>\n",
              "      <td>2016</td>\n",
              "      <td>Sep Average</td>\n",
              "      <td>Zimbabwe</td>\n",
              "      <td>ZWE</td>\n",
              "    </tr>\n",
              "    <tr>\n",
              "      <th>272829</th>\n",
              "      <td>25.86640</td>\n",
              "      <td>2016</td>\n",
              "      <td>Oct Average</td>\n",
              "      <td>Zimbabwe</td>\n",
              "      <td>ZWE</td>\n",
              "    </tr>\n",
              "    <tr>\n",
              "      <th>272830</th>\n",
              "      <td>25.85150</td>\n",
              "      <td>2016</td>\n",
              "      <td>Nov Average</td>\n",
              "      <td>Zimbabwe</td>\n",
              "      <td>ZWE</td>\n",
              "    </tr>\n",
              "    <tr>\n",
              "      <th>272831</th>\n",
              "      <td>25.06930</td>\n",
              "      <td>2016</td>\n",
              "      <td>Dec Average</td>\n",
              "      <td>Zimbabwe</td>\n",
              "      <td>ZWE</td>\n",
              "    </tr>\n",
              "  </tbody>\n",
              "</table>\n",
              "<p>272832 rows × 5 columns</p>\n",
              "</div>\n",
              "      <button class=\"colab-df-convert\" onclick=\"convertToInteractive('df-6e7c6480-d5e7-44d9-b655-1f9806ee16e0')\"\n",
              "              title=\"Convert this dataframe to an interactive table.\"\n",
              "              style=\"display:none;\">\n",
              "        \n",
              "  <svg xmlns=\"http://www.w3.org/2000/svg\" height=\"24px\"viewBox=\"0 0 24 24\"\n",
              "       width=\"24px\">\n",
              "    <path d=\"M0 0h24v24H0V0z\" fill=\"none\"/>\n",
              "    <path d=\"M18.56 5.44l.94 2.06.94-2.06 2.06-.94-2.06-.94-.94-2.06-.94 2.06-2.06.94zm-11 1L8.5 8.5l.94-2.06 2.06-.94-2.06-.94L8.5 2.5l-.94 2.06-2.06.94zm10 10l.94 2.06.94-2.06 2.06-.94-2.06-.94-.94-2.06-.94 2.06-2.06.94z\"/><path d=\"M17.41 7.96l-1.37-1.37c-.4-.4-.92-.59-1.43-.59-.52 0-1.04.2-1.43.59L10.3 9.45l-7.72 7.72c-.78.78-.78 2.05 0 2.83L4 21.41c.39.39.9.59 1.41.59.51 0 1.02-.2 1.41-.59l7.78-7.78 2.81-2.81c.8-.78.8-2.07 0-2.86zM5.41 20L4 18.59l7.72-7.72 1.47 1.35L5.41 20z\"/>\n",
              "  </svg>\n",
              "      </button>\n",
              "      \n",
              "  <style>\n",
              "    .colab-df-container {\n",
              "      display:flex;\n",
              "      flex-wrap:wrap;\n",
              "      gap: 12px;\n",
              "    }\n",
              "\n",
              "    .colab-df-convert {\n",
              "      background-color: #E8F0FE;\n",
              "      border: none;\n",
              "      border-radius: 50%;\n",
              "      cursor: pointer;\n",
              "      display: none;\n",
              "      fill: #1967D2;\n",
              "      height: 32px;\n",
              "      padding: 0 0 0 0;\n",
              "      width: 32px;\n",
              "    }\n",
              "\n",
              "    .colab-df-convert:hover {\n",
              "      background-color: #E2EBFA;\n",
              "      box-shadow: 0px 1px 2px rgba(60, 64, 67, 0.3), 0px 1px 3px 1px rgba(60, 64, 67, 0.15);\n",
              "      fill: #174EA6;\n",
              "    }\n",
              "\n",
              "    [theme=dark] .colab-df-convert {\n",
              "      background-color: #3B4455;\n",
              "      fill: #D2E3FC;\n",
              "    }\n",
              "\n",
              "    [theme=dark] .colab-df-convert:hover {\n",
              "      background-color: #434B5C;\n",
              "      box-shadow: 0px 1px 3px 1px rgba(0, 0, 0, 0.15);\n",
              "      filter: drop-shadow(0px 1px 2px rgba(0, 0, 0, 0.3));\n",
              "      fill: #FFFFFF;\n",
              "    }\n",
              "  </style>\n",
              "\n",
              "      <script>\n",
              "        const buttonEl =\n",
              "          document.querySelector('#df-6e7c6480-d5e7-44d9-b655-1f9806ee16e0 button.colab-df-convert');\n",
              "        buttonEl.style.display =\n",
              "          google.colab.kernel.accessAllowed ? 'block' : 'none';\n",
              "\n",
              "        async function convertToInteractive(key) {\n",
              "          const element = document.querySelector('#df-6e7c6480-d5e7-44d9-b655-1f9806ee16e0');\n",
              "          const dataTable =\n",
              "            await google.colab.kernel.invokeFunction('convertToInteractive',\n",
              "                                                     [key], {});\n",
              "          if (!dataTable) return;\n",
              "\n",
              "          const docLinkHtml = 'Like what you see? Visit the ' +\n",
              "            '<a target=\"_blank\" href=https://colab.research.google.com/notebooks/data_table.ipynb>data table notebook</a>'\n",
              "            + ' to learn more about interactive tables.';\n",
              "          element.innerHTML = '';\n",
              "          dataTable['output_type'] = 'display_data';\n",
              "          await google.colab.output.renderOutput(dataTable, element);\n",
              "          const docLink = document.createElement('div');\n",
              "          docLink.innerHTML = docLinkHtml;\n",
              "          element.appendChild(docLink);\n",
              "        }\n",
              "      </script>\n",
              "    </div>\n",
              "  </div>\n",
              "  "
            ],
            "text/plain": [
              "        Temperature - (Celsius)  Year   Statistics      Country ISO3\n",
              "0                      -0.03780  1901  Jan Average  Afghanistan  AFG\n",
              "1                       2.42348  1901  Feb Average  Afghanistan  AFG\n",
              "2                       9.36230  1901  Mar Average  Afghanistan  AFG\n",
              "3                      13.55640  1901  Apr Average  Afghanistan  AFG\n",
              "4                      18.15090  1901  May Average  Afghanistan  AFG\n",
              "...                         ...   ...          ...          ...  ...\n",
              "272827                 18.75550  2016  Aug Average     Zimbabwe  ZWE\n",
              "272828                 22.99190  2016  Sep Average     Zimbabwe  ZWE\n",
              "272829                 25.86640  2016  Oct Average     Zimbabwe  ZWE\n",
              "272830                 25.85150  2016  Nov Average     Zimbabwe  ZWE\n",
              "272831                 25.06930  2016  Dec Average     Zimbabwe  ZWE\n",
              "\n",
              "[272832 rows x 5 columns]"
            ]
          },
          "metadata": {},
          "execution_count": 95
        }
      ]
    },
    {
      "cell_type": "code",
      "metadata": {
        "id": "JpBCszaQdRAf",
        "colab": {
          "base_uri": "https://localhost:8080/"
        },
        "outputId": "0fd2a121-6e1c-4477-80d3-5e23778969ec"
      },
      "source": [
        "temperature_data.info()"
      ],
      "execution_count": 96,
      "outputs": [
        {
          "output_type": "stream",
          "name": "stdout",
          "text": [
            "<class 'pandas.core.frame.DataFrame'>\n",
            "RangeIndex: 272832 entries, 0 to 272831\n",
            "Data columns (total 5 columns):\n",
            " #   Column                   Non-Null Count   Dtype  \n",
            "---  ------                   --------------   -----  \n",
            " 0   Temperature - (Celsius)  272832 non-null  float64\n",
            " 1   Year                     272832 non-null  int64  \n",
            " 2   Statistics               272832 non-null  object \n",
            " 3   Country                  272832 non-null  object \n",
            " 4   ISO3                     272832 non-null  object \n",
            "dtypes: float64(1), int64(1), object(3)\n",
            "memory usage: 10.4+ MB\n"
          ]
        }
      ]
    },
    {
      "cell_type": "code",
      "metadata": {
        "id": "rVbDN0N7tvYU",
        "colab": {
          "base_uri": "https://localhost:8080/",
          "height": 0
        },
        "outputId": "78d468f8-b366-4fa3-ac00-253259110805"
      },
      "source": [
        "temperature_data.describe()"
      ],
      "execution_count": 97,
      "outputs": [
        {
          "output_type": "execute_result",
          "data": {
            "text/html": [
              "\n",
              "  <div id=\"df-e63fc1df-6def-424e-8b4b-53718384f4eb\">\n",
              "    <div class=\"colab-df-container\">\n",
              "      <div>\n",
              "<style scoped>\n",
              "    .dataframe tbody tr th:only-of-type {\n",
              "        vertical-align: middle;\n",
              "    }\n",
              "\n",
              "    .dataframe tbody tr th {\n",
              "        vertical-align: top;\n",
              "    }\n",
              "\n",
              "    .dataframe thead th {\n",
              "        text-align: right;\n",
              "    }\n",
              "</style>\n",
              "<table border=\"1\" class=\"dataframe\">\n",
              "  <thead>\n",
              "    <tr style=\"text-align: right;\">\n",
              "      <th></th>\n",
              "      <th>Temperature - (Celsius)</th>\n",
              "      <th>Year</th>\n",
              "    </tr>\n",
              "  </thead>\n",
              "  <tbody>\n",
              "    <tr>\n",
              "      <th>count</th>\n",
              "      <td>272832.000000</td>\n",
              "      <td>272832.000000</td>\n",
              "    </tr>\n",
              "    <tr>\n",
              "      <th>mean</th>\n",
              "      <td>18.631498</td>\n",
              "      <td>1958.500000</td>\n",
              "    </tr>\n",
              "    <tr>\n",
              "      <th>std</th>\n",
              "      <td>10.248635</td>\n",
              "      <td>33.485133</td>\n",
              "    </tr>\n",
              "    <tr>\n",
              "      <th>min</th>\n",
              "      <td>-34.121000</td>\n",
              "      <td>1901.000000</td>\n",
              "    </tr>\n",
              "    <tr>\n",
              "      <th>25%</th>\n",
              "      <td>13.231575</td>\n",
              "      <td>1929.750000</td>\n",
              "    </tr>\n",
              "    <tr>\n",
              "      <th>50%</th>\n",
              "      <td>22.736300</td>\n",
              "      <td>1958.500000</td>\n",
              "    </tr>\n",
              "    <tr>\n",
              "      <th>75%</th>\n",
              "      <td>25.797700</td>\n",
              "      <td>1987.250000</td>\n",
              "    </tr>\n",
              "    <tr>\n",
              "      <th>max</th>\n",
              "      <td>38.566900</td>\n",
              "      <td>2016.000000</td>\n",
              "    </tr>\n",
              "  </tbody>\n",
              "</table>\n",
              "</div>\n",
              "      <button class=\"colab-df-convert\" onclick=\"convertToInteractive('df-e63fc1df-6def-424e-8b4b-53718384f4eb')\"\n",
              "              title=\"Convert this dataframe to an interactive table.\"\n",
              "              style=\"display:none;\">\n",
              "        \n",
              "  <svg xmlns=\"http://www.w3.org/2000/svg\" height=\"24px\"viewBox=\"0 0 24 24\"\n",
              "       width=\"24px\">\n",
              "    <path d=\"M0 0h24v24H0V0z\" fill=\"none\"/>\n",
              "    <path d=\"M18.56 5.44l.94 2.06.94-2.06 2.06-.94-2.06-.94-.94-2.06-.94 2.06-2.06.94zm-11 1L8.5 8.5l.94-2.06 2.06-.94-2.06-.94L8.5 2.5l-.94 2.06-2.06.94zm10 10l.94 2.06.94-2.06 2.06-.94-2.06-.94-.94-2.06-.94 2.06-2.06.94z\"/><path d=\"M17.41 7.96l-1.37-1.37c-.4-.4-.92-.59-1.43-.59-.52 0-1.04.2-1.43.59L10.3 9.45l-7.72 7.72c-.78.78-.78 2.05 0 2.83L4 21.41c.39.39.9.59 1.41.59.51 0 1.02-.2 1.41-.59l7.78-7.78 2.81-2.81c.8-.78.8-2.07 0-2.86zM5.41 20L4 18.59l7.72-7.72 1.47 1.35L5.41 20z\"/>\n",
              "  </svg>\n",
              "      </button>\n",
              "      \n",
              "  <style>\n",
              "    .colab-df-container {\n",
              "      display:flex;\n",
              "      flex-wrap:wrap;\n",
              "      gap: 12px;\n",
              "    }\n",
              "\n",
              "    .colab-df-convert {\n",
              "      background-color: #E8F0FE;\n",
              "      border: none;\n",
              "      border-radius: 50%;\n",
              "      cursor: pointer;\n",
              "      display: none;\n",
              "      fill: #1967D2;\n",
              "      height: 32px;\n",
              "      padding: 0 0 0 0;\n",
              "      width: 32px;\n",
              "    }\n",
              "\n",
              "    .colab-df-convert:hover {\n",
              "      background-color: #E2EBFA;\n",
              "      box-shadow: 0px 1px 2px rgba(60, 64, 67, 0.3), 0px 1px 3px 1px rgba(60, 64, 67, 0.15);\n",
              "      fill: #174EA6;\n",
              "    }\n",
              "\n",
              "    [theme=dark] .colab-df-convert {\n",
              "      background-color: #3B4455;\n",
              "      fill: #D2E3FC;\n",
              "    }\n",
              "\n",
              "    [theme=dark] .colab-df-convert:hover {\n",
              "      background-color: #434B5C;\n",
              "      box-shadow: 0px 1px 3px 1px rgba(0, 0, 0, 0.15);\n",
              "      filter: drop-shadow(0px 1px 2px rgba(0, 0, 0, 0.3));\n",
              "      fill: #FFFFFF;\n",
              "    }\n",
              "  </style>\n",
              "\n",
              "      <script>\n",
              "        const buttonEl =\n",
              "          document.querySelector('#df-e63fc1df-6def-424e-8b4b-53718384f4eb button.colab-df-convert');\n",
              "        buttonEl.style.display =\n",
              "          google.colab.kernel.accessAllowed ? 'block' : 'none';\n",
              "\n",
              "        async function convertToInteractive(key) {\n",
              "          const element = document.querySelector('#df-e63fc1df-6def-424e-8b4b-53718384f4eb');\n",
              "          const dataTable =\n",
              "            await google.colab.kernel.invokeFunction('convertToInteractive',\n",
              "                                                     [key], {});\n",
              "          if (!dataTable) return;\n",
              "\n",
              "          const docLinkHtml = 'Like what you see? Visit the ' +\n",
              "            '<a target=\"_blank\" href=https://colab.research.google.com/notebooks/data_table.ipynb>data table notebook</a>'\n",
              "            + ' to learn more about interactive tables.';\n",
              "          element.innerHTML = '';\n",
              "          dataTable['output_type'] = 'display_data';\n",
              "          await google.colab.output.renderOutput(dataTable, element);\n",
              "          const docLink = document.createElement('div');\n",
              "          docLink.innerHTML = docLinkHtml;\n",
              "          element.appendChild(docLink);\n",
              "        }\n",
              "      </script>\n",
              "    </div>\n",
              "  </div>\n",
              "  "
            ],
            "text/plain": [
              "       Temperature - (Celsius)           Year\n",
              "count            272832.000000  272832.000000\n",
              "mean                 18.631498    1958.500000\n",
              "std                  10.248635      33.485133\n",
              "min                 -34.121000    1901.000000\n",
              "25%                  13.231575    1929.750000\n",
              "50%                  22.736300    1958.500000\n",
              "75%                  25.797700    1987.250000\n",
              "max                  38.566900    2016.000000"
            ]
          },
          "metadata": {},
          "execution_count": 97
        }
      ]
    },
    {
      "cell_type": "code",
      "metadata": {
        "id": "BRtnmE4ksAPb",
        "colab": {
          "base_uri": "https://localhost:8080/"
        },
        "outputId": "a58ddb6e-7ab9-40f5-b3f8-cc013016678e"
      },
      "source": [
        "# Number of countries\n",
        "len(temperature_data['Country'].unique())"
      ],
      "execution_count": 98,
      "outputs": [
        {
          "output_type": "execute_result",
          "data": {
            "text/plain": [
              "196"
            ]
          },
          "metadata": {},
          "execution_count": 98
        }
      ]
    },
    {
      "cell_type": "code",
      "metadata": {
        "id": "NaRGRGfDsC9z",
        "colab": {
          "base_uri": "https://localhost:8080/"
        },
        "outputId": "8a325579-56b4-4fe7-b17e-551071ac0550"
      },
      "source": [
        "# Number of years (1901 - 2016)\n",
        "len(temperature_data['Year'].unique())"
      ],
      "execution_count": 99,
      "outputs": [
        {
          "output_type": "execute_result",
          "data": {
            "text/plain": [
              "116"
            ]
          },
          "metadata": {},
          "execution_count": 99
        }
      ]
    },
    {
      "cell_type": "code",
      "metadata": {
        "id": "85_PPt6cs1as",
        "colab": {
          "base_uri": "https://localhost:8080/",
          "height": 0
        },
        "outputId": "0f64687b-3e40-4352-c0c6-eed9feb2875e"
      },
      "source": [
        "# One year from Afghanistan\n",
        "temperature_data.head(12)"
      ],
      "execution_count": 100,
      "outputs": [
        {
          "output_type": "execute_result",
          "data": {
            "text/html": [
              "\n",
              "  <div id=\"df-eddac412-db04-48cd-8663-d766e73583d5\">\n",
              "    <div class=\"colab-df-container\">\n",
              "      <div>\n",
              "<style scoped>\n",
              "    .dataframe tbody tr th:only-of-type {\n",
              "        vertical-align: middle;\n",
              "    }\n",
              "\n",
              "    .dataframe tbody tr th {\n",
              "        vertical-align: top;\n",
              "    }\n",
              "\n",
              "    .dataframe thead th {\n",
              "        text-align: right;\n",
              "    }\n",
              "</style>\n",
              "<table border=\"1\" class=\"dataframe\">\n",
              "  <thead>\n",
              "    <tr style=\"text-align: right;\">\n",
              "      <th></th>\n",
              "      <th>Temperature - (Celsius)</th>\n",
              "      <th>Year</th>\n",
              "      <th>Statistics</th>\n",
              "      <th>Country</th>\n",
              "      <th>ISO3</th>\n",
              "    </tr>\n",
              "  </thead>\n",
              "  <tbody>\n",
              "    <tr>\n",
              "      <th>0</th>\n",
              "      <td>-0.03780</td>\n",
              "      <td>1901</td>\n",
              "      <td>Jan Average</td>\n",
              "      <td>Afghanistan</td>\n",
              "      <td>AFG</td>\n",
              "    </tr>\n",
              "    <tr>\n",
              "      <th>1</th>\n",
              "      <td>2.42348</td>\n",
              "      <td>1901</td>\n",
              "      <td>Feb Average</td>\n",
              "      <td>Afghanistan</td>\n",
              "      <td>AFG</td>\n",
              "    </tr>\n",
              "    <tr>\n",
              "      <th>2</th>\n",
              "      <td>9.36230</td>\n",
              "      <td>1901</td>\n",
              "      <td>Mar Average</td>\n",
              "      <td>Afghanistan</td>\n",
              "      <td>AFG</td>\n",
              "    </tr>\n",
              "    <tr>\n",
              "      <th>3</th>\n",
              "      <td>13.55640</td>\n",
              "      <td>1901</td>\n",
              "      <td>Apr Average</td>\n",
              "      <td>Afghanistan</td>\n",
              "      <td>AFG</td>\n",
              "    </tr>\n",
              "    <tr>\n",
              "      <th>4</th>\n",
              "      <td>18.15090</td>\n",
              "      <td>1901</td>\n",
              "      <td>May Average</td>\n",
              "      <td>Afghanistan</td>\n",
              "      <td>AFG</td>\n",
              "    </tr>\n",
              "    <tr>\n",
              "      <th>5</th>\n",
              "      <td>22.17270</td>\n",
              "      <td>1901</td>\n",
              "      <td>Jun Average</td>\n",
              "      <td>Afghanistan</td>\n",
              "      <td>AFG</td>\n",
              "    </tr>\n",
              "    <tr>\n",
              "      <th>6</th>\n",
              "      <td>25.37870</td>\n",
              "      <td>1901</td>\n",
              "      <td>Jul Average</td>\n",
              "      <td>Afghanistan</td>\n",
              "      <td>AFG</td>\n",
              "    </tr>\n",
              "    <tr>\n",
              "      <th>7</th>\n",
              "      <td>23.66520</td>\n",
              "      <td>1901</td>\n",
              "      <td>Aug Average</td>\n",
              "      <td>Afghanistan</td>\n",
              "      <td>AFG</td>\n",
              "    </tr>\n",
              "    <tr>\n",
              "      <th>8</th>\n",
              "      <td>19.46550</td>\n",
              "      <td>1901</td>\n",
              "      <td>Sep Average</td>\n",
              "      <td>Afghanistan</td>\n",
              "      <td>AFG</td>\n",
              "    </tr>\n",
              "    <tr>\n",
              "      <th>9</th>\n",
              "      <td>11.28370</td>\n",
              "      <td>1901</td>\n",
              "      <td>Oct Average</td>\n",
              "      <td>Afghanistan</td>\n",
              "      <td>AFG</td>\n",
              "    </tr>\n",
              "    <tr>\n",
              "      <th>10</th>\n",
              "      <td>8.63190</td>\n",
              "      <td>1901</td>\n",
              "      <td>Nov Average</td>\n",
              "      <td>Afghanistan</td>\n",
              "      <td>AFG</td>\n",
              "    </tr>\n",
              "    <tr>\n",
              "      <th>11</th>\n",
              "      <td>4.02148</td>\n",
              "      <td>1901</td>\n",
              "      <td>Dec Average</td>\n",
              "      <td>Afghanistan</td>\n",
              "      <td>AFG</td>\n",
              "    </tr>\n",
              "  </tbody>\n",
              "</table>\n",
              "</div>\n",
              "      <button class=\"colab-df-convert\" onclick=\"convertToInteractive('df-eddac412-db04-48cd-8663-d766e73583d5')\"\n",
              "              title=\"Convert this dataframe to an interactive table.\"\n",
              "              style=\"display:none;\">\n",
              "        \n",
              "  <svg xmlns=\"http://www.w3.org/2000/svg\" height=\"24px\"viewBox=\"0 0 24 24\"\n",
              "       width=\"24px\">\n",
              "    <path d=\"M0 0h24v24H0V0z\" fill=\"none\"/>\n",
              "    <path d=\"M18.56 5.44l.94 2.06.94-2.06 2.06-.94-2.06-.94-.94-2.06-.94 2.06-2.06.94zm-11 1L8.5 8.5l.94-2.06 2.06-.94-2.06-.94L8.5 2.5l-.94 2.06-2.06.94zm10 10l.94 2.06.94-2.06 2.06-.94-2.06-.94-.94-2.06-.94 2.06-2.06.94z\"/><path d=\"M17.41 7.96l-1.37-1.37c-.4-.4-.92-.59-1.43-.59-.52 0-1.04.2-1.43.59L10.3 9.45l-7.72 7.72c-.78.78-.78 2.05 0 2.83L4 21.41c.39.39.9.59 1.41.59.51 0 1.02-.2 1.41-.59l7.78-7.78 2.81-2.81c.8-.78.8-2.07 0-2.86zM5.41 20L4 18.59l7.72-7.72 1.47 1.35L5.41 20z\"/>\n",
              "  </svg>\n",
              "      </button>\n",
              "      \n",
              "  <style>\n",
              "    .colab-df-container {\n",
              "      display:flex;\n",
              "      flex-wrap:wrap;\n",
              "      gap: 12px;\n",
              "    }\n",
              "\n",
              "    .colab-df-convert {\n",
              "      background-color: #E8F0FE;\n",
              "      border: none;\n",
              "      border-radius: 50%;\n",
              "      cursor: pointer;\n",
              "      display: none;\n",
              "      fill: #1967D2;\n",
              "      height: 32px;\n",
              "      padding: 0 0 0 0;\n",
              "      width: 32px;\n",
              "    }\n",
              "\n",
              "    .colab-df-convert:hover {\n",
              "      background-color: #E2EBFA;\n",
              "      box-shadow: 0px 1px 2px rgba(60, 64, 67, 0.3), 0px 1px 3px 1px rgba(60, 64, 67, 0.15);\n",
              "      fill: #174EA6;\n",
              "    }\n",
              "\n",
              "    [theme=dark] .colab-df-convert {\n",
              "      background-color: #3B4455;\n",
              "      fill: #D2E3FC;\n",
              "    }\n",
              "\n",
              "    [theme=dark] .colab-df-convert:hover {\n",
              "      background-color: #434B5C;\n",
              "      box-shadow: 0px 1px 3px 1px rgba(0, 0, 0, 0.15);\n",
              "      filter: drop-shadow(0px 1px 2px rgba(0, 0, 0, 0.3));\n",
              "      fill: #FFFFFF;\n",
              "    }\n",
              "  </style>\n",
              "\n",
              "      <script>\n",
              "        const buttonEl =\n",
              "          document.querySelector('#df-eddac412-db04-48cd-8663-d766e73583d5 button.colab-df-convert');\n",
              "        buttonEl.style.display =\n",
              "          google.colab.kernel.accessAllowed ? 'block' : 'none';\n",
              "\n",
              "        async function convertToInteractive(key) {\n",
              "          const element = document.querySelector('#df-eddac412-db04-48cd-8663-d766e73583d5');\n",
              "          const dataTable =\n",
              "            await google.colab.kernel.invokeFunction('convertToInteractive',\n",
              "                                                     [key], {});\n",
              "          if (!dataTable) return;\n",
              "\n",
              "          const docLinkHtml = 'Like what you see? Visit the ' +\n",
              "            '<a target=\"_blank\" href=https://colab.research.google.com/notebooks/data_table.ipynb>data table notebook</a>'\n",
              "            + ' to learn more about interactive tables.';\n",
              "          element.innerHTML = '';\n",
              "          dataTable['output_type'] = 'display_data';\n",
              "          await google.colab.output.renderOutput(dataTable, element);\n",
              "          const docLink = document.createElement('div');\n",
              "          docLink.innerHTML = docLinkHtml;\n",
              "          element.appendChild(docLink);\n",
              "        }\n",
              "      </script>\n",
              "    </div>\n",
              "  </div>\n",
              "  "
            ],
            "text/plain": [
              "    Temperature - (Celsius)  Year   Statistics      Country ISO3\n",
              "0                  -0.03780  1901  Jan Average  Afghanistan  AFG\n",
              "1                   2.42348  1901  Feb Average  Afghanistan  AFG\n",
              "2                   9.36230  1901  Mar Average  Afghanistan  AFG\n",
              "3                  13.55640  1901  Apr Average  Afghanistan  AFG\n",
              "4                  18.15090  1901  May Average  Afghanistan  AFG\n",
              "5                  22.17270  1901  Jun Average  Afghanistan  AFG\n",
              "6                  25.37870  1901  Jul Average  Afghanistan  AFG\n",
              "7                  23.66520  1901  Aug Average  Afghanistan  AFG\n",
              "8                  19.46550  1901  Sep Average  Afghanistan  AFG\n",
              "9                  11.28370  1901  Oct Average  Afghanistan  AFG\n",
              "10                  8.63190  1901  Nov Average  Afghanistan  AFG\n",
              "11                  4.02148  1901  Dec Average  Afghanistan  AFG"
            ]
          },
          "metadata": {},
          "execution_count": 100
        }
      ]
    },
    {
      "cell_type": "code",
      "metadata": {
        "id": "dunMxVu5sF1E",
        "colab": {
          "base_uri": "https://localhost:8080/",
          "height": 0
        },
        "outputId": "f3a3cc98-a19b-4bef-b60c-8336f45b8181"
      },
      "source": [
        "# Average temperature data in years for each country\n",
        "temperature_df =temperature_data.groupby(['Year', 'Country', 'ISO3'], as_index=False, axis=0).mean()\n",
        "temperature_df"
      ],
      "execution_count": 101,
      "outputs": [
        {
          "output_type": "execute_result",
          "data": {
            "text/html": [
              "\n",
              "  <div id=\"df-bd818440-ee0d-4f41-82a5-16c0e0f25761\">\n",
              "    <div class=\"colab-df-container\">\n",
              "      <div>\n",
              "<style scoped>\n",
              "    .dataframe tbody tr th:only-of-type {\n",
              "        vertical-align: middle;\n",
              "    }\n",
              "\n",
              "    .dataframe tbody tr th {\n",
              "        vertical-align: top;\n",
              "    }\n",
              "\n",
              "    .dataframe thead th {\n",
              "        text-align: right;\n",
              "    }\n",
              "</style>\n",
              "<table border=\"1\" class=\"dataframe\">\n",
              "  <thead>\n",
              "    <tr style=\"text-align: right;\">\n",
              "      <th></th>\n",
              "      <th>Year</th>\n",
              "      <th>Country</th>\n",
              "      <th>ISO3</th>\n",
              "      <th>Temperature - (Celsius)</th>\n",
              "    </tr>\n",
              "  </thead>\n",
              "  <tbody>\n",
              "    <tr>\n",
              "      <th>0</th>\n",
              "      <td>1901</td>\n",
              "      <td>Afghanistan</td>\n",
              "      <td>AFG</td>\n",
              "      <td>13.172872</td>\n",
              "    </tr>\n",
              "    <tr>\n",
              "      <th>1</th>\n",
              "      <td>1901</td>\n",
              "      <td>Albania</td>\n",
              "      <td>ALB</td>\n",
              "      <td>11.030938</td>\n",
              "    </tr>\n",
              "    <tr>\n",
              "      <th>2</th>\n",
              "      <td>1901</td>\n",
              "      <td>Algeria</td>\n",
              "      <td>DZA</td>\n",
              "      <td>22.290008</td>\n",
              "    </tr>\n",
              "    <tr>\n",
              "      <th>3</th>\n",
              "      <td>1901</td>\n",
              "      <td>Andorra</td>\n",
              "      <td>AND</td>\n",
              "      <td>9.960649</td>\n",
              "    </tr>\n",
              "    <tr>\n",
              "      <th>4</th>\n",
              "      <td>1901</td>\n",
              "      <td>Angola</td>\n",
              "      <td>AGO</td>\n",
              "      <td>21.365725</td>\n",
              "    </tr>\n",
              "    <tr>\n",
              "      <th>...</th>\n",
              "      <td>...</td>\n",
              "      <td>...</td>\n",
              "      <td>...</td>\n",
              "      <td>...</td>\n",
              "    </tr>\n",
              "    <tr>\n",
              "      <th>22731</th>\n",
              "      <td>2016</td>\n",
              "      <td>Venezuela</td>\n",
              "      <td>VEN</td>\n",
              "      <td>26.478200</td>\n",
              "    </tr>\n",
              "    <tr>\n",
              "      <th>22732</th>\n",
              "      <td>2016</td>\n",
              "      <td>Vietnam</td>\n",
              "      <td>VNM</td>\n",
              "      <td>25.073158</td>\n",
              "    </tr>\n",
              "    <tr>\n",
              "      <th>22733</th>\n",
              "      <td>2016</td>\n",
              "      <td>Yemen</td>\n",
              "      <td>YEM</td>\n",
              "      <td>24.221200</td>\n",
              "    </tr>\n",
              "    <tr>\n",
              "      <th>22734</th>\n",
              "      <td>2016</td>\n",
              "      <td>Zambia</td>\n",
              "      <td>ZMB</td>\n",
              "      <td>22.737050</td>\n",
              "    </tr>\n",
              "    <tr>\n",
              "      <th>22735</th>\n",
              "      <td>2016</td>\n",
              "      <td>Zimbabwe</td>\n",
              "      <td>ZWE</td>\n",
              "      <td>22.310167</td>\n",
              "    </tr>\n",
              "  </tbody>\n",
              "</table>\n",
              "<p>22736 rows × 4 columns</p>\n",
              "</div>\n",
              "      <button class=\"colab-df-convert\" onclick=\"convertToInteractive('df-bd818440-ee0d-4f41-82a5-16c0e0f25761')\"\n",
              "              title=\"Convert this dataframe to an interactive table.\"\n",
              "              style=\"display:none;\">\n",
              "        \n",
              "  <svg xmlns=\"http://www.w3.org/2000/svg\" height=\"24px\"viewBox=\"0 0 24 24\"\n",
              "       width=\"24px\">\n",
              "    <path d=\"M0 0h24v24H0V0z\" fill=\"none\"/>\n",
              "    <path d=\"M18.56 5.44l.94 2.06.94-2.06 2.06-.94-2.06-.94-.94-2.06-.94 2.06-2.06.94zm-11 1L8.5 8.5l.94-2.06 2.06-.94-2.06-.94L8.5 2.5l-.94 2.06-2.06.94zm10 10l.94 2.06.94-2.06 2.06-.94-2.06-.94-.94-2.06-.94 2.06-2.06.94z\"/><path d=\"M17.41 7.96l-1.37-1.37c-.4-.4-.92-.59-1.43-.59-.52 0-1.04.2-1.43.59L10.3 9.45l-7.72 7.72c-.78.78-.78 2.05 0 2.83L4 21.41c.39.39.9.59 1.41.59.51 0 1.02-.2 1.41-.59l7.78-7.78 2.81-2.81c.8-.78.8-2.07 0-2.86zM5.41 20L4 18.59l7.72-7.72 1.47 1.35L5.41 20z\"/>\n",
              "  </svg>\n",
              "      </button>\n",
              "      \n",
              "  <style>\n",
              "    .colab-df-container {\n",
              "      display:flex;\n",
              "      flex-wrap:wrap;\n",
              "      gap: 12px;\n",
              "    }\n",
              "\n",
              "    .colab-df-convert {\n",
              "      background-color: #E8F0FE;\n",
              "      border: none;\n",
              "      border-radius: 50%;\n",
              "      cursor: pointer;\n",
              "      display: none;\n",
              "      fill: #1967D2;\n",
              "      height: 32px;\n",
              "      padding: 0 0 0 0;\n",
              "      width: 32px;\n",
              "    }\n",
              "\n",
              "    .colab-df-convert:hover {\n",
              "      background-color: #E2EBFA;\n",
              "      box-shadow: 0px 1px 2px rgba(60, 64, 67, 0.3), 0px 1px 3px 1px rgba(60, 64, 67, 0.15);\n",
              "      fill: #174EA6;\n",
              "    }\n",
              "\n",
              "    [theme=dark] .colab-df-convert {\n",
              "      background-color: #3B4455;\n",
              "      fill: #D2E3FC;\n",
              "    }\n",
              "\n",
              "    [theme=dark] .colab-df-convert:hover {\n",
              "      background-color: #434B5C;\n",
              "      box-shadow: 0px 1px 3px 1px rgba(0, 0, 0, 0.15);\n",
              "      filter: drop-shadow(0px 1px 2px rgba(0, 0, 0, 0.3));\n",
              "      fill: #FFFFFF;\n",
              "    }\n",
              "  </style>\n",
              "\n",
              "      <script>\n",
              "        const buttonEl =\n",
              "          document.querySelector('#df-bd818440-ee0d-4f41-82a5-16c0e0f25761 button.colab-df-convert');\n",
              "        buttonEl.style.display =\n",
              "          google.colab.kernel.accessAllowed ? 'block' : 'none';\n",
              "\n",
              "        async function convertToInteractive(key) {\n",
              "          const element = document.querySelector('#df-bd818440-ee0d-4f41-82a5-16c0e0f25761');\n",
              "          const dataTable =\n",
              "            await google.colab.kernel.invokeFunction('convertToInteractive',\n",
              "                                                     [key], {});\n",
              "          if (!dataTable) return;\n",
              "\n",
              "          const docLinkHtml = 'Like what you see? Visit the ' +\n",
              "            '<a target=\"_blank\" href=https://colab.research.google.com/notebooks/data_table.ipynb>data table notebook</a>'\n",
              "            + ' to learn more about interactive tables.';\n",
              "          element.innerHTML = '';\n",
              "          dataTable['output_type'] = 'display_data';\n",
              "          await google.colab.output.renderOutput(dataTable, element);\n",
              "          const docLink = document.createElement('div');\n",
              "          docLink.innerHTML = docLinkHtml;\n",
              "          element.appendChild(docLink);\n",
              "        }\n",
              "      </script>\n",
              "    </div>\n",
              "  </div>\n",
              "  "
            ],
            "text/plain": [
              "       Year      Country ISO3  Temperature - (Celsius)\n",
              "0      1901  Afghanistan  AFG                13.172872\n",
              "1      1901      Albania  ALB                11.030938\n",
              "2      1901      Algeria  DZA                22.290008\n",
              "3      1901      Andorra  AND                 9.960649\n",
              "4      1901       Angola  AGO                21.365725\n",
              "...     ...          ...  ...                      ...\n",
              "22731  2016    Venezuela  VEN                26.478200\n",
              "22732  2016      Vietnam  VNM                25.073158\n",
              "22733  2016        Yemen  YEM                24.221200\n",
              "22734  2016       Zambia  ZMB                22.737050\n",
              "22735  2016     Zimbabwe  ZWE                22.310167\n",
              "\n",
              "[22736 rows x 4 columns]"
            ]
          },
          "metadata": {},
          "execution_count": 101
        }
      ]
    },
    {
      "cell_type": "markdown",
      "metadata": {
        "id": "bfkBFYYk0id8"
      },
      "source": [
        "\n",
        "## Yield data"
      ]
    },
    {
      "cell_type": "code",
      "metadata": {
        "colab": {
          "base_uri": "https://localhost:8080/",
          "height": 0
        },
        "id": "6nx-zeo1z12V",
        "outputId": "311bb46c-3913-4687-8dfc-6acc061f860b"
      },
      "source": [
        "yield_data"
      ],
      "execution_count": 102,
      "outputs": [
        {
          "output_type": "execute_result",
          "data": {
            "text/html": [
              "\n",
              "  <div id=\"df-349cb259-c6d5-46b7-a3a0-3aebbaa81673\">\n",
              "    <div class=\"colab-df-container\">\n",
              "      <div>\n",
              "<style scoped>\n",
              "    .dataframe tbody tr th:only-of-type {\n",
              "        vertical-align: middle;\n",
              "    }\n",
              "\n",
              "    .dataframe tbody tr th {\n",
              "        vertical-align: top;\n",
              "    }\n",
              "\n",
              "    .dataframe thead th {\n",
              "        text-align: right;\n",
              "    }\n",
              "</style>\n",
              "<table border=\"1\" class=\"dataframe\">\n",
              "  <thead>\n",
              "    <tr style=\"text-align: right;\">\n",
              "      <th></th>\n",
              "      <th>Domain</th>\n",
              "      <th>Area</th>\n",
              "      <th>Element</th>\n",
              "      <th>Item</th>\n",
              "      <th>Year</th>\n",
              "      <th>Unit</th>\n",
              "      <th>Value</th>\n",
              "    </tr>\n",
              "  </thead>\n",
              "  <tbody>\n",
              "    <tr>\n",
              "      <th>0</th>\n",
              "      <td>Crops</td>\n",
              "      <td>Afghanistan</td>\n",
              "      <td>Yield</td>\n",
              "      <td>Barley</td>\n",
              "      <td>1961</td>\n",
              "      <td>hg/ha</td>\n",
              "      <td>10800</td>\n",
              "    </tr>\n",
              "    <tr>\n",
              "      <th>1</th>\n",
              "      <td>Crops</td>\n",
              "      <td>Afghanistan</td>\n",
              "      <td>Yield</td>\n",
              "      <td>Barley</td>\n",
              "      <td>1962</td>\n",
              "      <td>hg/ha</td>\n",
              "      <td>10800</td>\n",
              "    </tr>\n",
              "    <tr>\n",
              "      <th>2</th>\n",
              "      <td>Crops</td>\n",
              "      <td>Afghanistan</td>\n",
              "      <td>Yield</td>\n",
              "      <td>Barley</td>\n",
              "      <td>1963</td>\n",
              "      <td>hg/ha</td>\n",
              "      <td>10800</td>\n",
              "    </tr>\n",
              "    <tr>\n",
              "      <th>3</th>\n",
              "      <td>Crops</td>\n",
              "      <td>Afghanistan</td>\n",
              "      <td>Yield</td>\n",
              "      <td>Barley</td>\n",
              "      <td>1964</td>\n",
              "      <td>hg/ha</td>\n",
              "      <td>10857</td>\n",
              "    </tr>\n",
              "    <tr>\n",
              "      <th>4</th>\n",
              "      <td>Crops</td>\n",
              "      <td>Afghanistan</td>\n",
              "      <td>Yield</td>\n",
              "      <td>Barley</td>\n",
              "      <td>1965</td>\n",
              "      <td>hg/ha</td>\n",
              "      <td>10857</td>\n",
              "    </tr>\n",
              "    <tr>\n",
              "      <th>...</th>\n",
              "      <td>...</td>\n",
              "      <td>...</td>\n",
              "      <td>...</td>\n",
              "      <td>...</td>\n",
              "      <td>...</td>\n",
              "      <td>...</td>\n",
              "      <td>...</td>\n",
              "    </tr>\n",
              "    <tr>\n",
              "      <th>63686</th>\n",
              "      <td>Crops</td>\n",
              "      <td>Zimbabwe</td>\n",
              "      <td>Yield</td>\n",
              "      <td>Wheat</td>\n",
              "      <td>2015</td>\n",
              "      <td>hg/ha</td>\n",
              "      <td>20486</td>\n",
              "    </tr>\n",
              "    <tr>\n",
              "      <th>63687</th>\n",
              "      <td>Crops</td>\n",
              "      <td>Zimbabwe</td>\n",
              "      <td>Yield</td>\n",
              "      <td>Wheat</td>\n",
              "      <td>2016</td>\n",
              "      <td>hg/ha</td>\n",
              "      <td>19013</td>\n",
              "    </tr>\n",
              "    <tr>\n",
              "      <th>63688</th>\n",
              "      <td>Crops</td>\n",
              "      <td>Zimbabwe</td>\n",
              "      <td>Yield</td>\n",
              "      <td>Wheat</td>\n",
              "      <td>2017</td>\n",
              "      <td>hg/ha</td>\n",
              "      <td>17542</td>\n",
              "    </tr>\n",
              "    <tr>\n",
              "      <th>63689</th>\n",
              "      <td>Crops</td>\n",
              "      <td>Zimbabwe</td>\n",
              "      <td>Yield</td>\n",
              "      <td>Wheat</td>\n",
              "      <td>2018</td>\n",
              "      <td>hg/ha</td>\n",
              "      <td>16379</td>\n",
              "    </tr>\n",
              "    <tr>\n",
              "      <th>63690</th>\n",
              "      <td>Crops</td>\n",
              "      <td>Zimbabwe</td>\n",
              "      <td>Yield</td>\n",
              "      <td>Wheat</td>\n",
              "      <td>2019</td>\n",
              "      <td>hg/ha</td>\n",
              "      <td>15891</td>\n",
              "    </tr>\n",
              "  </tbody>\n",
              "</table>\n",
              "<p>63691 rows × 7 columns</p>\n",
              "</div>\n",
              "      <button class=\"colab-df-convert\" onclick=\"convertToInteractive('df-349cb259-c6d5-46b7-a3a0-3aebbaa81673')\"\n",
              "              title=\"Convert this dataframe to an interactive table.\"\n",
              "              style=\"display:none;\">\n",
              "        \n",
              "  <svg xmlns=\"http://www.w3.org/2000/svg\" height=\"24px\"viewBox=\"0 0 24 24\"\n",
              "       width=\"24px\">\n",
              "    <path d=\"M0 0h24v24H0V0z\" fill=\"none\"/>\n",
              "    <path d=\"M18.56 5.44l.94 2.06.94-2.06 2.06-.94-2.06-.94-.94-2.06-.94 2.06-2.06.94zm-11 1L8.5 8.5l.94-2.06 2.06-.94-2.06-.94L8.5 2.5l-.94 2.06-2.06.94zm10 10l.94 2.06.94-2.06 2.06-.94-2.06-.94-.94-2.06-.94 2.06-2.06.94z\"/><path d=\"M17.41 7.96l-1.37-1.37c-.4-.4-.92-.59-1.43-.59-.52 0-1.04.2-1.43.59L10.3 9.45l-7.72 7.72c-.78.78-.78 2.05 0 2.83L4 21.41c.39.39.9.59 1.41.59.51 0 1.02-.2 1.41-.59l7.78-7.78 2.81-2.81c.8-.78.8-2.07 0-2.86zM5.41 20L4 18.59l7.72-7.72 1.47 1.35L5.41 20z\"/>\n",
              "  </svg>\n",
              "      </button>\n",
              "      \n",
              "  <style>\n",
              "    .colab-df-container {\n",
              "      display:flex;\n",
              "      flex-wrap:wrap;\n",
              "      gap: 12px;\n",
              "    }\n",
              "\n",
              "    .colab-df-convert {\n",
              "      background-color: #E8F0FE;\n",
              "      border: none;\n",
              "      border-radius: 50%;\n",
              "      cursor: pointer;\n",
              "      display: none;\n",
              "      fill: #1967D2;\n",
              "      height: 32px;\n",
              "      padding: 0 0 0 0;\n",
              "      width: 32px;\n",
              "    }\n",
              "\n",
              "    .colab-df-convert:hover {\n",
              "      background-color: #E2EBFA;\n",
              "      box-shadow: 0px 1px 2px rgba(60, 64, 67, 0.3), 0px 1px 3px 1px rgba(60, 64, 67, 0.15);\n",
              "      fill: #174EA6;\n",
              "    }\n",
              "\n",
              "    [theme=dark] .colab-df-convert {\n",
              "      background-color: #3B4455;\n",
              "      fill: #D2E3FC;\n",
              "    }\n",
              "\n",
              "    [theme=dark] .colab-df-convert:hover {\n",
              "      background-color: #434B5C;\n",
              "      box-shadow: 0px 1px 3px 1px rgba(0, 0, 0, 0.15);\n",
              "      filter: drop-shadow(0px 1px 2px rgba(0, 0, 0, 0.3));\n",
              "      fill: #FFFFFF;\n",
              "    }\n",
              "  </style>\n",
              "\n",
              "      <script>\n",
              "        const buttonEl =\n",
              "          document.querySelector('#df-349cb259-c6d5-46b7-a3a0-3aebbaa81673 button.colab-df-convert');\n",
              "        buttonEl.style.display =\n",
              "          google.colab.kernel.accessAllowed ? 'block' : 'none';\n",
              "\n",
              "        async function convertToInteractive(key) {\n",
              "          const element = document.querySelector('#df-349cb259-c6d5-46b7-a3a0-3aebbaa81673');\n",
              "          const dataTable =\n",
              "            await google.colab.kernel.invokeFunction('convertToInteractive',\n",
              "                                                     [key], {});\n",
              "          if (!dataTable) return;\n",
              "\n",
              "          const docLinkHtml = 'Like what you see? Visit the ' +\n",
              "            '<a target=\"_blank\" href=https://colab.research.google.com/notebooks/data_table.ipynb>data table notebook</a>'\n",
              "            + ' to learn more about interactive tables.';\n",
              "          element.innerHTML = '';\n",
              "          dataTable['output_type'] = 'display_data';\n",
              "          await google.colab.output.renderOutput(dataTable, element);\n",
              "          const docLink = document.createElement('div');\n",
              "          docLink.innerHTML = docLinkHtml;\n",
              "          element.appendChild(docLink);\n",
              "        }\n",
              "      </script>\n",
              "    </div>\n",
              "  </div>\n",
              "  "
            ],
            "text/plain": [
              "      Domain         Area Element    Item  Year   Unit  Value\n",
              "0      Crops  Afghanistan   Yield  Barley  1961  hg/ha  10800\n",
              "1      Crops  Afghanistan   Yield  Barley  1962  hg/ha  10800\n",
              "2      Crops  Afghanistan   Yield  Barley  1963  hg/ha  10800\n",
              "3      Crops  Afghanistan   Yield  Barley  1964  hg/ha  10857\n",
              "4      Crops  Afghanistan   Yield  Barley  1965  hg/ha  10857\n",
              "...      ...          ...     ...     ...   ...    ...    ...\n",
              "63686  Crops     Zimbabwe   Yield   Wheat  2015  hg/ha  20486\n",
              "63687  Crops     Zimbabwe   Yield   Wheat  2016  hg/ha  19013\n",
              "63688  Crops     Zimbabwe   Yield   Wheat  2017  hg/ha  17542\n",
              "63689  Crops     Zimbabwe   Yield   Wheat  2018  hg/ha  16379\n",
              "63690  Crops     Zimbabwe   Yield   Wheat  2019  hg/ha  15891\n",
              "\n",
              "[63691 rows x 7 columns]"
            ]
          },
          "metadata": {},
          "execution_count": 102
        }
      ]
    },
    {
      "cell_type": "code",
      "metadata": {
        "id": "zR7YUI0sdj3m",
        "colab": {
          "base_uri": "https://localhost:8080/"
        },
        "outputId": "28c7a48b-c9fb-40d2-98ec-eb6cf2dffb0d"
      },
      "source": [
        "yield_data.info()"
      ],
      "execution_count": 103,
      "outputs": [
        {
          "output_type": "stream",
          "name": "stdout",
          "text": [
            "<class 'pandas.core.frame.DataFrame'>\n",
            "RangeIndex: 63691 entries, 0 to 63690\n",
            "Data columns (total 7 columns):\n",
            " #   Column   Non-Null Count  Dtype \n",
            "---  ------   --------------  ----- \n",
            " 0   Domain   63691 non-null  object\n",
            " 1   Area     63691 non-null  object\n",
            " 2   Element  63691 non-null  object\n",
            " 3   Item     63691 non-null  object\n",
            " 4   Year     63691 non-null  int64 \n",
            " 5   Unit     63691 non-null  object\n",
            " 6   Value    63691 non-null  int64 \n",
            "dtypes: int64(2), object(5)\n",
            "memory usage: 3.4+ MB\n"
          ]
        }
      ]
    },
    {
      "cell_type": "code",
      "metadata": {
        "id": "40WUy9afpI0L",
        "colab": {
          "base_uri": "https://localhost:8080/",
          "height": 0
        },
        "outputId": "bfda0935-e50f-4f6e-9630-42ead8d7ff90"
      },
      "source": [
        "yield_data.describe()"
      ],
      "execution_count": 104,
      "outputs": [
        {
          "output_type": "execute_result",
          "data": {
            "text/html": [
              "\n",
              "  <div id=\"df-48903823-f24f-4388-9b07-6ed39d36c985\">\n",
              "    <div class=\"colab-df-container\">\n",
              "      <div>\n",
              "<style scoped>\n",
              "    .dataframe tbody tr th:only-of-type {\n",
              "        vertical-align: middle;\n",
              "    }\n",
              "\n",
              "    .dataframe tbody tr th {\n",
              "        vertical-align: top;\n",
              "    }\n",
              "\n",
              "    .dataframe thead th {\n",
              "        text-align: right;\n",
              "    }\n",
              "</style>\n",
              "<table border=\"1\" class=\"dataframe\">\n",
              "  <thead>\n",
              "    <tr style=\"text-align: right;\">\n",
              "      <th></th>\n",
              "      <th>Year</th>\n",
              "      <th>Value</th>\n",
              "    </tr>\n",
              "  </thead>\n",
              "  <tbody>\n",
              "    <tr>\n",
              "      <th>count</th>\n",
              "      <td>63691.000000</td>\n",
              "      <td>6.369100e+04</td>\n",
              "    </tr>\n",
              "    <tr>\n",
              "      <th>mean</th>\n",
              "      <td>1992.332669</td>\n",
              "      <td>8.581113e+04</td>\n",
              "    </tr>\n",
              "    <tr>\n",
              "      <th>std</th>\n",
              "      <td>16.888797</td>\n",
              "      <td>1.008880e+05</td>\n",
              "    </tr>\n",
              "    <tr>\n",
              "      <th>min</th>\n",
              "      <td>1961.000000</td>\n",
              "      <td>0.000000e+00</td>\n",
              "    </tr>\n",
              "    <tr>\n",
              "      <th>25%</th>\n",
              "      <td>1978.000000</td>\n",
              "      <td>1.770700e+04</td>\n",
              "    </tr>\n",
              "    <tr>\n",
              "      <th>50%</th>\n",
              "      <td>1994.000000</td>\n",
              "      <td>4.705900e+04</td>\n",
              "    </tr>\n",
              "    <tr>\n",
              "      <th>75%</th>\n",
              "      <td>2007.000000</td>\n",
              "      <td>1.185070e+05</td>\n",
              "    </tr>\n",
              "    <tr>\n",
              "      <th>max</th>\n",
              "      <td>2019.000000</td>\n",
              "      <td>2.236842e+06</td>\n",
              "    </tr>\n",
              "  </tbody>\n",
              "</table>\n",
              "</div>\n",
              "      <button class=\"colab-df-convert\" onclick=\"convertToInteractive('df-48903823-f24f-4388-9b07-6ed39d36c985')\"\n",
              "              title=\"Convert this dataframe to an interactive table.\"\n",
              "              style=\"display:none;\">\n",
              "        \n",
              "  <svg xmlns=\"http://www.w3.org/2000/svg\" height=\"24px\"viewBox=\"0 0 24 24\"\n",
              "       width=\"24px\">\n",
              "    <path d=\"M0 0h24v24H0V0z\" fill=\"none\"/>\n",
              "    <path d=\"M18.56 5.44l.94 2.06.94-2.06 2.06-.94-2.06-.94-.94-2.06-.94 2.06-2.06.94zm-11 1L8.5 8.5l.94-2.06 2.06-.94-2.06-.94L8.5 2.5l-.94 2.06-2.06.94zm10 10l.94 2.06.94-2.06 2.06-.94-2.06-.94-.94-2.06-.94 2.06-2.06.94z\"/><path d=\"M17.41 7.96l-1.37-1.37c-.4-.4-.92-.59-1.43-.59-.52 0-1.04.2-1.43.59L10.3 9.45l-7.72 7.72c-.78.78-.78 2.05 0 2.83L4 21.41c.39.39.9.59 1.41.59.51 0 1.02-.2 1.41-.59l7.78-7.78 2.81-2.81c.8-.78.8-2.07 0-2.86zM5.41 20L4 18.59l7.72-7.72 1.47 1.35L5.41 20z\"/>\n",
              "  </svg>\n",
              "      </button>\n",
              "      \n",
              "  <style>\n",
              "    .colab-df-container {\n",
              "      display:flex;\n",
              "      flex-wrap:wrap;\n",
              "      gap: 12px;\n",
              "    }\n",
              "\n",
              "    .colab-df-convert {\n",
              "      background-color: #E8F0FE;\n",
              "      border: none;\n",
              "      border-radius: 50%;\n",
              "      cursor: pointer;\n",
              "      display: none;\n",
              "      fill: #1967D2;\n",
              "      height: 32px;\n",
              "      padding: 0 0 0 0;\n",
              "      width: 32px;\n",
              "    }\n",
              "\n",
              "    .colab-df-convert:hover {\n",
              "      background-color: #E2EBFA;\n",
              "      box-shadow: 0px 1px 2px rgba(60, 64, 67, 0.3), 0px 1px 3px 1px rgba(60, 64, 67, 0.15);\n",
              "      fill: #174EA6;\n",
              "    }\n",
              "\n",
              "    [theme=dark] .colab-df-convert {\n",
              "      background-color: #3B4455;\n",
              "      fill: #D2E3FC;\n",
              "    }\n",
              "\n",
              "    [theme=dark] .colab-df-convert:hover {\n",
              "      background-color: #434B5C;\n",
              "      box-shadow: 0px 1px 3px 1px rgba(0, 0, 0, 0.15);\n",
              "      filter: drop-shadow(0px 1px 2px rgba(0, 0, 0, 0.3));\n",
              "      fill: #FFFFFF;\n",
              "    }\n",
              "  </style>\n",
              "\n",
              "      <script>\n",
              "        const buttonEl =\n",
              "          document.querySelector('#df-48903823-f24f-4388-9b07-6ed39d36c985 button.colab-df-convert');\n",
              "        buttonEl.style.display =\n",
              "          google.colab.kernel.accessAllowed ? 'block' : 'none';\n",
              "\n",
              "        async function convertToInteractive(key) {\n",
              "          const element = document.querySelector('#df-48903823-f24f-4388-9b07-6ed39d36c985');\n",
              "          const dataTable =\n",
              "            await google.colab.kernel.invokeFunction('convertToInteractive',\n",
              "                                                     [key], {});\n",
              "          if (!dataTable) return;\n",
              "\n",
              "          const docLinkHtml = 'Like what you see? Visit the ' +\n",
              "            '<a target=\"_blank\" href=https://colab.research.google.com/notebooks/data_table.ipynb>data table notebook</a>'\n",
              "            + ' to learn more about interactive tables.';\n",
              "          element.innerHTML = '';\n",
              "          dataTable['output_type'] = 'display_data';\n",
              "          await google.colab.output.renderOutput(dataTable, element);\n",
              "          const docLink = document.createElement('div');\n",
              "          docLink.innerHTML = docLinkHtml;\n",
              "          element.appendChild(docLink);\n",
              "        }\n",
              "      </script>\n",
              "    </div>\n",
              "  </div>\n",
              "  "
            ],
            "text/plain": [
              "               Year         Value\n",
              "count  63691.000000  6.369100e+04\n",
              "mean    1992.332669  8.581113e+04\n",
              "std       16.888797  1.008880e+05\n",
              "min     1961.000000  0.000000e+00\n",
              "25%     1978.000000  1.770700e+04\n",
              "50%     1994.000000  4.705900e+04\n",
              "75%     2007.000000  1.185070e+05\n",
              "max     2019.000000  2.236842e+06"
            ]
          },
          "metadata": {},
          "execution_count": 104
        }
      ]
    },
    {
      "cell_type": "code",
      "metadata": {
        "id": "-VNAUZncuF5j",
        "colab": {
          "base_uri": "https://localhost:8080/"
        },
        "outputId": "3484b363-6647-4def-81e0-4b314c951875"
      },
      "source": [
        "# Number of countries\n",
        "len(yield_data['Area'].unique())"
      ],
      "execution_count": 105,
      "outputs": [
        {
          "output_type": "execute_result",
          "data": {
            "text/plain": [
              "203"
            ]
          },
          "metadata": {},
          "execution_count": 105
        }
      ]
    },
    {
      "cell_type": "code",
      "metadata": {
        "id": "35jAaXZcuMln",
        "colab": {
          "base_uri": "https://localhost:8080/"
        },
        "outputId": "da8ad1ad-51ae-4919-ed83-fc22da449748"
      },
      "source": [
        "# Number of years (1961 - 2019)\n",
        "len(yield_data['Year'].unique())"
      ],
      "execution_count": 106,
      "outputs": [
        {
          "output_type": "execute_result",
          "data": {
            "text/plain": [
              "59"
            ]
          },
          "metadata": {},
          "execution_count": 106
        }
      ]
    },
    {
      "cell_type": "code",
      "metadata": {
        "id": "UL9BPJz2uxqv",
        "colab": {
          "base_uri": "https://localhost:8080/",
          "height": 0
        },
        "outputId": "881282af-e78d-4b1d-bbbf-a2c96f525902"
      },
      "source": [
        "# Remove unnecessary columns\n",
        "yield_df = yield_data.drop(['Domain', 'Element'], axis=1)\n",
        "yield_df"
      ],
      "execution_count": 107,
      "outputs": [
        {
          "output_type": "execute_result",
          "data": {
            "text/html": [
              "\n",
              "  <div id=\"df-39f1392b-f817-47c6-b9e8-c9901416af2a\">\n",
              "    <div class=\"colab-df-container\">\n",
              "      <div>\n",
              "<style scoped>\n",
              "    .dataframe tbody tr th:only-of-type {\n",
              "        vertical-align: middle;\n",
              "    }\n",
              "\n",
              "    .dataframe tbody tr th {\n",
              "        vertical-align: top;\n",
              "    }\n",
              "\n",
              "    .dataframe thead th {\n",
              "        text-align: right;\n",
              "    }\n",
              "</style>\n",
              "<table border=\"1\" class=\"dataframe\">\n",
              "  <thead>\n",
              "    <tr style=\"text-align: right;\">\n",
              "      <th></th>\n",
              "      <th>Area</th>\n",
              "      <th>Item</th>\n",
              "      <th>Year</th>\n",
              "      <th>Unit</th>\n",
              "      <th>Value</th>\n",
              "    </tr>\n",
              "  </thead>\n",
              "  <tbody>\n",
              "    <tr>\n",
              "      <th>0</th>\n",
              "      <td>Afghanistan</td>\n",
              "      <td>Barley</td>\n",
              "      <td>1961</td>\n",
              "      <td>hg/ha</td>\n",
              "      <td>10800</td>\n",
              "    </tr>\n",
              "    <tr>\n",
              "      <th>1</th>\n",
              "      <td>Afghanistan</td>\n",
              "      <td>Barley</td>\n",
              "      <td>1962</td>\n",
              "      <td>hg/ha</td>\n",
              "      <td>10800</td>\n",
              "    </tr>\n",
              "    <tr>\n",
              "      <th>2</th>\n",
              "      <td>Afghanistan</td>\n",
              "      <td>Barley</td>\n",
              "      <td>1963</td>\n",
              "      <td>hg/ha</td>\n",
              "      <td>10800</td>\n",
              "    </tr>\n",
              "    <tr>\n",
              "      <th>3</th>\n",
              "      <td>Afghanistan</td>\n",
              "      <td>Barley</td>\n",
              "      <td>1964</td>\n",
              "      <td>hg/ha</td>\n",
              "      <td>10857</td>\n",
              "    </tr>\n",
              "    <tr>\n",
              "      <th>4</th>\n",
              "      <td>Afghanistan</td>\n",
              "      <td>Barley</td>\n",
              "      <td>1965</td>\n",
              "      <td>hg/ha</td>\n",
              "      <td>10857</td>\n",
              "    </tr>\n",
              "    <tr>\n",
              "      <th>...</th>\n",
              "      <td>...</td>\n",
              "      <td>...</td>\n",
              "      <td>...</td>\n",
              "      <td>...</td>\n",
              "      <td>...</td>\n",
              "    </tr>\n",
              "    <tr>\n",
              "      <th>63686</th>\n",
              "      <td>Zimbabwe</td>\n",
              "      <td>Wheat</td>\n",
              "      <td>2015</td>\n",
              "      <td>hg/ha</td>\n",
              "      <td>20486</td>\n",
              "    </tr>\n",
              "    <tr>\n",
              "      <th>63687</th>\n",
              "      <td>Zimbabwe</td>\n",
              "      <td>Wheat</td>\n",
              "      <td>2016</td>\n",
              "      <td>hg/ha</td>\n",
              "      <td>19013</td>\n",
              "    </tr>\n",
              "    <tr>\n",
              "      <th>63688</th>\n",
              "      <td>Zimbabwe</td>\n",
              "      <td>Wheat</td>\n",
              "      <td>2017</td>\n",
              "      <td>hg/ha</td>\n",
              "      <td>17542</td>\n",
              "    </tr>\n",
              "    <tr>\n",
              "      <th>63689</th>\n",
              "      <td>Zimbabwe</td>\n",
              "      <td>Wheat</td>\n",
              "      <td>2018</td>\n",
              "      <td>hg/ha</td>\n",
              "      <td>16379</td>\n",
              "    </tr>\n",
              "    <tr>\n",
              "      <th>63690</th>\n",
              "      <td>Zimbabwe</td>\n",
              "      <td>Wheat</td>\n",
              "      <td>2019</td>\n",
              "      <td>hg/ha</td>\n",
              "      <td>15891</td>\n",
              "    </tr>\n",
              "  </tbody>\n",
              "</table>\n",
              "<p>63691 rows × 5 columns</p>\n",
              "</div>\n",
              "      <button class=\"colab-df-convert\" onclick=\"convertToInteractive('df-39f1392b-f817-47c6-b9e8-c9901416af2a')\"\n",
              "              title=\"Convert this dataframe to an interactive table.\"\n",
              "              style=\"display:none;\">\n",
              "        \n",
              "  <svg xmlns=\"http://www.w3.org/2000/svg\" height=\"24px\"viewBox=\"0 0 24 24\"\n",
              "       width=\"24px\">\n",
              "    <path d=\"M0 0h24v24H0V0z\" fill=\"none\"/>\n",
              "    <path d=\"M18.56 5.44l.94 2.06.94-2.06 2.06-.94-2.06-.94-.94-2.06-.94 2.06-2.06.94zm-11 1L8.5 8.5l.94-2.06 2.06-.94-2.06-.94L8.5 2.5l-.94 2.06-2.06.94zm10 10l.94 2.06.94-2.06 2.06-.94-2.06-.94-.94-2.06-.94 2.06-2.06.94z\"/><path d=\"M17.41 7.96l-1.37-1.37c-.4-.4-.92-.59-1.43-.59-.52 0-1.04.2-1.43.59L10.3 9.45l-7.72 7.72c-.78.78-.78 2.05 0 2.83L4 21.41c.39.39.9.59 1.41.59.51 0 1.02-.2 1.41-.59l7.78-7.78 2.81-2.81c.8-.78.8-2.07 0-2.86zM5.41 20L4 18.59l7.72-7.72 1.47 1.35L5.41 20z\"/>\n",
              "  </svg>\n",
              "      </button>\n",
              "      \n",
              "  <style>\n",
              "    .colab-df-container {\n",
              "      display:flex;\n",
              "      flex-wrap:wrap;\n",
              "      gap: 12px;\n",
              "    }\n",
              "\n",
              "    .colab-df-convert {\n",
              "      background-color: #E8F0FE;\n",
              "      border: none;\n",
              "      border-radius: 50%;\n",
              "      cursor: pointer;\n",
              "      display: none;\n",
              "      fill: #1967D2;\n",
              "      height: 32px;\n",
              "      padding: 0 0 0 0;\n",
              "      width: 32px;\n",
              "    }\n",
              "\n",
              "    .colab-df-convert:hover {\n",
              "      background-color: #E2EBFA;\n",
              "      box-shadow: 0px 1px 2px rgba(60, 64, 67, 0.3), 0px 1px 3px 1px rgba(60, 64, 67, 0.15);\n",
              "      fill: #174EA6;\n",
              "    }\n",
              "\n",
              "    [theme=dark] .colab-df-convert {\n",
              "      background-color: #3B4455;\n",
              "      fill: #D2E3FC;\n",
              "    }\n",
              "\n",
              "    [theme=dark] .colab-df-convert:hover {\n",
              "      background-color: #434B5C;\n",
              "      box-shadow: 0px 1px 3px 1px rgba(0, 0, 0, 0.15);\n",
              "      filter: drop-shadow(0px 1px 2px rgba(0, 0, 0, 0.3));\n",
              "      fill: #FFFFFF;\n",
              "    }\n",
              "  </style>\n",
              "\n",
              "      <script>\n",
              "        const buttonEl =\n",
              "          document.querySelector('#df-39f1392b-f817-47c6-b9e8-c9901416af2a button.colab-df-convert');\n",
              "        buttonEl.style.display =\n",
              "          google.colab.kernel.accessAllowed ? 'block' : 'none';\n",
              "\n",
              "        async function convertToInteractive(key) {\n",
              "          const element = document.querySelector('#df-39f1392b-f817-47c6-b9e8-c9901416af2a');\n",
              "          const dataTable =\n",
              "            await google.colab.kernel.invokeFunction('convertToInteractive',\n",
              "                                                     [key], {});\n",
              "          if (!dataTable) return;\n",
              "\n",
              "          const docLinkHtml = 'Like what you see? Visit the ' +\n",
              "            '<a target=\"_blank\" href=https://colab.research.google.com/notebooks/data_table.ipynb>data table notebook</a>'\n",
              "            + ' to learn more about interactive tables.';\n",
              "          element.innerHTML = '';\n",
              "          dataTable['output_type'] = 'display_data';\n",
              "          await google.colab.output.renderOutput(dataTable, element);\n",
              "          const docLink = document.createElement('div');\n",
              "          docLink.innerHTML = docLinkHtml;\n",
              "          element.appendChild(docLink);\n",
              "        }\n",
              "      </script>\n",
              "    </div>\n",
              "  </div>\n",
              "  "
            ],
            "text/plain": [
              "              Area    Item  Year   Unit  Value\n",
              "0      Afghanistan  Barley  1961  hg/ha  10800\n",
              "1      Afghanistan  Barley  1962  hg/ha  10800\n",
              "2      Afghanistan  Barley  1963  hg/ha  10800\n",
              "3      Afghanistan  Barley  1964  hg/ha  10857\n",
              "4      Afghanistan  Barley  1965  hg/ha  10857\n",
              "...            ...     ...   ...    ...    ...\n",
              "63686     Zimbabwe   Wheat  2015  hg/ha  20486\n",
              "63687     Zimbabwe   Wheat  2016  hg/ha  19013\n",
              "63688     Zimbabwe   Wheat  2017  hg/ha  17542\n",
              "63689     Zimbabwe   Wheat  2018  hg/ha  16379\n",
              "63690     Zimbabwe   Wheat  2019  hg/ha  15891\n",
              "\n",
              "[63691 rows x 5 columns]"
            ]
          },
          "metadata": {},
          "execution_count": 107
        }
      ]
    },
    {
      "cell_type": "markdown",
      "metadata": {
        "id": "Zwt3qFL4uY5w"
      },
      "source": [
        "## Pesticides data"
      ]
    },
    {
      "cell_type": "code",
      "metadata": {
        "id": "DZ06zZ7hukgW",
        "colab": {
          "base_uri": "https://localhost:8080/",
          "height": 0
        },
        "outputId": "78958b73-28d9-44ec-9b0e-a98478eb2f80"
      },
      "source": [
        "pesticides_data"
      ],
      "execution_count": 108,
      "outputs": [
        {
          "output_type": "execute_result",
          "data": {
            "text/html": [
              "\n",
              "  <div id=\"df-d827d91e-47f1-464e-960e-d10f408ec32d\">\n",
              "    <div class=\"colab-df-container\">\n",
              "      <div>\n",
              "<style scoped>\n",
              "    .dataframe tbody tr th:only-of-type {\n",
              "        vertical-align: middle;\n",
              "    }\n",
              "\n",
              "    .dataframe tbody tr th {\n",
              "        vertical-align: top;\n",
              "    }\n",
              "\n",
              "    .dataframe thead th {\n",
              "        text-align: right;\n",
              "    }\n",
              "</style>\n",
              "<table border=\"1\" class=\"dataframe\">\n",
              "  <thead>\n",
              "    <tr style=\"text-align: right;\">\n",
              "      <th></th>\n",
              "      <th>Domain</th>\n",
              "      <th>Area</th>\n",
              "      <th>Element</th>\n",
              "      <th>Item</th>\n",
              "      <th>Year</th>\n",
              "      <th>Unit</th>\n",
              "      <th>Value</th>\n",
              "    </tr>\n",
              "  </thead>\n",
              "  <tbody>\n",
              "    <tr>\n",
              "      <th>0</th>\n",
              "      <td>Pesticides Use</td>\n",
              "      <td>Albania</td>\n",
              "      <td>Agricultural Use</td>\n",
              "      <td>Pesticides (total)</td>\n",
              "      <td>1990</td>\n",
              "      <td>tonnes</td>\n",
              "      <td>121</td>\n",
              "    </tr>\n",
              "    <tr>\n",
              "      <th>1</th>\n",
              "      <td>Pesticides Use</td>\n",
              "      <td>Albania</td>\n",
              "      <td>Agricultural Use</td>\n",
              "      <td>Pesticides (total)</td>\n",
              "      <td>1991</td>\n",
              "      <td>tonnes</td>\n",
              "      <td>121</td>\n",
              "    </tr>\n",
              "    <tr>\n",
              "      <th>2</th>\n",
              "      <td>Pesticides Use</td>\n",
              "      <td>Albania</td>\n",
              "      <td>Agricultural Use</td>\n",
              "      <td>Pesticides (total)</td>\n",
              "      <td>1992</td>\n",
              "      <td>tonnes</td>\n",
              "      <td>121</td>\n",
              "    </tr>\n",
              "    <tr>\n",
              "      <th>3</th>\n",
              "      <td>Pesticides Use</td>\n",
              "      <td>Albania</td>\n",
              "      <td>Agricultural Use</td>\n",
              "      <td>Pesticides (total)</td>\n",
              "      <td>1993</td>\n",
              "      <td>tonnes</td>\n",
              "      <td>121</td>\n",
              "    </tr>\n",
              "    <tr>\n",
              "      <th>4</th>\n",
              "      <td>Pesticides Use</td>\n",
              "      <td>Albania</td>\n",
              "      <td>Agricultural Use</td>\n",
              "      <td>Pesticides (total)</td>\n",
              "      <td>1994</td>\n",
              "      <td>tonnes</td>\n",
              "      <td>201</td>\n",
              "    </tr>\n",
              "    <tr>\n",
              "      <th>...</th>\n",
              "      <td>...</td>\n",
              "      <td>...</td>\n",
              "      <td>...</td>\n",
              "      <td>...</td>\n",
              "      <td>...</td>\n",
              "      <td>...</td>\n",
              "      <td>...</td>\n",
              "    </tr>\n",
              "    <tr>\n",
              "      <th>4784</th>\n",
              "      <td>Pesticides Use</td>\n",
              "      <td>Zimbabwe</td>\n",
              "      <td>Agricultural Use</td>\n",
              "      <td>Pesticides (total)</td>\n",
              "      <td>2014</td>\n",
              "      <td>tonnes</td>\n",
              "      <td>2185</td>\n",
              "    </tr>\n",
              "    <tr>\n",
              "      <th>4785</th>\n",
              "      <td>Pesticides Use</td>\n",
              "      <td>Zimbabwe</td>\n",
              "      <td>Agricultural Use</td>\n",
              "      <td>Pesticides (total)</td>\n",
              "      <td>2015</td>\n",
              "      <td>tonnes</td>\n",
              "      <td>2185</td>\n",
              "    </tr>\n",
              "    <tr>\n",
              "      <th>4786</th>\n",
              "      <td>Pesticides Use</td>\n",
              "      <td>Zimbabwe</td>\n",
              "      <td>Agricultural Use</td>\n",
              "      <td>Pesticides (total)</td>\n",
              "      <td>2016</td>\n",
              "      <td>tonnes</td>\n",
              "      <td>2185</td>\n",
              "    </tr>\n",
              "    <tr>\n",
              "      <th>4787</th>\n",
              "      <td>Pesticides Use</td>\n",
              "      <td>Zimbabwe</td>\n",
              "      <td>Agricultural Use</td>\n",
              "      <td>Pesticides (total)</td>\n",
              "      <td>2017</td>\n",
              "      <td>tonnes</td>\n",
              "      <td>2185</td>\n",
              "    </tr>\n",
              "    <tr>\n",
              "      <th>4788</th>\n",
              "      <td>Pesticides Use</td>\n",
              "      <td>Zimbabwe</td>\n",
              "      <td>Agricultural Use</td>\n",
              "      <td>Pesticides (total)</td>\n",
              "      <td>2018</td>\n",
              "      <td>tonnes</td>\n",
              "      <td>2185</td>\n",
              "    </tr>\n",
              "  </tbody>\n",
              "</table>\n",
              "<p>4789 rows × 7 columns</p>\n",
              "</div>\n",
              "      <button class=\"colab-df-convert\" onclick=\"convertToInteractive('df-d827d91e-47f1-464e-960e-d10f408ec32d')\"\n",
              "              title=\"Convert this dataframe to an interactive table.\"\n",
              "              style=\"display:none;\">\n",
              "        \n",
              "  <svg xmlns=\"http://www.w3.org/2000/svg\" height=\"24px\"viewBox=\"0 0 24 24\"\n",
              "       width=\"24px\">\n",
              "    <path d=\"M0 0h24v24H0V0z\" fill=\"none\"/>\n",
              "    <path d=\"M18.56 5.44l.94 2.06.94-2.06 2.06-.94-2.06-.94-.94-2.06-.94 2.06-2.06.94zm-11 1L8.5 8.5l.94-2.06 2.06-.94-2.06-.94L8.5 2.5l-.94 2.06-2.06.94zm10 10l.94 2.06.94-2.06 2.06-.94-2.06-.94-.94-2.06-.94 2.06-2.06.94z\"/><path d=\"M17.41 7.96l-1.37-1.37c-.4-.4-.92-.59-1.43-.59-.52 0-1.04.2-1.43.59L10.3 9.45l-7.72 7.72c-.78.78-.78 2.05 0 2.83L4 21.41c.39.39.9.59 1.41.59.51 0 1.02-.2 1.41-.59l7.78-7.78 2.81-2.81c.8-.78.8-2.07 0-2.86zM5.41 20L4 18.59l7.72-7.72 1.47 1.35L5.41 20z\"/>\n",
              "  </svg>\n",
              "      </button>\n",
              "      \n",
              "  <style>\n",
              "    .colab-df-container {\n",
              "      display:flex;\n",
              "      flex-wrap:wrap;\n",
              "      gap: 12px;\n",
              "    }\n",
              "\n",
              "    .colab-df-convert {\n",
              "      background-color: #E8F0FE;\n",
              "      border: none;\n",
              "      border-radius: 50%;\n",
              "      cursor: pointer;\n",
              "      display: none;\n",
              "      fill: #1967D2;\n",
              "      height: 32px;\n",
              "      padding: 0 0 0 0;\n",
              "      width: 32px;\n",
              "    }\n",
              "\n",
              "    .colab-df-convert:hover {\n",
              "      background-color: #E2EBFA;\n",
              "      box-shadow: 0px 1px 2px rgba(60, 64, 67, 0.3), 0px 1px 3px 1px rgba(60, 64, 67, 0.15);\n",
              "      fill: #174EA6;\n",
              "    }\n",
              "\n",
              "    [theme=dark] .colab-df-convert {\n",
              "      background-color: #3B4455;\n",
              "      fill: #D2E3FC;\n",
              "    }\n",
              "\n",
              "    [theme=dark] .colab-df-convert:hover {\n",
              "      background-color: #434B5C;\n",
              "      box-shadow: 0px 1px 3px 1px rgba(0, 0, 0, 0.15);\n",
              "      filter: drop-shadow(0px 1px 2px rgba(0, 0, 0, 0.3));\n",
              "      fill: #FFFFFF;\n",
              "    }\n",
              "  </style>\n",
              "\n",
              "      <script>\n",
              "        const buttonEl =\n",
              "          document.querySelector('#df-d827d91e-47f1-464e-960e-d10f408ec32d button.colab-df-convert');\n",
              "        buttonEl.style.display =\n",
              "          google.colab.kernel.accessAllowed ? 'block' : 'none';\n",
              "\n",
              "        async function convertToInteractive(key) {\n",
              "          const element = document.querySelector('#df-d827d91e-47f1-464e-960e-d10f408ec32d');\n",
              "          const dataTable =\n",
              "            await google.colab.kernel.invokeFunction('convertToInteractive',\n",
              "                                                     [key], {});\n",
              "          if (!dataTable) return;\n",
              "\n",
              "          const docLinkHtml = 'Like what you see? Visit the ' +\n",
              "            '<a target=\"_blank\" href=https://colab.research.google.com/notebooks/data_table.ipynb>data table notebook</a>'\n",
              "            + ' to learn more about interactive tables.';\n",
              "          element.innerHTML = '';\n",
              "          dataTable['output_type'] = 'display_data';\n",
              "          await google.colab.output.renderOutput(dataTable, element);\n",
              "          const docLink = document.createElement('div');\n",
              "          docLink.innerHTML = docLinkHtml;\n",
              "          element.appendChild(docLink);\n",
              "        }\n",
              "      </script>\n",
              "    </div>\n",
              "  </div>\n",
              "  "
            ],
            "text/plain": [
              "              Domain      Area           Element  ...  Year    Unit Value\n",
              "0     Pesticides Use   Albania  Agricultural Use  ...  1990  tonnes   121\n",
              "1     Pesticides Use   Albania  Agricultural Use  ...  1991  tonnes   121\n",
              "2     Pesticides Use   Albania  Agricultural Use  ...  1992  tonnes   121\n",
              "3     Pesticides Use   Albania  Agricultural Use  ...  1993  tonnes   121\n",
              "4     Pesticides Use   Albania  Agricultural Use  ...  1994  tonnes   201\n",
              "...              ...       ...               ...  ...   ...     ...   ...\n",
              "4784  Pesticides Use  Zimbabwe  Agricultural Use  ...  2014  tonnes  2185\n",
              "4785  Pesticides Use  Zimbabwe  Agricultural Use  ...  2015  tonnes  2185\n",
              "4786  Pesticides Use  Zimbabwe  Agricultural Use  ...  2016  tonnes  2185\n",
              "4787  Pesticides Use  Zimbabwe  Agricultural Use  ...  2017  tonnes  2185\n",
              "4788  Pesticides Use  Zimbabwe  Agricultural Use  ...  2018  tonnes  2185\n",
              "\n",
              "[4789 rows x 7 columns]"
            ]
          },
          "metadata": {},
          "execution_count": 108
        }
      ]
    },
    {
      "cell_type": "code",
      "metadata": {
        "id": "FcOfIRmddxqa",
        "colab": {
          "base_uri": "https://localhost:8080/"
        },
        "outputId": "f74d69c2-3e44-4625-e6d3-ed1d048bd5b2"
      },
      "source": [
        "pesticides_data.info()"
      ],
      "execution_count": 109,
      "outputs": [
        {
          "output_type": "stream",
          "name": "stdout",
          "text": [
            "<class 'pandas.core.frame.DataFrame'>\n",
            "RangeIndex: 4789 entries, 0 to 4788\n",
            "Data columns (total 7 columns):\n",
            " #   Column   Non-Null Count  Dtype \n",
            "---  ------   --------------  ----- \n",
            " 0   Domain   4789 non-null   object\n",
            " 1   Area     4789 non-null   object\n",
            " 2   Element  4789 non-null   object\n",
            " 3   Item     4789 non-null   object\n",
            " 4   Year     4789 non-null   int64 \n",
            " 5   Unit     4789 non-null   object\n",
            " 6   Value    4789 non-null   int64 \n",
            "dtypes: int64(2), object(5)\n",
            "memory usage: 262.0+ KB\n"
          ]
        }
      ]
    },
    {
      "cell_type": "code",
      "metadata": {
        "id": "V1oXUzZewJe_",
        "colab": {
          "base_uri": "https://localhost:8080/",
          "height": 0
        },
        "outputId": "684ca72a-8525-49a5-91bf-d5a0c001f39e"
      },
      "source": [
        "pesticides_data.describe()"
      ],
      "execution_count": 110,
      "outputs": [
        {
          "output_type": "execute_result",
          "data": {
            "text/html": [
              "\n",
              "  <div id=\"df-9387721b-f79a-4a4e-87c0-20e7e6af8de8\">\n",
              "    <div class=\"colab-df-container\">\n",
              "      <div>\n",
              "<style scoped>\n",
              "    .dataframe tbody tr th:only-of-type {\n",
              "        vertical-align: middle;\n",
              "    }\n",
              "\n",
              "    .dataframe tbody tr th {\n",
              "        vertical-align: top;\n",
              "    }\n",
              "\n",
              "    .dataframe thead th {\n",
              "        text-align: right;\n",
              "    }\n",
              "</style>\n",
              "<table border=\"1\" class=\"dataframe\">\n",
              "  <thead>\n",
              "    <tr style=\"text-align: right;\">\n",
              "      <th></th>\n",
              "      <th>Year</th>\n",
              "      <th>Value</th>\n",
              "    </tr>\n",
              "  </thead>\n",
              "  <tbody>\n",
              "    <tr>\n",
              "      <th>count</th>\n",
              "      <td>4789.000000</td>\n",
              "      <td>4.789000e+03</td>\n",
              "    </tr>\n",
              "    <tr>\n",
              "      <th>mean</th>\n",
              "      <td>2004.142619</td>\n",
              "      <td>2.894718e+04</td>\n",
              "    </tr>\n",
              "    <tr>\n",
              "      <th>std</th>\n",
              "      <td>8.302595</td>\n",
              "      <td>1.627207e+05</td>\n",
              "    </tr>\n",
              "    <tr>\n",
              "      <th>min</th>\n",
              "      <td>1990.000000</td>\n",
              "      <td>0.000000e+00</td>\n",
              "    </tr>\n",
              "    <tr>\n",
              "      <th>25%</th>\n",
              "      <td>1997.000000</td>\n",
              "      <td>9.900000e+01</td>\n",
              "    </tr>\n",
              "    <tr>\n",
              "      <th>50%</th>\n",
              "      <td>2004.000000</td>\n",
              "      <td>1.221000e+03</td>\n",
              "    </tr>\n",
              "    <tr>\n",
              "      <th>75%</th>\n",
              "      <td>2011.000000</td>\n",
              "      <td>7.420000e+03</td>\n",
              "    </tr>\n",
              "    <tr>\n",
              "      <th>max</th>\n",
              "      <td>2018.000000</td>\n",
              "      <td>1.815690e+06</td>\n",
              "    </tr>\n",
              "  </tbody>\n",
              "</table>\n",
              "</div>\n",
              "      <button class=\"colab-df-convert\" onclick=\"convertToInteractive('df-9387721b-f79a-4a4e-87c0-20e7e6af8de8')\"\n",
              "              title=\"Convert this dataframe to an interactive table.\"\n",
              "              style=\"display:none;\">\n",
              "        \n",
              "  <svg xmlns=\"http://www.w3.org/2000/svg\" height=\"24px\"viewBox=\"0 0 24 24\"\n",
              "       width=\"24px\">\n",
              "    <path d=\"M0 0h24v24H0V0z\" fill=\"none\"/>\n",
              "    <path d=\"M18.56 5.44l.94 2.06.94-2.06 2.06-.94-2.06-.94-.94-2.06-.94 2.06-2.06.94zm-11 1L8.5 8.5l.94-2.06 2.06-.94-2.06-.94L8.5 2.5l-.94 2.06-2.06.94zm10 10l.94 2.06.94-2.06 2.06-.94-2.06-.94-.94-2.06-.94 2.06-2.06.94z\"/><path d=\"M17.41 7.96l-1.37-1.37c-.4-.4-.92-.59-1.43-.59-.52 0-1.04.2-1.43.59L10.3 9.45l-7.72 7.72c-.78.78-.78 2.05 0 2.83L4 21.41c.39.39.9.59 1.41.59.51 0 1.02-.2 1.41-.59l7.78-7.78 2.81-2.81c.8-.78.8-2.07 0-2.86zM5.41 20L4 18.59l7.72-7.72 1.47 1.35L5.41 20z\"/>\n",
              "  </svg>\n",
              "      </button>\n",
              "      \n",
              "  <style>\n",
              "    .colab-df-container {\n",
              "      display:flex;\n",
              "      flex-wrap:wrap;\n",
              "      gap: 12px;\n",
              "    }\n",
              "\n",
              "    .colab-df-convert {\n",
              "      background-color: #E8F0FE;\n",
              "      border: none;\n",
              "      border-radius: 50%;\n",
              "      cursor: pointer;\n",
              "      display: none;\n",
              "      fill: #1967D2;\n",
              "      height: 32px;\n",
              "      padding: 0 0 0 0;\n",
              "      width: 32px;\n",
              "    }\n",
              "\n",
              "    .colab-df-convert:hover {\n",
              "      background-color: #E2EBFA;\n",
              "      box-shadow: 0px 1px 2px rgba(60, 64, 67, 0.3), 0px 1px 3px 1px rgba(60, 64, 67, 0.15);\n",
              "      fill: #174EA6;\n",
              "    }\n",
              "\n",
              "    [theme=dark] .colab-df-convert {\n",
              "      background-color: #3B4455;\n",
              "      fill: #D2E3FC;\n",
              "    }\n",
              "\n",
              "    [theme=dark] .colab-df-convert:hover {\n",
              "      background-color: #434B5C;\n",
              "      box-shadow: 0px 1px 3px 1px rgba(0, 0, 0, 0.15);\n",
              "      filter: drop-shadow(0px 1px 2px rgba(0, 0, 0, 0.3));\n",
              "      fill: #FFFFFF;\n",
              "    }\n",
              "  </style>\n",
              "\n",
              "      <script>\n",
              "        const buttonEl =\n",
              "          document.querySelector('#df-9387721b-f79a-4a4e-87c0-20e7e6af8de8 button.colab-df-convert');\n",
              "        buttonEl.style.display =\n",
              "          google.colab.kernel.accessAllowed ? 'block' : 'none';\n",
              "\n",
              "        async function convertToInteractive(key) {\n",
              "          const element = document.querySelector('#df-9387721b-f79a-4a4e-87c0-20e7e6af8de8');\n",
              "          const dataTable =\n",
              "            await google.colab.kernel.invokeFunction('convertToInteractive',\n",
              "                                                     [key], {});\n",
              "          if (!dataTable) return;\n",
              "\n",
              "          const docLinkHtml = 'Like what you see? Visit the ' +\n",
              "            '<a target=\"_blank\" href=https://colab.research.google.com/notebooks/data_table.ipynb>data table notebook</a>'\n",
              "            + ' to learn more about interactive tables.';\n",
              "          element.innerHTML = '';\n",
              "          dataTable['output_type'] = 'display_data';\n",
              "          await google.colab.output.renderOutput(dataTable, element);\n",
              "          const docLink = document.createElement('div');\n",
              "          docLink.innerHTML = docLinkHtml;\n",
              "          element.appendChild(docLink);\n",
              "        }\n",
              "      </script>\n",
              "    </div>\n",
              "  </div>\n",
              "  "
            ],
            "text/plain": [
              "              Year         Value\n",
              "count  4789.000000  4.789000e+03\n",
              "mean   2004.142619  2.894718e+04\n",
              "std       8.302595  1.627207e+05\n",
              "min    1990.000000  0.000000e+00\n",
              "25%    1997.000000  9.900000e+01\n",
              "50%    2004.000000  1.221000e+03\n",
              "75%    2011.000000  7.420000e+03\n",
              "max    2018.000000  1.815690e+06"
            ]
          },
          "metadata": {},
          "execution_count": 110
        }
      ]
    },
    {
      "cell_type": "code",
      "metadata": {
        "id": "6hDraB-6wRRI",
        "colab": {
          "base_uri": "https://localhost:8080/"
        },
        "outputId": "c87967b9-d81d-47d5-aa2d-ec5c94849a59"
      },
      "source": [
        "# Number of countries\n",
        "len(pesticides_data['Area'].unique())"
      ],
      "execution_count": 111,
      "outputs": [
        {
          "output_type": "execute_result",
          "data": {
            "text/plain": [
              "172"
            ]
          },
          "metadata": {},
          "execution_count": 111
        }
      ]
    },
    {
      "cell_type": "code",
      "metadata": {
        "id": "g9dHtWIuwYXb",
        "colab": {
          "base_uri": "https://localhost:8080/"
        },
        "outputId": "b3ba4ad0-f338-4715-9912-50b77d7832f0"
      },
      "source": [
        "# Number of years (1990 - 2018)\n",
        "len(pesticides_data['Year'].unique())"
      ],
      "execution_count": 112,
      "outputs": [
        {
          "output_type": "execute_result",
          "data": {
            "text/plain": [
              "29"
            ]
          },
          "metadata": {},
          "execution_count": 112
        }
      ]
    },
    {
      "cell_type": "code",
      "metadata": {
        "id": "QEqwHJibwd70",
        "colab": {
          "base_uri": "https://localhost:8080/",
          "height": 0
        },
        "outputId": "34f87003-9937-42e5-a27c-b11dcc0898b9"
      },
      "source": [
        "# Remove unnecessary columns\n",
        "pesticides_df = pesticides_data.drop(['Domain', 'Element'], axis=1)\n",
        "pesticides_df"
      ],
      "execution_count": 113,
      "outputs": [
        {
          "output_type": "execute_result",
          "data": {
            "text/html": [
              "\n",
              "  <div id=\"df-92b10c52-1095-414a-b365-baa2892b6994\">\n",
              "    <div class=\"colab-df-container\">\n",
              "      <div>\n",
              "<style scoped>\n",
              "    .dataframe tbody tr th:only-of-type {\n",
              "        vertical-align: middle;\n",
              "    }\n",
              "\n",
              "    .dataframe tbody tr th {\n",
              "        vertical-align: top;\n",
              "    }\n",
              "\n",
              "    .dataframe thead th {\n",
              "        text-align: right;\n",
              "    }\n",
              "</style>\n",
              "<table border=\"1\" class=\"dataframe\">\n",
              "  <thead>\n",
              "    <tr style=\"text-align: right;\">\n",
              "      <th></th>\n",
              "      <th>Area</th>\n",
              "      <th>Item</th>\n",
              "      <th>Year</th>\n",
              "      <th>Unit</th>\n",
              "      <th>Value</th>\n",
              "    </tr>\n",
              "  </thead>\n",
              "  <tbody>\n",
              "    <tr>\n",
              "      <th>0</th>\n",
              "      <td>Albania</td>\n",
              "      <td>Pesticides (total)</td>\n",
              "      <td>1990</td>\n",
              "      <td>tonnes</td>\n",
              "      <td>121</td>\n",
              "    </tr>\n",
              "    <tr>\n",
              "      <th>1</th>\n",
              "      <td>Albania</td>\n",
              "      <td>Pesticides (total)</td>\n",
              "      <td>1991</td>\n",
              "      <td>tonnes</td>\n",
              "      <td>121</td>\n",
              "    </tr>\n",
              "    <tr>\n",
              "      <th>2</th>\n",
              "      <td>Albania</td>\n",
              "      <td>Pesticides (total)</td>\n",
              "      <td>1992</td>\n",
              "      <td>tonnes</td>\n",
              "      <td>121</td>\n",
              "    </tr>\n",
              "    <tr>\n",
              "      <th>3</th>\n",
              "      <td>Albania</td>\n",
              "      <td>Pesticides (total)</td>\n",
              "      <td>1993</td>\n",
              "      <td>tonnes</td>\n",
              "      <td>121</td>\n",
              "    </tr>\n",
              "    <tr>\n",
              "      <th>4</th>\n",
              "      <td>Albania</td>\n",
              "      <td>Pesticides (total)</td>\n",
              "      <td>1994</td>\n",
              "      <td>tonnes</td>\n",
              "      <td>201</td>\n",
              "    </tr>\n",
              "    <tr>\n",
              "      <th>...</th>\n",
              "      <td>...</td>\n",
              "      <td>...</td>\n",
              "      <td>...</td>\n",
              "      <td>...</td>\n",
              "      <td>...</td>\n",
              "    </tr>\n",
              "    <tr>\n",
              "      <th>4784</th>\n",
              "      <td>Zimbabwe</td>\n",
              "      <td>Pesticides (total)</td>\n",
              "      <td>2014</td>\n",
              "      <td>tonnes</td>\n",
              "      <td>2185</td>\n",
              "    </tr>\n",
              "    <tr>\n",
              "      <th>4785</th>\n",
              "      <td>Zimbabwe</td>\n",
              "      <td>Pesticides (total)</td>\n",
              "      <td>2015</td>\n",
              "      <td>tonnes</td>\n",
              "      <td>2185</td>\n",
              "    </tr>\n",
              "    <tr>\n",
              "      <th>4786</th>\n",
              "      <td>Zimbabwe</td>\n",
              "      <td>Pesticides (total)</td>\n",
              "      <td>2016</td>\n",
              "      <td>tonnes</td>\n",
              "      <td>2185</td>\n",
              "    </tr>\n",
              "    <tr>\n",
              "      <th>4787</th>\n",
              "      <td>Zimbabwe</td>\n",
              "      <td>Pesticides (total)</td>\n",
              "      <td>2017</td>\n",
              "      <td>tonnes</td>\n",
              "      <td>2185</td>\n",
              "    </tr>\n",
              "    <tr>\n",
              "      <th>4788</th>\n",
              "      <td>Zimbabwe</td>\n",
              "      <td>Pesticides (total)</td>\n",
              "      <td>2018</td>\n",
              "      <td>tonnes</td>\n",
              "      <td>2185</td>\n",
              "    </tr>\n",
              "  </tbody>\n",
              "</table>\n",
              "<p>4789 rows × 5 columns</p>\n",
              "</div>\n",
              "      <button class=\"colab-df-convert\" onclick=\"convertToInteractive('df-92b10c52-1095-414a-b365-baa2892b6994')\"\n",
              "              title=\"Convert this dataframe to an interactive table.\"\n",
              "              style=\"display:none;\">\n",
              "        \n",
              "  <svg xmlns=\"http://www.w3.org/2000/svg\" height=\"24px\"viewBox=\"0 0 24 24\"\n",
              "       width=\"24px\">\n",
              "    <path d=\"M0 0h24v24H0V0z\" fill=\"none\"/>\n",
              "    <path d=\"M18.56 5.44l.94 2.06.94-2.06 2.06-.94-2.06-.94-.94-2.06-.94 2.06-2.06.94zm-11 1L8.5 8.5l.94-2.06 2.06-.94-2.06-.94L8.5 2.5l-.94 2.06-2.06.94zm10 10l.94 2.06.94-2.06 2.06-.94-2.06-.94-.94-2.06-.94 2.06-2.06.94z\"/><path d=\"M17.41 7.96l-1.37-1.37c-.4-.4-.92-.59-1.43-.59-.52 0-1.04.2-1.43.59L10.3 9.45l-7.72 7.72c-.78.78-.78 2.05 0 2.83L4 21.41c.39.39.9.59 1.41.59.51 0 1.02-.2 1.41-.59l7.78-7.78 2.81-2.81c.8-.78.8-2.07 0-2.86zM5.41 20L4 18.59l7.72-7.72 1.47 1.35L5.41 20z\"/>\n",
              "  </svg>\n",
              "      </button>\n",
              "      \n",
              "  <style>\n",
              "    .colab-df-container {\n",
              "      display:flex;\n",
              "      flex-wrap:wrap;\n",
              "      gap: 12px;\n",
              "    }\n",
              "\n",
              "    .colab-df-convert {\n",
              "      background-color: #E8F0FE;\n",
              "      border: none;\n",
              "      border-radius: 50%;\n",
              "      cursor: pointer;\n",
              "      display: none;\n",
              "      fill: #1967D2;\n",
              "      height: 32px;\n",
              "      padding: 0 0 0 0;\n",
              "      width: 32px;\n",
              "    }\n",
              "\n",
              "    .colab-df-convert:hover {\n",
              "      background-color: #E2EBFA;\n",
              "      box-shadow: 0px 1px 2px rgba(60, 64, 67, 0.3), 0px 1px 3px 1px rgba(60, 64, 67, 0.15);\n",
              "      fill: #174EA6;\n",
              "    }\n",
              "\n",
              "    [theme=dark] .colab-df-convert {\n",
              "      background-color: #3B4455;\n",
              "      fill: #D2E3FC;\n",
              "    }\n",
              "\n",
              "    [theme=dark] .colab-df-convert:hover {\n",
              "      background-color: #434B5C;\n",
              "      box-shadow: 0px 1px 3px 1px rgba(0, 0, 0, 0.15);\n",
              "      filter: drop-shadow(0px 1px 2px rgba(0, 0, 0, 0.3));\n",
              "      fill: #FFFFFF;\n",
              "    }\n",
              "  </style>\n",
              "\n",
              "      <script>\n",
              "        const buttonEl =\n",
              "          document.querySelector('#df-92b10c52-1095-414a-b365-baa2892b6994 button.colab-df-convert');\n",
              "        buttonEl.style.display =\n",
              "          google.colab.kernel.accessAllowed ? 'block' : 'none';\n",
              "\n",
              "        async function convertToInteractive(key) {\n",
              "          const element = document.querySelector('#df-92b10c52-1095-414a-b365-baa2892b6994');\n",
              "          const dataTable =\n",
              "            await google.colab.kernel.invokeFunction('convertToInteractive',\n",
              "                                                     [key], {});\n",
              "          if (!dataTable) return;\n",
              "\n",
              "          const docLinkHtml = 'Like what you see? Visit the ' +\n",
              "            '<a target=\"_blank\" href=https://colab.research.google.com/notebooks/data_table.ipynb>data table notebook</a>'\n",
              "            + ' to learn more about interactive tables.';\n",
              "          element.innerHTML = '';\n",
              "          dataTable['output_type'] = 'display_data';\n",
              "          await google.colab.output.renderOutput(dataTable, element);\n",
              "          const docLink = document.createElement('div');\n",
              "          docLink.innerHTML = docLinkHtml;\n",
              "          element.appendChild(docLink);\n",
              "        }\n",
              "      </script>\n",
              "    </div>\n",
              "  </div>\n",
              "  "
            ],
            "text/plain": [
              "          Area                Item  Year    Unit  Value\n",
              "0      Albania  Pesticides (total)  1990  tonnes    121\n",
              "1      Albania  Pesticides (total)  1991  tonnes    121\n",
              "2      Albania  Pesticides (total)  1992  tonnes    121\n",
              "3      Albania  Pesticides (total)  1993  tonnes    121\n",
              "4      Albania  Pesticides (total)  1994  tonnes    201\n",
              "...        ...                 ...   ...     ...    ...\n",
              "4784  Zimbabwe  Pesticides (total)  2014  tonnes   2185\n",
              "4785  Zimbabwe  Pesticides (total)  2015  tonnes   2185\n",
              "4786  Zimbabwe  Pesticides (total)  2016  tonnes   2185\n",
              "4787  Zimbabwe  Pesticides (total)  2017  tonnes   2185\n",
              "4788  Zimbabwe  Pesticides (total)  2018  tonnes   2185\n",
              "\n",
              "[4789 rows x 5 columns]"
            ]
          },
          "metadata": {},
          "execution_count": 113
        }
      ]
    },
    {
      "cell_type": "markdown",
      "metadata": {
        "id": "zLMa9ocB7C9F"
      },
      "source": [
        "## Merging"
      ]
    },
    {
      "cell_type": "code",
      "metadata": {
        "id": "LYpPhQOe9JTf"
      },
      "source": [
        "rainfall_df.rename({'Rainfall - (MM)': 'Rainfall (mm)'}, axis=1, inplace=True)"
      ],
      "execution_count": 114,
      "outputs": []
    },
    {
      "cell_type": "code",
      "metadata": {
        "id": "LIyrj1-s9k2s"
      },
      "source": [
        "temperature_df.rename({'Temperature - (Celsius)': 'Temperature (Celsius)'}, axis=1, inplace=True)"
      ],
      "execution_count": 115,
      "outputs": []
    },
    {
      "cell_type": "code",
      "metadata": {
        "id": "T-DVlKrG9zeU"
      },
      "source": [
        "yield_df.rename({'Area': 'Country', 'Value': 'Yield (hg/ha)'}, axis=1, inplace=True)\n",
        "yield_df.drop('Unit', axis=1, inplace=True)"
      ],
      "execution_count": 116,
      "outputs": []
    },
    {
      "cell_type": "code",
      "metadata": {
        "id": "eAyPlZni-SYA"
      },
      "source": [
        "pesticides_df.rename({'Area': 'Country', 'Value': 'Pesticides (tonnes)'}, axis=1, inplace=True)\n",
        "pesticides_df.drop(['Unit', 'Item'], axis=1, inplace=True)"
      ],
      "execution_count": 117,
      "outputs": []
    },
    {
      "cell_type": "code",
      "metadata": {
        "colab": {
          "base_uri": "https://localhost:8080/",
          "height": 0
        },
        "id": "j3TKAqZd_wRO",
        "outputId": "7e38fda7-01a4-4f30-99b3-a9f8f53f473e"
      },
      "source": [
        "rain_temp_df = pd.merge(rainfall_df, temperature_df, on=['Country', 'Year', 'ISO3'])\n",
        "rain_temp_yield_df = pd.merge(rain_temp_df, yield_df, on=['Country', 'Year'])\n",
        "rain_temp_yield_pest_df = pd.merge(rain_temp_yield_df, pesticides_df, on=['Country', 'Year'])\n",
        "rain_temp_yield_pest_df.drop('ISO3', axis=1, inplace=True)\n",
        "data = rain_temp_yield_pest_df[['Year', 'Country', 'Item', 'Rainfall (mm)', 'Temperature (Celsius)', 'Pesticides (tonnes)', 'Yield (hg/ha)']]\n",
        "data"
      ],
      "execution_count": 118,
      "outputs": [
        {
          "output_type": "execute_result",
          "data": {
            "text/html": [
              "\n",
              "  <div id=\"df-26aa7f22-fd41-42e3-92a8-3838f222ccd8\">\n",
              "    <div class=\"colab-df-container\">\n",
              "      <div>\n",
              "<style scoped>\n",
              "    .dataframe tbody tr th:only-of-type {\n",
              "        vertical-align: middle;\n",
              "    }\n",
              "\n",
              "    .dataframe tbody tr th {\n",
              "        vertical-align: top;\n",
              "    }\n",
              "\n",
              "    .dataframe thead th {\n",
              "        text-align: right;\n",
              "    }\n",
              "</style>\n",
              "<table border=\"1\" class=\"dataframe\">\n",
              "  <thead>\n",
              "    <tr style=\"text-align: right;\">\n",
              "      <th></th>\n",
              "      <th>Year</th>\n",
              "      <th>Country</th>\n",
              "      <th>Item</th>\n",
              "      <th>Rainfall (mm)</th>\n",
              "      <th>Temperature (Celsius)</th>\n",
              "      <th>Pesticides (tonnes)</th>\n",
              "      <th>Yield (hg/ha)</th>\n",
              "    </tr>\n",
              "  </thead>\n",
              "  <tbody>\n",
              "    <tr>\n",
              "      <th>0</th>\n",
              "      <td>1990</td>\n",
              "      <td>Albania</td>\n",
              "      <td>Barley</td>\n",
              "      <td>812.23450</td>\n",
              "      <td>12.051221</td>\n",
              "      <td>121</td>\n",
              "      <td>10000</td>\n",
              "    </tr>\n",
              "    <tr>\n",
              "      <th>1</th>\n",
              "      <td>1990</td>\n",
              "      <td>Albania</td>\n",
              "      <td>Carrots and turnips</td>\n",
              "      <td>812.23450</td>\n",
              "      <td>12.051221</td>\n",
              "      <td>121</td>\n",
              "      <td>150000</td>\n",
              "    </tr>\n",
              "    <tr>\n",
              "      <th>2</th>\n",
              "      <td>1990</td>\n",
              "      <td>Albania</td>\n",
              "      <td>Cauliflowers and broccoli</td>\n",
              "      <td>812.23450</td>\n",
              "      <td>12.051221</td>\n",
              "      <td>121</td>\n",
              "      <td>171429</td>\n",
              "    </tr>\n",
              "    <tr>\n",
              "      <th>3</th>\n",
              "      <td>1990</td>\n",
              "      <td>Albania</td>\n",
              "      <td>Garlic</td>\n",
              "      <td>812.23450</td>\n",
              "      <td>12.051221</td>\n",
              "      <td>121</td>\n",
              "      <td>65000</td>\n",
              "    </tr>\n",
              "    <tr>\n",
              "      <th>4</th>\n",
              "      <td>1990</td>\n",
              "      <td>Albania</td>\n",
              "      <td>Maize</td>\n",
              "      <td>812.23450</td>\n",
              "      <td>12.051221</td>\n",
              "      <td>121</td>\n",
              "      <td>36613</td>\n",
              "    </tr>\n",
              "    <tr>\n",
              "      <th>...</th>\n",
              "      <td>...</td>\n",
              "      <td>...</td>\n",
              "      <td>...</td>\n",
              "      <td>...</td>\n",
              "      <td>...</td>\n",
              "      <td>...</td>\n",
              "      <td>...</td>\n",
              "    </tr>\n",
              "    <tr>\n",
              "      <th>25224</th>\n",
              "      <td>2016</td>\n",
              "      <td>Zimbabwe</td>\n",
              "      <td>Maize</td>\n",
              "      <td>455.13295</td>\n",
              "      <td>22.310167</td>\n",
              "      <td>2185</td>\n",
              "      <td>4405</td>\n",
              "    </tr>\n",
              "    <tr>\n",
              "      <th>25225</th>\n",
              "      <td>2016</td>\n",
              "      <td>Zimbabwe</td>\n",
              "      <td>Oats</td>\n",
              "      <td>455.13295</td>\n",
              "      <td>22.310167</td>\n",
              "      <td>2185</td>\n",
              "      <td>20505</td>\n",
              "    </tr>\n",
              "    <tr>\n",
              "      <th>25226</th>\n",
              "      <td>2016</td>\n",
              "      <td>Zimbabwe</td>\n",
              "      <td>Potatoes</td>\n",
              "      <td>455.13295</td>\n",
              "      <td>22.310167</td>\n",
              "      <td>2185</td>\n",
              "      <td>51792</td>\n",
              "    </tr>\n",
              "    <tr>\n",
              "      <th>25227</th>\n",
              "      <td>2016</td>\n",
              "      <td>Zimbabwe</td>\n",
              "      <td>Sweet potatoes</td>\n",
              "      <td>455.13295</td>\n",
              "      <td>22.310167</td>\n",
              "      <td>2185</td>\n",
              "      <td>27283</td>\n",
              "    </tr>\n",
              "    <tr>\n",
              "      <th>25228</th>\n",
              "      <td>2016</td>\n",
              "      <td>Zimbabwe</td>\n",
              "      <td>Wheat</td>\n",
              "      <td>455.13295</td>\n",
              "      <td>22.310167</td>\n",
              "      <td>2185</td>\n",
              "      <td>19013</td>\n",
              "    </tr>\n",
              "  </tbody>\n",
              "</table>\n",
              "<p>25229 rows × 7 columns</p>\n",
              "</div>\n",
              "      <button class=\"colab-df-convert\" onclick=\"convertToInteractive('df-26aa7f22-fd41-42e3-92a8-3838f222ccd8')\"\n",
              "              title=\"Convert this dataframe to an interactive table.\"\n",
              "              style=\"display:none;\">\n",
              "        \n",
              "  <svg xmlns=\"http://www.w3.org/2000/svg\" height=\"24px\"viewBox=\"0 0 24 24\"\n",
              "       width=\"24px\">\n",
              "    <path d=\"M0 0h24v24H0V0z\" fill=\"none\"/>\n",
              "    <path d=\"M18.56 5.44l.94 2.06.94-2.06 2.06-.94-2.06-.94-.94-2.06-.94 2.06-2.06.94zm-11 1L8.5 8.5l.94-2.06 2.06-.94-2.06-.94L8.5 2.5l-.94 2.06-2.06.94zm10 10l.94 2.06.94-2.06 2.06-.94-2.06-.94-.94-2.06-.94 2.06-2.06.94z\"/><path d=\"M17.41 7.96l-1.37-1.37c-.4-.4-.92-.59-1.43-.59-.52 0-1.04.2-1.43.59L10.3 9.45l-7.72 7.72c-.78.78-.78 2.05 0 2.83L4 21.41c.39.39.9.59 1.41.59.51 0 1.02-.2 1.41-.59l7.78-7.78 2.81-2.81c.8-.78.8-2.07 0-2.86zM5.41 20L4 18.59l7.72-7.72 1.47 1.35L5.41 20z\"/>\n",
              "  </svg>\n",
              "      </button>\n",
              "      \n",
              "  <style>\n",
              "    .colab-df-container {\n",
              "      display:flex;\n",
              "      flex-wrap:wrap;\n",
              "      gap: 12px;\n",
              "    }\n",
              "\n",
              "    .colab-df-convert {\n",
              "      background-color: #E8F0FE;\n",
              "      border: none;\n",
              "      border-radius: 50%;\n",
              "      cursor: pointer;\n",
              "      display: none;\n",
              "      fill: #1967D2;\n",
              "      height: 32px;\n",
              "      padding: 0 0 0 0;\n",
              "      width: 32px;\n",
              "    }\n",
              "\n",
              "    .colab-df-convert:hover {\n",
              "      background-color: #E2EBFA;\n",
              "      box-shadow: 0px 1px 2px rgba(60, 64, 67, 0.3), 0px 1px 3px 1px rgba(60, 64, 67, 0.15);\n",
              "      fill: #174EA6;\n",
              "    }\n",
              "\n",
              "    [theme=dark] .colab-df-convert {\n",
              "      background-color: #3B4455;\n",
              "      fill: #D2E3FC;\n",
              "    }\n",
              "\n",
              "    [theme=dark] .colab-df-convert:hover {\n",
              "      background-color: #434B5C;\n",
              "      box-shadow: 0px 1px 3px 1px rgba(0, 0, 0, 0.15);\n",
              "      filter: drop-shadow(0px 1px 2px rgba(0, 0, 0, 0.3));\n",
              "      fill: #FFFFFF;\n",
              "    }\n",
              "  </style>\n",
              "\n",
              "      <script>\n",
              "        const buttonEl =\n",
              "          document.querySelector('#df-26aa7f22-fd41-42e3-92a8-3838f222ccd8 button.colab-df-convert');\n",
              "        buttonEl.style.display =\n",
              "          google.colab.kernel.accessAllowed ? 'block' : 'none';\n",
              "\n",
              "        async function convertToInteractive(key) {\n",
              "          const element = document.querySelector('#df-26aa7f22-fd41-42e3-92a8-3838f222ccd8');\n",
              "          const dataTable =\n",
              "            await google.colab.kernel.invokeFunction('convertToInteractive',\n",
              "                                                     [key], {});\n",
              "          if (!dataTable) return;\n",
              "\n",
              "          const docLinkHtml = 'Like what you see? Visit the ' +\n",
              "            '<a target=\"_blank\" href=https://colab.research.google.com/notebooks/data_table.ipynb>data table notebook</a>'\n",
              "            + ' to learn more about interactive tables.';\n",
              "          element.innerHTML = '';\n",
              "          dataTable['output_type'] = 'display_data';\n",
              "          await google.colab.output.renderOutput(dataTable, element);\n",
              "          const docLink = document.createElement('div');\n",
              "          docLink.innerHTML = docLinkHtml;\n",
              "          element.appendChild(docLink);\n",
              "        }\n",
              "      </script>\n",
              "    </div>\n",
              "  </div>\n",
              "  "
            ],
            "text/plain": [
              "       Year   Country  ... Pesticides (tonnes)  Yield (hg/ha)\n",
              "0      1990   Albania  ...                 121          10000\n",
              "1      1990   Albania  ...                 121         150000\n",
              "2      1990   Albania  ...                 121         171429\n",
              "3      1990   Albania  ...                 121          65000\n",
              "4      1990   Albania  ...                 121          36613\n",
              "...     ...       ...  ...                 ...            ...\n",
              "25224  2016  Zimbabwe  ...                2185           4405\n",
              "25225  2016  Zimbabwe  ...                2185          20505\n",
              "25226  2016  Zimbabwe  ...                2185          51792\n",
              "25227  2016  Zimbabwe  ...                2185          27283\n",
              "25228  2016  Zimbabwe  ...                2185          19013\n",
              "\n",
              "[25229 rows x 7 columns]"
            ]
          },
          "metadata": {},
          "execution_count": 118
        }
      ]
    },
    {
      "cell_type": "code",
      "metadata": {
        "colab": {
          "base_uri": "https://localhost:8080/"
        },
        "id": "zaX8XJ26Bt5r",
        "outputId": "58e69718-fc34-4ea2-a654-dd65fbee7a79"
      },
      "source": [
        "data.info()"
      ],
      "execution_count": 119,
      "outputs": [
        {
          "output_type": "stream",
          "name": "stdout",
          "text": [
            "<class 'pandas.core.frame.DataFrame'>\n",
            "Int64Index: 25229 entries, 0 to 25228\n",
            "Data columns (total 7 columns):\n",
            " #   Column                 Non-Null Count  Dtype  \n",
            "---  ------                 --------------  -----  \n",
            " 0   Year                   25229 non-null  int64  \n",
            " 1   Country                25229 non-null  object \n",
            " 2   Item                   25229 non-null  object \n",
            " 3   Rainfall (mm)          25229 non-null  float64\n",
            " 4   Temperature (Celsius)  25229 non-null  float64\n",
            " 5   Pesticides (tonnes)    25229 non-null  int64  \n",
            " 6   Yield (hg/ha)          25229 non-null  int64  \n",
            "dtypes: float64(2), int64(3), object(2)\n",
            "memory usage: 1.5+ MB\n"
          ]
        }
      ]
    },
    {
      "cell_type": "code",
      "metadata": {
        "colab": {
          "base_uri": "https://localhost:8080/",
          "height": 0
        },
        "id": "HD8whHSG_2fc",
        "outputId": "05261fee-67f4-4b66-b7fd-655cf9234d0e"
      },
      "source": [
        "data.describe()"
      ],
      "execution_count": 120,
      "outputs": [
        {
          "output_type": "execute_result",
          "data": {
            "text/html": [
              "\n",
              "  <div id=\"df-a7ac28b8-f721-45ca-961c-16971a9a5748\">\n",
              "    <div class=\"colab-df-container\">\n",
              "      <div>\n",
              "<style scoped>\n",
              "    .dataframe tbody tr th:only-of-type {\n",
              "        vertical-align: middle;\n",
              "    }\n",
              "\n",
              "    .dataframe tbody tr th {\n",
              "        vertical-align: top;\n",
              "    }\n",
              "\n",
              "    .dataframe thead th {\n",
              "        text-align: right;\n",
              "    }\n",
              "</style>\n",
              "<table border=\"1\" class=\"dataframe\">\n",
              "  <thead>\n",
              "    <tr style=\"text-align: right;\">\n",
              "      <th></th>\n",
              "      <th>Year</th>\n",
              "      <th>Rainfall (mm)</th>\n",
              "      <th>Temperature (Celsius)</th>\n",
              "      <th>Pesticides (tonnes)</th>\n",
              "      <th>Yield (hg/ha)</th>\n",
              "    </tr>\n",
              "  </thead>\n",
              "  <tbody>\n",
              "    <tr>\n",
              "      <th>count</th>\n",
              "      <td>25229.000000</td>\n",
              "      <td>25229.000000</td>\n",
              "      <td>25229.000000</td>\n",
              "      <td>2.522900e+04</td>\n",
              "      <td>2.522900e+04</td>\n",
              "    </tr>\n",
              "    <tr>\n",
              "      <th>mean</th>\n",
              "      <td>2003.374727</td>\n",
              "      <td>973.384508</td>\n",
              "      <td>16.688241</td>\n",
              "      <td>3.494096e+04</td>\n",
              "      <td>9.514574e+04</td>\n",
              "    </tr>\n",
              "    <tr>\n",
              "      <th>std</th>\n",
              "      <td>7.681975</td>\n",
              "      <td>721.249911</td>\n",
              "      <td>8.008750</td>\n",
              "      <td>1.750313e+05</td>\n",
              "      <td>1.059950e+05</td>\n",
              "    </tr>\n",
              "    <tr>\n",
              "      <th>min</th>\n",
              "      <td>1990.000000</td>\n",
              "      <td>16.703610</td>\n",
              "      <td>-7.166322</td>\n",
              "      <td>0.000000e+00</td>\n",
              "      <td>0.000000e+00</td>\n",
              "    </tr>\n",
              "    <tr>\n",
              "      <th>25%</th>\n",
              "      <td>1997.000000</td>\n",
              "      <td>486.113000</td>\n",
              "      <td>9.981923</td>\n",
              "      <td>5.670000e+02</td>\n",
              "      <td>2.080800e+04</td>\n",
              "    </tr>\n",
              "    <tr>\n",
              "      <th>50%</th>\n",
              "      <td>2003.000000</td>\n",
              "      <td>756.758400</td>\n",
              "      <td>18.222467</td>\n",
              "      <td>2.803000e+03</td>\n",
              "      <td>5.444700e+04</td>\n",
              "    </tr>\n",
              "    <tr>\n",
              "      <th>75%</th>\n",
              "      <td>2010.000000</td>\n",
              "      <td>1347.522400</td>\n",
              "      <td>23.992408</td>\n",
              "      <td>1.375600e+04</td>\n",
              "      <td>1.343930e+05</td>\n",
              "    </tr>\n",
              "    <tr>\n",
              "      <th>max</th>\n",
              "      <td>2016.000000</td>\n",
              "      <td>4999.686400</td>\n",
              "      <td>29.541075</td>\n",
              "      <td>1.815690e+06</td>\n",
              "      <td>1.705000e+06</td>\n",
              "    </tr>\n",
              "  </tbody>\n",
              "</table>\n",
              "</div>\n",
              "      <button class=\"colab-df-convert\" onclick=\"convertToInteractive('df-a7ac28b8-f721-45ca-961c-16971a9a5748')\"\n",
              "              title=\"Convert this dataframe to an interactive table.\"\n",
              "              style=\"display:none;\">\n",
              "        \n",
              "  <svg xmlns=\"http://www.w3.org/2000/svg\" height=\"24px\"viewBox=\"0 0 24 24\"\n",
              "       width=\"24px\">\n",
              "    <path d=\"M0 0h24v24H0V0z\" fill=\"none\"/>\n",
              "    <path d=\"M18.56 5.44l.94 2.06.94-2.06 2.06-.94-2.06-.94-.94-2.06-.94 2.06-2.06.94zm-11 1L8.5 8.5l.94-2.06 2.06-.94-2.06-.94L8.5 2.5l-.94 2.06-2.06.94zm10 10l.94 2.06.94-2.06 2.06-.94-2.06-.94-.94-2.06-.94 2.06-2.06.94z\"/><path d=\"M17.41 7.96l-1.37-1.37c-.4-.4-.92-.59-1.43-.59-.52 0-1.04.2-1.43.59L10.3 9.45l-7.72 7.72c-.78.78-.78 2.05 0 2.83L4 21.41c.39.39.9.59 1.41.59.51 0 1.02-.2 1.41-.59l7.78-7.78 2.81-2.81c.8-.78.8-2.07 0-2.86zM5.41 20L4 18.59l7.72-7.72 1.47 1.35L5.41 20z\"/>\n",
              "  </svg>\n",
              "      </button>\n",
              "      \n",
              "  <style>\n",
              "    .colab-df-container {\n",
              "      display:flex;\n",
              "      flex-wrap:wrap;\n",
              "      gap: 12px;\n",
              "    }\n",
              "\n",
              "    .colab-df-convert {\n",
              "      background-color: #E8F0FE;\n",
              "      border: none;\n",
              "      border-radius: 50%;\n",
              "      cursor: pointer;\n",
              "      display: none;\n",
              "      fill: #1967D2;\n",
              "      height: 32px;\n",
              "      padding: 0 0 0 0;\n",
              "      width: 32px;\n",
              "    }\n",
              "\n",
              "    .colab-df-convert:hover {\n",
              "      background-color: #E2EBFA;\n",
              "      box-shadow: 0px 1px 2px rgba(60, 64, 67, 0.3), 0px 1px 3px 1px rgba(60, 64, 67, 0.15);\n",
              "      fill: #174EA6;\n",
              "    }\n",
              "\n",
              "    [theme=dark] .colab-df-convert {\n",
              "      background-color: #3B4455;\n",
              "      fill: #D2E3FC;\n",
              "    }\n",
              "\n",
              "    [theme=dark] .colab-df-convert:hover {\n",
              "      background-color: #434B5C;\n",
              "      box-shadow: 0px 1px 3px 1px rgba(0, 0, 0, 0.15);\n",
              "      filter: drop-shadow(0px 1px 2px rgba(0, 0, 0, 0.3));\n",
              "      fill: #FFFFFF;\n",
              "    }\n",
              "  </style>\n",
              "\n",
              "      <script>\n",
              "        const buttonEl =\n",
              "          document.querySelector('#df-a7ac28b8-f721-45ca-961c-16971a9a5748 button.colab-df-convert');\n",
              "        buttonEl.style.display =\n",
              "          google.colab.kernel.accessAllowed ? 'block' : 'none';\n",
              "\n",
              "        async function convertToInteractive(key) {\n",
              "          const element = document.querySelector('#df-a7ac28b8-f721-45ca-961c-16971a9a5748');\n",
              "          const dataTable =\n",
              "            await google.colab.kernel.invokeFunction('convertToInteractive',\n",
              "                                                     [key], {});\n",
              "          if (!dataTable) return;\n",
              "\n",
              "          const docLinkHtml = 'Like what you see? Visit the ' +\n",
              "            '<a target=\"_blank\" href=https://colab.research.google.com/notebooks/data_table.ipynb>data table notebook</a>'\n",
              "            + ' to learn more about interactive tables.';\n",
              "          element.innerHTML = '';\n",
              "          dataTable['output_type'] = 'display_data';\n",
              "          await google.colab.output.renderOutput(dataTable, element);\n",
              "          const docLink = document.createElement('div');\n",
              "          docLink.innerHTML = docLinkHtml;\n",
              "          element.appendChild(docLink);\n",
              "        }\n",
              "      </script>\n",
              "    </div>\n",
              "  </div>\n",
              "  "
            ],
            "text/plain": [
              "               Year  Rainfall (mm)  ...  Pesticides (tonnes)  Yield (hg/ha)\n",
              "count  25229.000000   25229.000000  ...         2.522900e+04   2.522900e+04\n",
              "mean    2003.374727     973.384508  ...         3.494096e+04   9.514574e+04\n",
              "std        7.681975     721.249911  ...         1.750313e+05   1.059950e+05\n",
              "min     1990.000000      16.703610  ...         0.000000e+00   0.000000e+00\n",
              "25%     1997.000000     486.113000  ...         5.670000e+02   2.080800e+04\n",
              "50%     2003.000000     756.758400  ...         2.803000e+03   5.444700e+04\n",
              "75%     2010.000000    1347.522400  ...         1.375600e+04   1.343930e+05\n",
              "max     2016.000000    4999.686400  ...         1.815690e+06   1.705000e+06\n",
              "\n",
              "[8 rows x 5 columns]"
            ]
          },
          "metadata": {},
          "execution_count": 120
        }
      ]
    },
    {
      "cell_type": "code",
      "metadata": {
        "colab": {
          "base_uri": "https://localhost:8080/"
        },
        "id": "BcMXMIMrAEQO",
        "outputId": "e5a95f23-61d8-451e-e674-8e051d5c767b"
      },
      "source": [
        "# Number of countries\n",
        "len(data.Country.unique())"
      ],
      "execution_count": 121,
      "outputs": [
        {
          "output_type": "execute_result",
          "data": {
            "text/plain": [
              "135"
            ]
          },
          "metadata": {},
          "execution_count": 121
        }
      ]
    },
    {
      "cell_type": "code",
      "metadata": {
        "colab": {
          "base_uri": "https://localhost:8080/"
        },
        "id": "TF_P-hbiBlnb",
        "outputId": "57100f01-87cb-4b61-c9c7-11cf6c9de24e"
      },
      "source": [
        "# Number of years (1990 - 2016)\n",
        "len(data.Year.unique())"
      ],
      "execution_count": 122,
      "outputs": [
        {
          "output_type": "execute_result",
          "data": {
            "text/plain": [
              "27"
            ]
          },
          "metadata": {},
          "execution_count": 122
        }
      ]
    },
    {
      "cell_type": "markdown",
      "metadata": {
        "id": "j50tyMsyAnTd"
      },
      "source": [
        "# Data Exploration"
      ]
    },
    {
      "cell_type": "markdown",
      "metadata": {
        "id": "KZAtMJkgFa9-"
      },
      "source": [
        "## Rainfall data"
      ]
    },
    {
      "cell_type": "code",
      "metadata": {
        "colab": {
          "base_uri": "https://localhost:8080/",
          "height": 423
        },
        "id": "8jxtkQKEFUAl",
        "outputId": "2616b6ab-8e6a-4664-b0a6-26b4452fdc15"
      },
      "source": [
        "rainfall_df"
      ],
      "execution_count": 123,
      "outputs": [
        {
          "output_type": "execute_result",
          "data": {
            "text/html": [
              "\n",
              "  <div id=\"df-2bbe7538-3aae-442f-88e9-ebdc003b6581\">\n",
              "    <div class=\"colab-df-container\">\n",
              "      <div>\n",
              "<style scoped>\n",
              "    .dataframe tbody tr th:only-of-type {\n",
              "        vertical-align: middle;\n",
              "    }\n",
              "\n",
              "    .dataframe tbody tr th {\n",
              "        vertical-align: top;\n",
              "    }\n",
              "\n",
              "    .dataframe thead th {\n",
              "        text-align: right;\n",
              "    }\n",
              "</style>\n",
              "<table border=\"1\" class=\"dataframe\">\n",
              "  <thead>\n",
              "    <tr style=\"text-align: right;\">\n",
              "      <th></th>\n",
              "      <th>Year</th>\n",
              "      <th>Country</th>\n",
              "      <th>ISO3</th>\n",
              "      <th>Rainfall (mm)</th>\n",
              "    </tr>\n",
              "  </thead>\n",
              "  <tbody>\n",
              "    <tr>\n",
              "      <th>0</th>\n",
              "      <td>1901</td>\n",
              "      <td>Afghanistan</td>\n",
              "      <td>AFG</td>\n",
              "      <td>250.92364</td>\n",
              "    </tr>\n",
              "    <tr>\n",
              "      <th>1</th>\n",
              "      <td>1901</td>\n",
              "      <td>Albania</td>\n",
              "      <td>ALB</td>\n",
              "      <td>1244.13740</td>\n",
              "    </tr>\n",
              "    <tr>\n",
              "      <th>2</th>\n",
              "      <td>1901</td>\n",
              "      <td>Algeria</td>\n",
              "      <td>DZA</td>\n",
              "      <td>113.45278</td>\n",
              "    </tr>\n",
              "    <tr>\n",
              "      <th>3</th>\n",
              "      <td>1901</td>\n",
              "      <td>Andorra</td>\n",
              "      <td>AND</td>\n",
              "      <td>871.31150</td>\n",
              "    </tr>\n",
              "    <tr>\n",
              "      <th>4</th>\n",
              "      <td>1901</td>\n",
              "      <td>Angola</td>\n",
              "      <td>AGO</td>\n",
              "      <td>931.01022</td>\n",
              "    </tr>\n",
              "    <tr>\n",
              "      <th>...</th>\n",
              "      <td>...</td>\n",
              "      <td>...</td>\n",
              "      <td>...</td>\n",
              "      <td>...</td>\n",
              "    </tr>\n",
              "    <tr>\n",
              "      <th>22731</th>\n",
              "      <td>2016</td>\n",
              "      <td>Venezuela</td>\n",
              "      <td>VEN</td>\n",
              "      <td>1844.70330</td>\n",
              "    </tr>\n",
              "    <tr>\n",
              "      <th>22732</th>\n",
              "      <td>2016</td>\n",
              "      <td>Vietnam</td>\n",
              "      <td>VNM</td>\n",
              "      <td>1988.86180</td>\n",
              "    </tr>\n",
              "    <tr>\n",
              "      <th>22733</th>\n",
              "      <td>2016</td>\n",
              "      <td>Yemen</td>\n",
              "      <td>YEM</td>\n",
              "      <td>171.48137</td>\n",
              "    </tr>\n",
              "    <tr>\n",
              "      <th>22734</th>\n",
              "      <td>2016</td>\n",
              "      <td>Zambia</td>\n",
              "      <td>ZMB</td>\n",
              "      <td>803.47810</td>\n",
              "    </tr>\n",
              "    <tr>\n",
              "      <th>22735</th>\n",
              "      <td>2016</td>\n",
              "      <td>Zimbabwe</td>\n",
              "      <td>ZWE</td>\n",
              "      <td>455.13295</td>\n",
              "    </tr>\n",
              "  </tbody>\n",
              "</table>\n",
              "<p>22736 rows × 4 columns</p>\n",
              "</div>\n",
              "      <button class=\"colab-df-convert\" onclick=\"convertToInteractive('df-2bbe7538-3aae-442f-88e9-ebdc003b6581')\"\n",
              "              title=\"Convert this dataframe to an interactive table.\"\n",
              "              style=\"display:none;\">\n",
              "        \n",
              "  <svg xmlns=\"http://www.w3.org/2000/svg\" height=\"24px\"viewBox=\"0 0 24 24\"\n",
              "       width=\"24px\">\n",
              "    <path d=\"M0 0h24v24H0V0z\" fill=\"none\"/>\n",
              "    <path d=\"M18.56 5.44l.94 2.06.94-2.06 2.06-.94-2.06-.94-.94-2.06-.94 2.06-2.06.94zm-11 1L8.5 8.5l.94-2.06 2.06-.94-2.06-.94L8.5 2.5l-.94 2.06-2.06.94zm10 10l.94 2.06.94-2.06 2.06-.94-2.06-.94-.94-2.06-.94 2.06-2.06.94z\"/><path d=\"M17.41 7.96l-1.37-1.37c-.4-.4-.92-.59-1.43-.59-.52 0-1.04.2-1.43.59L10.3 9.45l-7.72 7.72c-.78.78-.78 2.05 0 2.83L4 21.41c.39.39.9.59 1.41.59.51 0 1.02-.2 1.41-.59l7.78-7.78 2.81-2.81c.8-.78.8-2.07 0-2.86zM5.41 20L4 18.59l7.72-7.72 1.47 1.35L5.41 20z\"/>\n",
              "  </svg>\n",
              "      </button>\n",
              "      \n",
              "  <style>\n",
              "    .colab-df-container {\n",
              "      display:flex;\n",
              "      flex-wrap:wrap;\n",
              "      gap: 12px;\n",
              "    }\n",
              "\n",
              "    .colab-df-convert {\n",
              "      background-color: #E8F0FE;\n",
              "      border: none;\n",
              "      border-radius: 50%;\n",
              "      cursor: pointer;\n",
              "      display: none;\n",
              "      fill: #1967D2;\n",
              "      height: 32px;\n",
              "      padding: 0 0 0 0;\n",
              "      width: 32px;\n",
              "    }\n",
              "\n",
              "    .colab-df-convert:hover {\n",
              "      background-color: #E2EBFA;\n",
              "      box-shadow: 0px 1px 2px rgba(60, 64, 67, 0.3), 0px 1px 3px 1px rgba(60, 64, 67, 0.15);\n",
              "      fill: #174EA6;\n",
              "    }\n",
              "\n",
              "    [theme=dark] .colab-df-convert {\n",
              "      background-color: #3B4455;\n",
              "      fill: #D2E3FC;\n",
              "    }\n",
              "\n",
              "    [theme=dark] .colab-df-convert:hover {\n",
              "      background-color: #434B5C;\n",
              "      box-shadow: 0px 1px 3px 1px rgba(0, 0, 0, 0.15);\n",
              "      filter: drop-shadow(0px 1px 2px rgba(0, 0, 0, 0.3));\n",
              "      fill: #FFFFFF;\n",
              "    }\n",
              "  </style>\n",
              "\n",
              "      <script>\n",
              "        const buttonEl =\n",
              "          document.querySelector('#df-2bbe7538-3aae-442f-88e9-ebdc003b6581 button.colab-df-convert');\n",
              "        buttonEl.style.display =\n",
              "          google.colab.kernel.accessAllowed ? 'block' : 'none';\n",
              "\n",
              "        async function convertToInteractive(key) {\n",
              "          const element = document.querySelector('#df-2bbe7538-3aae-442f-88e9-ebdc003b6581');\n",
              "          const dataTable =\n",
              "            await google.colab.kernel.invokeFunction('convertToInteractive',\n",
              "                                                     [key], {});\n",
              "          if (!dataTable) return;\n",
              "\n",
              "          const docLinkHtml = 'Like what you see? Visit the ' +\n",
              "            '<a target=\"_blank\" href=https://colab.research.google.com/notebooks/data_table.ipynb>data table notebook</a>'\n",
              "            + ' to learn more about interactive tables.';\n",
              "          element.innerHTML = '';\n",
              "          dataTable['output_type'] = 'display_data';\n",
              "          await google.colab.output.renderOutput(dataTable, element);\n",
              "          const docLink = document.createElement('div');\n",
              "          docLink.innerHTML = docLinkHtml;\n",
              "          element.appendChild(docLink);\n",
              "        }\n",
              "      </script>\n",
              "    </div>\n",
              "  </div>\n",
              "  "
            ],
            "text/plain": [
              "       Year      Country ISO3  Rainfall (mm)\n",
              "0      1901  Afghanistan  AFG      250.92364\n",
              "1      1901      Albania  ALB     1244.13740\n",
              "2      1901      Algeria  DZA      113.45278\n",
              "3      1901      Andorra  AND      871.31150\n",
              "4      1901       Angola  AGO      931.01022\n",
              "...     ...          ...  ...            ...\n",
              "22731  2016    Venezuela  VEN     1844.70330\n",
              "22732  2016      Vietnam  VNM     1988.86180\n",
              "22733  2016        Yemen  YEM      171.48137\n",
              "22734  2016       Zambia  ZMB      803.47810\n",
              "22735  2016     Zimbabwe  ZWE      455.13295\n",
              "\n",
              "[22736 rows x 4 columns]"
            ]
          },
          "metadata": {},
          "execution_count": 123
        }
      ]
    },
    {
      "cell_type": "code",
      "metadata": {
        "colab": {
          "base_uri": "https://localhost:8080/",
          "height": 280
        },
        "id": "G1adPsnAFdZA",
        "outputId": "db77121f-682e-40ea-9c8f-e98fac3da634"
      },
      "source": [
        "rainfall_df.loc[rainfall_df['Country'] == 'Germany'].groupby('Year').mean().plot()\n",
        "plt.show()"
      ],
      "execution_count": 124,
      "outputs": [
        {
          "output_type": "display_data",
          "data": {
            "image/png": "[encoded data removed]",
            "text/plain": [
              "<Figure size 432x288 with 1 Axes>"
            ]
          },
          "metadata": {
            "needs_background": "light"
          }
        }
      ]
    },
    {
      "cell_type": "code",
      "metadata": {
        "colab": {
          "base_uri": "https://localhost:8080/",
          "height": 589
        },
        "id": "xrVxLmGAGLpc",
        "outputId": "f33a453b-610e-48ac-8f8e-0dac762d6db5"
      },
      "source": [
        "# prepare data\n",
        "temp_data = rainfall_df.groupby('Year').mean()\n",
        "\n",
        "# plot data\n",
        "fig, ax = plt.subplots(figsize=(15,9))\n",
        "fig.suptitle('Mean rainfall in mm across all countries between 1901 and 2016')\n",
        "\n",
        "temp_data.plot(ax=ax)\n",
        "\n",
        "ax.set_ylabel('Mean Value across all countries')\n",
        "ax.set_xlabel('Year')\n",
        "\n",
        "plt.show()"
      ],
      "execution_count": 125,
      "outputs": [
        {
          "output_type": "display_data",
          "data": {
            "image/png": "[encoded data removed]",
            "text/plain": [
              "<Figure size 1080x648 with 1 Axes>"
            ]
          },
          "metadata": {
            "needs_background": "light"
          }
        }
      ]
    },
    {
      "cell_type": "markdown",
      "metadata": {
        "id": "Zl2_apDhGToD"
      },
      "source": [
        "## Temperature data"
      ]
    },
    {
      "cell_type": "code",
      "metadata": {
        "colab": {
          "base_uri": "https://localhost:8080/",
          "height": 279
        },
        "id": "DL6l6KmeGVkm",
        "outputId": "b87a0577-c00d-4d8f-cf7e-9943e2741561"
      },
      "source": [
        "temperature_df.loc[temperature_df['Country'] == 'Germany'].groupby('Year').mean().plot()\n",
        "plt.show()"
      ],
      "execution_count": 126,
      "outputs": [
        {
          "output_type": "display_data",
          "data": {
            "image/png": "[encoded data removed]",
            "text/plain": [
              "<Figure size 432x288 with 1 Axes>"
            ]
          },
          "metadata": {
            "needs_background": "light"
          }
        }
      ]
    },
    {
      "cell_type": "code",
      "metadata": {
        "colab": {
          "base_uri": "https://localhost:8080/",
          "height": 586
        },
        "id": "FHJk_2hEGXTV",
        "outputId": "257b9a9f-54dd-4dff-92bc-600d2bfce053"
      },
      "source": [
        "# prepare data\n",
        "temp_data = temperature_df.groupby('Year').mean()\n",
        "\n",
        "# plot data\n",
        "fig, ax = plt.subplots(figsize=(15,9))\n",
        "fig.suptitle('Mean temperature in celsius across all countries between 1901 and 2016')\n",
        "\n",
        "temp_data.plot(ax=ax)\n",
        "\n",
        "ax.set_ylabel('Mean Value across all countries')\n",
        "ax.set_xlabel('Year')\n",
        "\n",
        "plt.show()"
      ],
      "execution_count": 127,
      "outputs": [
        {
          "output_type": "display_data",
          "data": {
            "image/png": "[encoded data removed]",
            "text/plain": [
              "<Figure size 1080x648 with 1 Axes>"
            ]
          },
          "metadata": {
            "needs_background": "light"
          }
        }
      ]
    },
    {
      "cell_type": "markdown",
      "metadata": {
        "id": "XgRq9T6pGhFT"
      },
      "source": [
        "## Yield data"
      ]
    },
    {
      "cell_type": "code",
      "metadata": {
        "colab": {
          "base_uri": "https://localhost:8080/",
          "height": 581
        },
        "id": "sriIypQZAnDo",
        "outputId": "01a92a18-c7d3-4be3-c013-8281508619e6"
      },
      "source": [
        "# prepare data\n",
        "yield_mean = yield_data.groupby(['Year', 'Item']).mean()\n",
        "\n",
        "# plot data\n",
        "fig, ax = plt.subplots(figsize=(15,9))\n",
        "fig.suptitle('Mean harvested value across all countries between 1961 and 2019')\n",
        "\n",
        "yield_mean['Value'].unstack().plot(ax=ax)\n",
        "\n",
        "ax.set_ylabel('Mean Value across all countries')\n",
        "ax.set_xlabel('Year')\n",
        "\n",
        "plt.show()"
      ],
      "execution_count": 128,
      "outputs": [
        {
          "output_type": "display_data",
          "data": {
            "image/png": "[encoded data removed]",
            "text/plain": [
              "<Figure size 1080x648 with 1 Axes>"
            ]
          },
          "metadata": {
            "needs_background": "light"
          }
        }
      ]
    },
    {
      "cell_type": "code",
      "metadata": {
        "colab": {
          "base_uri": "https://localhost:8080/",
          "height": 589
        },
        "id": "hlMJJJ7aBaax",
        "outputId": "6c679971-b617-4d75-bd87-d09a690d6c68"
      },
      "source": [
        "fig, axs = plt.subplots(1,1, figsize=(15,9))\n",
        "fig.suptitle('Frequency Count', size=30)\n",
        "\n",
        "temp_df = yield_data['Item'].value_counts().to_frame().reset_index()\n",
        "g = sns.barplot(x='index', y='Item', data=temp_df, orient='v', ax=axs)\n",
        "\n",
        "for index, row in temp_df.iterrows():\n",
        "    g.text(row.name,row.Item + 100, row.Item, color='black', ha=\"center\")\n",
        "\n",
        "axs.set_xlabel('Item')\n",
        "axs.set_ylabel('Count')\n",
        "\n",
        "fig.show()"
      ],
      "execution_count": 129,
      "outputs": [
        {
          "output_type": "display_data",
          "data": {
            "image/png": "[encoded data removed]",
            "text/plain": [
              "<Figure size 1080x648 with 1 Axes>"
            ]
          },
          "metadata": {
            "needs_background": "light"
          }
        }
      ]
    },
    {
      "cell_type": "markdown",
      "metadata": {
        "id": "K2-6G4AsGtfm"
      },
      "source": [
        "## Pesticide data"
      ]
    },
    {
      "cell_type": "code",
      "metadata": {
        "colab": {
          "base_uri": "https://localhost:8080/",
          "height": 279
        },
        "id": "UEM8uOkTG8SS",
        "outputId": "97213844-0c94-4993-b44a-07c8efe76e60"
      },
      "source": [
        "pesticides_df.loc[temperature_df['Country'] == 'Germany'].groupby('Year').mean().plot()\n",
        "plt.show()"
      ],
      "execution_count": 130,
      "outputs": [
        {
          "output_type": "display_data",
          "data": {
            "image/png": "[encoded data removed]",
            "text/plain": [
              "<Figure size 432x288 with 1 Axes>"
            ]
          },
          "metadata": {
            "needs_background": "light"
          }
        }
      ]
    },
    {
      "cell_type": "code",
      "metadata": {
        "colab": {
          "base_uri": "https://localhost:8080/",
          "height": 585
        },
        "id": "LglnRaKwHtRL",
        "outputId": "f543a71c-4946-4fa4-cfc2-f2bbe466b21f"
      },
      "source": [
        "# prepare data\n",
        "temp_data = pesticides_df.groupby('Year').mean()\n",
        "\n",
        "# plot data\n",
        "fig, ax = plt.subplots(figsize=(15,9))\n",
        "fig.suptitle('Mean pesticide usage in tonnes across all countries between 1990 and 2018')\n",
        "\n",
        "temp_data.plot(ax=ax)\n",
        "\n",
        "ax.set_ylabel('Mean Value across all countries')\n",
        "ax.set_xlabel('Year')\n",
        "\n",
        "plt.show()"
      ],
      "execution_count": 131,
      "outputs": [
        {
          "output_type": "display_data",
          "data": {
            "image/png": "[encoded data removed]",
            "text/plain": [
              "<Figure size 1080x648 with 1 Axes>"
            ]
          },
          "metadata": {
            "needs_background": "light"
          }
        }
      ]
    },
    {
      "cell_type": "markdown",
      "metadata": {
        "id": "ZSZPFIsTGnPX"
      },
      "source": [
        "## Merged data"
      ]
    },
    {
      "cell_type": "code",
      "metadata": {
        "colab": {
          "base_uri": "https://localhost:8080/",
          "height": 581
        },
        "id": "3ycaV9SFGoev",
        "outputId": "6d7692ca-4303-4685-b6f5-4f99c33e997a"
      },
      "source": [
        "# prepare data\n",
        "temp_data = data.groupby(['Year', 'Item']).mean()\n",
        "\n",
        "# plot data\n",
        "fig, ax = plt.subplots(figsize=(15,9))\n",
        "fig.suptitle('Mean harvested value across all countries between 1961 and 2019')\n",
        "\n",
        "temp_data['Yield (hg/ha)'].unstack().plot(ax=ax)\n",
        "\n",
        "ax.set_ylabel('Mean Value across all countries')\n",
        "ax.set_xlabel('Year')\n",
        "\n",
        "plt.show()"
      ],
      "execution_count": 132,
      "outputs": [
        {
          "output_type": "display_data",
          "data": {
            "image/png": "[encoded data removed]",
            "text/plain": [
              "<Figure size 1080x648 with 1 Axes>"
            ]
          },
          "metadata": {
            "needs_background": "light"
          }
        }
      ]
    },
    {
      "cell_type": "code",
      "metadata": {
        "colab": {
          "base_uri": "https://localhost:8080/",
          "height": 589
        },
        "id": "b1IrcZN7Gp3b",
        "outputId": "d9bf026b-5c34-4d57-b004-21f7df16ea6e"
      },
      "source": [
        "fig, axs = plt.subplots(1,1, figsize=(15,9))\n",
        "fig.suptitle('Frequency Count', size=30)\n",
        "\n",
        "temp_df = data['Item'].value_counts().to_frame().reset_index()\n",
        "g = sns.barplot(x='index', y='Item', data=temp_df, orient='v', ax=axs)\n",
        "\n",
        "for index, row in temp_df.iterrows():\n",
        "    g.text(row.name,row.Item + 50, row.Item, color='black', ha=\"center\")\n",
        "\n",
        "axs.set_xlabel('Item')\n",
        "axs.set_ylabel('Count')\n",
        "\n",
        "fig.show()"
      ],
      "execution_count": 133,
      "outputs": [
        {
          "output_type": "display_data",
          "data": {
            "image/png": "[encoded data removed]",
            "text/plain": [
              "<Figure size 1080x648 with 1 Axes>"
            ]
          },
          "metadata": {
            "needs_background": "light"
          }
        }
      ]
    },
    {
      "cell_type": "code",
      "metadata": {
        "colab": {
          "base_uri": "https://localhost:8080/",
          "height": 637
        },
        "id": "ieZAae032mYt",
        "outputId": "7c979241-ab8b-4b55-ce55-23a25b33f44e"
      },
      "source": [
        "corr = data.select_dtypes(include=[np.number]).corr()\n",
        "\n",
        "mask = np.zeros_like(corr, dtype=np.bool)\n",
        "mask[np.triu_indices_from(mask)] = True\n",
        "\n",
        "f, ax = plt.subplots(figsize=(11, 9))\n",
        "\n",
        "# Generate a custom diverging colormap\n",
        "cmap = sns.palette=\"vlag\"\n",
        "\n",
        "# Draw the heatmap with the mask and correct aspect ratio\n",
        "sns.heatmap(corr, mask=mask, cmap=cmap, vmax=.3, center=0,\n",
        "            square=True, linewidths=.5, cbar_kws={\"shrink\": .5});"
      ],
      "execution_count": 134,
      "outputs": [
        {
          "output_type": "display_data",
          "data": {
            "image/png": "[encoded data removed]",
            "text/plain": [
              "<Figure size 792x648 with 2 Axes>"
            ]
          },
          "metadata": {
            "needs_background": "light"
          }
        }
      ]
    },
    {
      "cell_type": "code",
      "metadata": {
        "id": "vZovFF7GYqLU",
        "outputId": "d50875f6-590b-435c-928e-aed700b6f897",
        "colab": {
          "base_uri": "https://localhost:8080/",
          "height": 186
        }
      },
      "source": [
        "plt.figure(figsize=(20,3))\n",
        "\n",
        "plt.subplot(1,2,1)\n",
        "sns.boxplot(x=data['Yield (hg/ha)'],color='#005030')\n",
        "plt.title(f'Box Plot of Preis')\n",
        "\n",
        "plt.subplot(1,2,2)\n",
        "sns.histplot(x=data['Yield (hg/ha)'], color='#500050', kde=True)\n",
        "plt.title(f'Distribution Plot of Preis')\n",
        "plt.show()"
      ],
      "execution_count": 135,
      "outputs": [
        {
          "output_type": "display_data",
          "data": {
            "image/png": "[encoded data removed]",
            "text/plain": [
              "<Figure size 1440x216 with 2 Axes>"
            ]
          },
          "metadata": {
            "needs_background": "light"
          }
        }
      ]
    },
    {
      "cell_type": "markdown",
      "metadata": {
        "id": "GM8b-vOJ3T-C"
      },
      "source": [
        "# Data Preprocessing"
      ]
    },
    {
      "cell_type": "markdown",
      "metadata": {
        "id": "Db0QImn6ELWm"
      },
      "source": [
        "## One Hot Encoding"
      ]
    },
    {
      "cell_type": "code",
      "metadata": {
        "colab": {
          "base_uri": "https://localhost:8080/"
        },
        "id": "F6Qbjvp5EODk",
        "outputId": "b8a497f1-48f2-4ea8-9902-4cf648bf5a3c"
      },
      "source": [
        "data.shape"
      ],
      "execution_count": 136,
      "outputs": [
        {
          "output_type": "execute_result",
          "data": {
            "text/plain": [
              "(25229, 7)"
            ]
          },
          "metadata": {},
          "execution_count": 136
        }
      ]
    },
    {
      "cell_type": "code",
      "metadata": {
        "id": "fzm584773Xwi"
      },
      "source": [
        "from sklearn.preprocessing import OneHotEncoder\n",
        "\n",
        "df_onehot = pd.get_dummies(data, columns=['Country', 'Item'], prefix=['Country', 'Item'])\n",
        "data = df_onehot.loc[:, df_onehot.columns != 'Yield (hg/ha)']\n",
        "data['Yield (hg/ha)'] = df_onehot['Yield (hg/ha)']"
      ],
      "execution_count": 137,
      "outputs": []
    },
    {
      "cell_type": "code",
      "metadata": {
        "colab": {
          "base_uri": "https://localhost:8080/"
        },
        "id": "ezDlRPNOERrn",
        "outputId": "cc1c918e-557a-4db1-d9ca-59a56442a1d9"
      },
      "source": [
        "data.shape"
      ],
      "execution_count": 138,
      "outputs": [
        {
          "output_type": "execute_result",
          "data": {
            "text/plain": [
              "(25229, 154)"
            ]
          },
          "metadata": {},
          "execution_count": 138
        }
      ]
    },
    {
      "cell_type": "markdown",
      "metadata": {
        "id": "tkSgJZToEjcs"
      },
      "source": [
        "## Backward Elimination"
      ]
    },
    {
      "cell_type": "code",
      "metadata": {
        "colab": {
          "base_uri": "https://localhost:8080/"
        },
        "id": "huFggNCMEnmc",
        "outputId": "a92149af-83bd-4c06-ea00-cbef0dcaaf5e"
      },
      "source": [
        "data.shape"
      ],
      "execution_count": 139,
      "outputs": [
        {
          "output_type": "execute_result",
          "data": {
            "text/plain": [
              "(25229, 154)"
            ]
          },
          "metadata": {},
          "execution_count": 139
        }
      ]
    },
    {
      "cell_type": "code",
      "metadata": {
        "id": "QHHjkPqnEptL"
      },
      "source": [
        "import statsmodels.api as sm\n",
        "\n",
        "y = data['Yield (hg/ha)']\n",
        "X = data.drop('Yield (hg/ha)', axis=1)\n",
        "\n",
        "cols = list(X.columns)\n",
        "pmax = 1\n",
        "while (len(cols)>0):\n",
        "    p = []\n",
        "    X_1 = X[cols]\n",
        "    X_1 = sm.add_constant(X_1)\n",
        "    model = sm.OLS(y,X_1).fit()\n",
        "    p = pd.Series(model.pvalues.values[1:], index = cols)      \n",
        "    pmax = max(p)\n",
        "    feature_with_p_max = p.idxmax()\n",
        "    if(pmax>0.05):\n",
        "        cols.remove(feature_with_p_max)\n",
        "    else:\n",
        "        break\n",
        "\n",
        "data = data[cols]\n",
        "data.insert(len(data.columns), 'Yield (hg/ha)', y)"
      ],
      "execution_count": 140,
      "outputs": []
    },
    {
      "cell_type": "code",
      "metadata": {
        "colab": {
          "base_uri": "https://localhost:8080/"
        },
        "id": "cBNLUFuPE0Wa",
        "outputId": "ada0e59a-ad00-42c1-879c-fd4b2cceb443"
      },
      "source": [
        "data.shape"
      ],
      "execution_count": 141,
      "outputs": [
        {
          "output_type": "execute_result",
          "data": {
            "text/plain": [
              "(25229, 128)"
            ]
          },
          "metadata": {},
          "execution_count": 141
        }
      ]
    },
    {
      "cell_type": "markdown",
      "metadata": {
        "id": "Zu70VxZzETx3"
      },
      "source": [
        "## Removing of Outliers"
      ]
    },
    {
      "cell_type": "code",
      "metadata": {
        "colab": {
          "base_uri": "https://localhost:8080/"
        },
        "id": "sbKNgO-9EaMd",
        "outputId": "f97351df-4ac4-4f2d-e07f-5a78c2793a7c"
      },
      "source": [
        "data.shape"
      ],
      "execution_count": 142,
      "outputs": [
        {
          "output_type": "execute_result",
          "data": {
            "text/plain": [
              "(25229, 128)"
            ]
          },
          "metadata": {},
          "execution_count": 142
        }
      ]
    },
    {
      "cell_type": "code",
      "metadata": {
        "id": "4E25m1QoEbnJ"
      },
      "source": [
        "from scipy import stats\n",
        "\n",
        "y = data['Yield (hg/ha)']\n",
        "X = data.drop('Yield (hg/ha)', axis=1)\n",
        "\n",
        "z_scores = stats.zscore(X)\n",
        "abs_z_scores = np.abs(z_scores)\n",
        "\n",
        "filtered_entries = (abs_z_scores < 11).all(axis=1)\n",
        "X = X[filtered_entries]\n",
        "\n",
        "X.insert(len(X.columns), 'Yield (hg/ha)', y)\n",
        "data = X"
      ],
      "execution_count": 143,
      "outputs": []
    },
    {
      "cell_type": "code",
      "metadata": {
        "colab": {
          "base_uri": "https://localhost:8080/"
        },
        "id": "M2wF0fPeF35h",
        "outputId": "88e6f7bb-962b-4243-dd87-f8f22301c5d5"
      },
      "source": [
        "data.shape"
      ],
      "execution_count": 144,
      "outputs": [
        {
          "output_type": "execute_result",
          "data": {
            "text/plain": [
              "(18345, 128)"
            ]
          },
          "metadata": {},
          "execution_count": 144
        }
      ]
    },
    {
      "cell_type": "markdown",
      "metadata": {
        "id": "3uKaTDeD4BCy"
      },
      "source": [
        "## Feature Scaling"
      ]
    },
    {
      "cell_type": "code",
      "metadata": {
        "colab": {
          "base_uri": "https://localhost:8080/"
        },
        "id": "bN4BLCABq6qK",
        "outputId": "b9ca944b-23c5-4fad-a6bd-e27918384049"
      },
      "source": [
        "data.shape"
      ],
      "execution_count": 145,
      "outputs": [
        {
          "output_type": "execute_result",
          "data": {
            "text/plain": [
              "(18345, 128)"
            ]
          },
          "metadata": {},
          "execution_count": 145
        }
      ]
    },
    {
      "cell_type": "code",
      "metadata": {
        "id": "njKYQI9M3_Wb"
      },
      "source": [
        "from sklearn.preprocessing import MinMaxScaler\n",
        "\n",
        "y = data['Yield (hg/ha)']\n",
        "X = data.drop('Yield (hg/ha)', axis=1)\n",
        "\n",
        "scaler = MinMaxScaler()\n",
        "data_without_yield = pd.DataFrame(scaler.fit_transform(X), index=y.index)\n",
        "data_without_yield.columns = X.columns\n",
        "data_without_yield.insert(len(data_without_yield.columns), 'Yield (hg/ha)', y)\n",
        "\n",
        "data = data_without_yield"
      ],
      "execution_count": 146,
      "outputs": []
    },
    {
      "cell_type": "code",
      "metadata": {
        "colab": {
          "base_uri": "https://localhost:8080/"
        },
        "id": "WFuArBEDq7lO",
        "outputId": "b8f95c88-e9c0-4d7f-f6ca-9314af10d768"
      },
      "source": [
        "data.shape"
      ],
      "execution_count": 147,
      "outputs": [
        {
          "output_type": "execute_result",
          "data": {
            "text/plain": [
              "(18345, 128)"
            ]
          },
          "metadata": {},
          "execution_count": 147
        }
      ]
    },
    {
      "cell_type": "markdown",
      "metadata": {
        "id": "v50zqQjnGYXy"
      },
      "source": [
        "# Modeling"
      ]
    },
    {
      "cell_type": "code",
      "metadata": {
        "id": "_bdGTFeWrgDB"
      },
      "source": [
        "y = data['Yield (hg/ha)']\n",
        "X = data.drop('Yield (hg/ha)', axis=1)"
      ],
      "execution_count": 148,
      "outputs": []
    },
    {
      "cell_type": "code",
      "metadata": {
        "id": "P7_mia574S3d"
      },
      "source": [
        "from sklearn.model_selection import train_test_split\n",
        "X_train, X_test, y_train, y_test = train_test_split(X, y, test_size=0.2, random_state=42)"
      ],
      "execution_count": 149,
      "outputs": []
    },
    {
      "cell_type": "code",
      "metadata": {
        "id": "8wWdT5R2tCqL"
      },
      "source": [
        "def mean_absolute_percentage_error(y_true, y_pred): \n",
        "    y_true, y_pred = np.array(y_true), np.array(y_pred)\n",
        "    return np.mean(np.abs((y_true - y_pred) / y_true)) * 100"
      ],
      "execution_count": 150,
      "outputs": []
    },
    {
      "cell_type": "code",
      "metadata": {
        "id": "gEZNJ2UEtPSN"
      },
      "source": [
        "def plot_regression_results(ax, y_test, y_pred, title, estimated_time, scores):\n",
        "\n",
        "  # linear least-squares\n",
        "  slope, intercept, rvalue, pvalue, stderr = linregress(y_test, y_pred)\n",
        "  ax.plot([y_test.min(), y_test.max()], [intercept+y_test.min()*slope, intercept+y_test.max()*slope], '--r')\n",
        "\n",
        "  ax.scatter(y_test, y_pred, alpha=0.7)\n",
        "\n",
        "  # Anzeigen der Werte in einer Box\n",
        "  extra = plt.Rectangle((0, 0), 0, 0, fc=\"w\", fill=False,\n",
        "                          edgecolor='none', linewidth=0)\n",
        "  ax.legend([extra], [scores], loc='upper left')\n",
        "\n",
        "  ax.set_xlabel('Actual values in tonnes')\n",
        "  ax.set_ylabel('Predictes values in tonnes')\n",
        "  ax.set_title('{}\\nTrained in {:.2f} Milliseconds'.format(name, estimated_time*1000))"
      ],
      "execution_count": 151,
      "outputs": []
    },
    {
      "cell_type": "code",
      "metadata": {
        "colab": {
          "base_uri": "https://localhost:8080/"
        },
        "id": "7xA4dA6CtRsB",
        "outputId": "d7adbb52-6fcd-4785-d186-9f9a0c8dfcb8"
      },
      "source": [
        "from sklearn.metrics import mean_squared_error, r2_score, mean_absolute_error, max_error\n",
        "from sklearn.ensemble import GradientBoostingRegressor, RandomForestRegressor\n",
        "from sklearn.model_selection import cross_validate, cross_val_predict\n",
        "from sklearn.linear_model import LinearRegression, SGDRegressor\n",
        "from sklearn.model_selection import train_test_split\n",
        "from sklearn.neighbors import KNeighborsRegressor\n",
        "from sklearn.preprocessing import StandardScaler\n",
        "from sklearn.preprocessing import LabelEncoder\n",
        "from sklearn.tree import DecisionTreeRegressor\n",
        "\n",
        "import time\n",
        "from scipy.stats import linregress\n",
        "\n",
        "lin = LinearRegression()\n",
        "dtr = DecisionTreeRegressor()\n",
        "sgd = SGDRegressor(loss='squared_loss')\n",
        "gbr = GradientBoostingRegressor()\n",
        "knn = KNeighborsRegressor(n_neighbors=5)\n",
        "rfr = RandomForestRegressor()\n",
        "\n",
        "# Verwendete Regressionen\n",
        "estimators = [('Linear Regression', lin),\n",
        "              ('Decision Tree Regression', dtr),\n",
        "              ('Stochastic Gradient Descent Regression', sgd),\n",
        "              ('Gradient Boosting Regression', gbr),\n",
        "              ('K-nearest Neighbour 5', knn),\n",
        "              ('Random Forest Regression', rfr)]\n",
        "\n",
        "# Festlegen des Subplots\n",
        "fig, axs = plt.subplots(nrows=2, ncols=3, sharex=True, sharey=True, figsize=(20, 13))\n",
        "axs = np.ravel(axs)\n",
        "\n",
        "for ax, (name, est) in zip(axs, estimators):\n",
        "  start_time = time.time()\n",
        "  # Trainieren des Modelles\n",
        "  est.fit(X_train, y_train)\n",
        "  y_pred = est.predict(X_test)\n",
        "  estimated_time = time.time() - start_time\n",
        "\n",
        "  # Anzeigen des Modelles\n",
        "  plot_regression_results(ax, y_test, y_pred, name, estimated_time, \n",
        "                          (r'$R^2$ = {:.2f}' + '\\n' + \n",
        "                          r'MAE = {:.0f}' + '\\n' +\n",
        "                          r'MSE = {:.0f}' + '\\n' +\n",
        "                          r'RMSE = {:.0f}' + '\\n' +\n",
        "                          r'MAX = {:.0f}' + '\\n' +\n",
        "                          r'MAPE = {:.2f}%')\n",
        "                          .format(r2_score(y_test, y_pred),\n",
        "                                  mean_absolute_error(y_test, y_pred),\n",
        "                                  mean_squared_error(y_test, y_pred),\n",
        "                                  mean_squared_error(y_test, y_pred, squared=False),\n",
        "                                  max_error(y_test, y_pred),\n",
        "                                  mean_absolute_percentage_error(y_test, y_pred)))\n",
        "  \n",
        "plt.suptitle('Regressionsverfahren')\n",
        "plt.tight_layout()\n",
        "plt.subplots_adjust(top=0.9)\n",
        "plt.show()"
      ],
      "execution_count": null,
      "outputs": [
        {
          "output_type": "stream",
          "name": "stderr",
          "text": [
            "/usr/local/lib/python3.7/dist-packages/sklearn/linear_model/_stochastic_gradient.py:169: FutureWarning: The loss 'squared_loss' was deprecated in v1.0 and will be removed in version 1.2. Use `loss='squared_error'` which is equivalent.\n",
            "  FutureWarning,\n"
          ]
        }
      ]
    },
    {
      "cell_type": "code",
      "metadata": {
        "id": "cSceiM09tVlX"
      },
      "source": [
        "r2_values = []\n",
        "max_error_values = []\n",
        "neg_mean_absolute_error_values = []\n",
        "neg_mean_squared_error_values = []\n",
        "neg_root_mean_squared_error_values = []\n",
        "\n",
        "for name, est in estimators:\n",
        "  # Kreuzvalidierung\n",
        "  score = cross_validate(est, X_train, y_train, cv=5,\n",
        "                         scoring=['r2', 'max_error', 'neg_mean_absolute_error', 'neg_mean_squared_error', 'neg_root_mean_squared_error'],\n",
        "                         n_jobs=-1)\n",
        "\n",
        "  # Abspeichern der Werte\n",
        "  r2_values.append(score['test_r2'])\n",
        "  max_error_values.append(-score['test_max_error'])\n",
        "  neg_mean_absolute_error_values.append(-score['test_neg_mean_absolute_error'])\n",
        "  neg_mean_squared_error_values.append(-score['test_neg_mean_squared_error'])\n",
        "  neg_root_mean_squared_error_values.append(-score['test_neg_root_mean_squared_error'])\n",
        "\n",
        "# Plotten der Werte\n",
        "fig, axs = plt.subplots(nrows=1, ncols=5, figsize=(30, 5))\n",
        "\n",
        "names = ['LR', 'DTR', 'SGD', 'GBR', 'KNN', 'RFR']\n",
        "\n",
        "axs[0].boxplot(r2_values, labels=names)\n",
        "axs[0].set_title('R2')\n",
        "axs[1].boxplot(max_error_values, labels=names)\n",
        "axs[1].set_title('MAX')\n",
        "axs[2].boxplot(neg_mean_absolute_error_values, labels=names)\n",
        "axs[2].set_title('MAE')\n",
        "axs[3].boxplot(neg_mean_squared_error_values, labels=names)\n",
        "axs[3].set_title('MSE')\n",
        "axs[4].boxplot(neg_root_mean_squared_error_values, labels=names)\n",
        "axs[4].set_title('RMSE')\n",
        "\n",
        "plt.suptitle('Cross-validation')\n",
        "plt.show()"
      ],
      "execution_count": null,
      "outputs": []
    },
    {
      "cell_type": "code",
      "metadata": {
        "id": "hgQq7J0svGYY"
      },
      "source": [
        "regression = 5\n",
        "\n",
        "print(u'R²: {:.3f} \\u00B1 {:.3f}'.format(np.mean(r2_values[regression]), np.std(r2_values[regression])))\n",
        "print(u'MAX: {:,.0f} \\u00B1 {:,.0f}'.format(np.mean(max_error_values[regression]), np.std(max_error_values[regression])))\n",
        "print(u'MAE: {:,.0f} \\u00B1 {:,.0f}'.format(np.mean(neg_mean_absolute_error_values[regression]), np.std(neg_mean_absolute_error_values[regression])))\n",
        "print(u'MSE: {:,.0f} \\u00B1 {:,.0f}'.format(np.mean(neg_mean_squared_error_values[regression]), np.std(neg_mean_squared_error_values[regression])))\n",
        "print(u'RMSE: {:,.0f} \\u00B1 {:,.0f}'.format(np.mean(neg_root_mean_squared_error_values[regression]), np.std(neg_root_mean_squared_error_values[regression])))"
      ],
      "execution_count": null,
      "outputs": []
    },
    {
      "cell_type": "code",
      "metadata": {
        "id": "i55j9iQJ8fjn"
      },
      "source": [
        "from sklearn.tree import export_graphviz\n",
        "import pydot\n",
        "\n",
        "tree = rfr.estimators_[5]\n",
        "\n",
        "export_graphviz(tree, out_file = 'tree.dot', feature_names = data.columns[:-1], rounded = True, precision = 1)\n",
        "# Use dot file to create a graph\n",
        "(graph, ) = pydot.graph_from_dot_file('tree.dot')\n",
        "# Write graph to a png file\n",
        "graph.write_png('tree.png')"
      ],
      "execution_count": null,
      "outputs": []
    }
  ]
}